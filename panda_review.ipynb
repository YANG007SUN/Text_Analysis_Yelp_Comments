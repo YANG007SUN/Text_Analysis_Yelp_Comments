{
  "nbformat": 4,
  "nbformat_minor": 0,
  "metadata": {
    "colab": {
      "name": "panda_review.ipynb",
      "provenance": [],
      "collapsed_sections": []
    },
    "kernel_info": {
      "name": "python3"
    },
    "kernelspec": {
      "display_name": "Python 3",
      "language": "python",
      "name": "python3"
    },
    "language_info": {
      "codemirror_mode": {
        "name": "ipython",
        "version": 3
      },
      "file_extension": ".py",
      "mimetype": "text/x-python",
      "name": "python",
      "nbconvert_exporter": "python",
      "pygments_lexer": "ipython3",
      "version": "3.7.3"
    },
    "latex_envs": {
      "LaTeX_envs_menu_present": true,
      "autoclose": false,
      "autocomplete": true,
      "bibliofile": "biblio.bib",
      "cite_by": "apalike",
      "current_citInitial": 1,
      "eqLabelWithNumbers": true,
      "eqNumInitial": 1,
      "hotkeys": {
        "equation": "Ctrl-E",
        "itemize": "Ctrl-I"
      },
      "labels_anchors": false,
      "latex_user_defs": false,
      "report_style_numbering": false,
      "user_envs_cfg": false
    },
    "nteract": {
      "version": "0.11.2"
    },
    "varInspector": {
      "cols": {
        "lenName": 16,
        "lenType": 16,
        "lenVar": 40
      },
      "kernels_config": {
        "python": {
          "delete_cmd_postfix": "",
          "delete_cmd_prefix": "del ",
          "library": "var_list.py",
          "varRefreshCmd": "print(var_dic_list())"
        },
        "r": {
          "delete_cmd_postfix": ") ",
          "delete_cmd_prefix": "rm(",
          "library": "var_list.r",
          "varRefreshCmd": "cat(var_dic_list()) "
        }
      },
      "types_to_exclude": [
        "module",
        "function",
        "builtin_function_or_method",
        "instance",
        "_Feature"
      ],
      "window_display": false
    }
  },
  "cells": [
    {
      "cell_type": "code",
      "metadata": {
        "colab_type": "code",
        "id": "rUVgL1wNNajZ",
        "colab": {
          "base_uri": "https://localhost:8080/",
          "height": 391
        },
        "outputId": "e87b5f83-d702-463c-b45d-365c5a1e88c9"
      },
      "source": [
        "import os\n",
        "# Find the latest version of spark 2.0  from http://www-us.apache.org/dist/spark/ and enter as the spark version\n",
        "# For example:\n",
        "spark_version = 'spark-2.4.7'\n",
        "# spark_version = 'spark-2.<enter version>'\n",
        "os.environ['SPARK_VERSION']=spark_version\n",
        "\n",
        "# Install Spark and Java\n",
        "!apt-get update\n",
        "!apt-get install openjdk-8-jdk-headless -qq > /dev/null\n",
        "!wget -q http://www-us.apache.org/dist/spark/$SPARK_VERSION/$SPARK_VERSION-bin-hadoop2.7.tgz\n",
        "!tar xf $SPARK_VERSION-bin-hadoop2.7.tgz\n",
        "!pip install -q findspark\n",
        "\n",
        "# Set Environment Variables\n",
        "os.environ[\"JAVA_HOME\"] = \"/usr/lib/jvm/java-8-openjdk-amd64\"\n",
        "os.environ[\"SPARK_HOME\"] = f\"/content/{spark_version}-bin-hadoop2.7\"\n",
        "\n",
        "# Start a SparkSession\n",
        "import findspark\n",
        "findspark.init()"
      ],
      "execution_count": 2,
      "outputs": [
        {
          "output_type": "stream",
          "text": [
            "\r0% [Working]\r            \rIgn:1 https://developer.download.nvidia.com/compute/cuda/repos/ubuntu1804/x86_64  InRelease\n",
            "\r0% [Connecting to archive.ubuntu.com (91.189.88.142)] [Connecting to security.u\r                                                                               \rGet:2 https://cloud.r-project.org/bin/linux/ubuntu bionic-cran35/ InRelease [3,626 B]\n",
            "\r0% [Connecting to archive.ubuntu.com (91.189.88.142)] [Connecting to security.u\r0% [Connecting to archive.ubuntu.com (91.189.88.142)] [Connecting to security.u\r0% [2 InRelease gpgv 3,626 B] [Connecting to archive.ubuntu.com (91.189.88.142)\r                                                                               \rIgn:3 https://developer.download.nvidia.com/compute/machine-learning/repos/ubuntu1804/x86_64  InRelease\n",
            "\r0% [2 InRelease gpgv 3,626 B] [Connecting to archive.ubuntu.com (91.189.88.142)\r                                                                               \rHit:4 https://developer.download.nvidia.com/compute/cuda/repos/ubuntu1804/x86_64  Release\n",
            "Hit:5 https://developer.download.nvidia.com/compute/machine-learning/repos/ubuntu1804/x86_64  Release\n",
            "Get:6 http://security.ubuntu.com/ubuntu bionic-security InRelease [88.7 kB]\n",
            "Hit:7 http://ppa.launchpad.net/graphics-drivers/ppa/ubuntu bionic InRelease\n",
            "Hit:8 http://archive.ubuntu.com/ubuntu bionic InRelease\n",
            "Get:9 http://archive.ubuntu.com/ubuntu bionic-updates InRelease [88.7 kB]\n",
            "Get:10 http://ppa.launchpad.net/marutter/c2d4u3.5/ubuntu bionic InRelease [15.4 kB]\n",
            "Get:13 http://archive.ubuntu.com/ubuntu bionic-backports InRelease [74.6 kB]\n",
            "Get:14 http://ppa.launchpad.net/marutter/c2d4u3.5/ubuntu bionic/main Sources [1,876 kB]\n",
            "Get:15 http://security.ubuntu.com/ubuntu bionic-security/universe amd64 Packages [905 kB]\n",
            "Get:16 http://archive.ubuntu.com/ubuntu bionic-updates/restricted amd64 Packages [146 kB]\n",
            "Get:17 http://archive.ubuntu.com/ubuntu bionic-updates/main amd64 Packages [1,404 kB]\n",
            "Get:18 http://security.ubuntu.com/ubuntu bionic-security/main amd64 Packages [1,113 kB]\n",
            "Get:19 http://security.ubuntu.com/ubuntu bionic-security/restricted amd64 Packages [126 kB]\n",
            "Get:20 http://archive.ubuntu.com/ubuntu bionic-updates/multiverse amd64 Packages [34.0 kB]\n",
            "Get:21 http://archive.ubuntu.com/ubuntu bionic-updates/universe amd64 Packages [1,435 kB]\n",
            "Get:22 http://ppa.launchpad.net/marutter/c2d4u3.5/ubuntu bionic/main amd64 Packages [906 kB]\n",
            "Fetched 8,216 kB in 4s (2,068 kB/s)\n",
            "Reading package lists... Done\n"
          ],
          "name": "stdout"
        }
      ]
    },
    {
      "cell_type": "code",
      "metadata": {
        "id": "SgU4F-jLroKw",
        "colab_type": "code",
        "colab": {}
      },
      "source": [
        "# Start Spark session\n",
        "from pyspark.sql import SparkSession\n",
        "spark = SparkSession.builder.appName(\"NaiveBayes\").getOrCreate()"
      ],
      "execution_count": 3,
      "outputs": []
    },
    {
      "cell_type": "code",
      "metadata": {
        "colab_type": "code",
        "id": "qnI0zdY5NYCJ",
        "colab": {
          "base_uri": "https://localhost:8080/",
          "height": 799
        },
        "outputId": "104e28f4-fca7-4d40-8a12-ca0c6a3f243e"
      },
      "source": [
        "# Read in data from S3 Buckets\n",
        "from pyspark import SparkFiles\n",
        "url =\"https://usc-bootcamp-yelpreview-text-analysis.s3.us-east-2.amazonaws.com/reviews.csv\"\n",
        "spark.sparkContext.addFile(url)\n",
        "panda_df = spark.read.csv(SparkFiles.get(\"reviews.csv\"), sep=\",\", header=True)\n",
        "\n",
        "# Show DataFrame\n",
        "panda_df.show(40)"
      ],
      "execution_count": 4,
      "outputs": [
        {
          "output_type": "stream",
          "text": [
            "+--------------------+-------------+------------+\n",
            "|             reviews|       rating|review_count|\n",
            "+--------------------+-------------+------------+\n",
            "|Panda Express was...|5 star rating|          63|\n",
            "|The dude and I ca...|5 star rating|          63|\n",
            "|I ordered 5 total...|1 star rating|          63|\n",
            "|I always order Pa...|3 star rating|          63|\n",
            "|Decided to try Pa...|5 star rating|          63|\n",
            "|I've never had a ...|4 star rating|          63|\n",
            "|The family meal d...|1 star rating|          63|\n",
            "|Quality has sever...|2 star rating|          63|\n",
            "|Paid for a bowl a...|1 star rating|          63|\n",
            "|Order a bowl with...|1 star rating|          63|\n",
            "|Went through the ...|1 star rating|          63|\n",
            "|When I think of p...|2 star rating|          63|\n",
            "|Horrible is a und...|1 star rating|          63|\n",
            "|Yes the drive thr...|2 star rating|          63|\n",
            "|Okay..so Panda is...|4 star rating|          63|\n",
            "|Going through Dri...|2 star rating|          63|\n",
            "|My entrees were a...|2 star rating|          63|\n",
            "|I'm done being ri...|1 star rating|          63|\n",
            "|Worst Panda in Fr...|1 star rating|          63|\n",
            "|I've been in here...|5 star rating|          63|\n",
            "|Appears that this...|2 star rating|          12|\n",
            "|Your an Alien in ...|3 star rating|          12|\n",
            "|Horrible attitude...|1 star rating|          12|\n",
            "|Just so disappoin...|1 star rating|          12|\n",
            "|We go here freque...|5 star rating|          12|\n",
            "|Waited for my ord...|1 star rating|          12|\n",
            "|Came here just pa...|4 star rating|          12|\n",
            "|Unfortunately cou...|1 star rating|          12|\n",
            "|\"Hit this place t...|1 star rating|          12|\n",
            "|Went earlier this...|1 star rating|          12|\n",
            "|Would not cook ad...|1 star rating|          12|\n",
            "|The best fast foo...|5 star rating|          12|\n",
            "|11/24/19Hey Broad...|5 star rating|          27|\n",
            "|\"I was denied foo...|1 star rating|          27|\n",
            "|Came here on a Th...|3 star rating|          27|\n",
            "|Great stuff. Flav...|4 star rating|          27|\n",
            "|This is a dependa...|5 star rating|          27|\n",
            "|You either get a ...|4 star rating|          27|\n",
            "|Jannet and Iris a...|5 star rating|          27|\n",
            "|Musty no customer...|1 star rating|          27|\n",
            "+--------------------+-------------+------------+\n",
            "only showing top 40 rows\n",
            "\n"
          ],
          "name": "stdout"
        }
      ]
    },
    {
      "cell_type": "code",
      "metadata": {
        "id": "-NPurnGvvbQI",
        "colab_type": "code",
        "colab": {
          "base_uri": "https://localhost:8080/",
          "height": 459
        },
        "outputId": "82d8c71c-8767-4695-92d9-ed89de42eda3"
      },
      "source": [
        "# panda_df=panda_df.withColumn('ratings', panda_df['rating'])\n",
        "# panda_df.show()"
      ],
      "execution_count": 20,
      "outputs": [
        {
          "output_type": "stream",
          "text": [
            "+---+--------------------+-------------+------------+-------------+\n",
            "|_c0|             reviews|       rating|review_count|      ratings|\n",
            "+---+--------------------+-------------+------------+-------------+\n",
            "|  0|Panda Express was...|5 star rating|          63|5 star rating|\n",
            "|  1|The dude and I ca...|5 star rating|          63|5 star rating|\n",
            "|  2|I ordered 5 total...|1 star rating|          63|1 star rating|\n",
            "|  3|I always order Pa...|3 star rating|          63|3 star rating|\n",
            "|  4|Decided to try Pa...|5 star rating|          63|5 star rating|\n",
            "|  5|I've never had a ...|4 star rating|          63|4 star rating|\n",
            "|  6|The family meal d...|1 star rating|          63|1 star rating|\n",
            "|  7|Quality has sever...|2 star rating|          63|2 star rating|\n",
            "|  8|Paid for a bowl a...|1 star rating|          63|1 star rating|\n",
            "|  9|Order a bowl with...|1 star rating|          63|1 star rating|\n",
            "| 10|Went through the ...|1 star rating|          63|1 star rating|\n",
            "| 11|When I think of p...|2 star rating|          63|2 star rating|\n",
            "| 12|Horrible is a und...|1 star rating|          63|1 star rating|\n",
            "| 13|Yes the drive thr...|2 star rating|          63|2 star rating|\n",
            "| 14|Okay..so Panda is...|4 star rating|          63|4 star rating|\n",
            "| 15|Going through Dri...|2 star rating|          63|2 star rating|\n",
            "| 16|My entrees were a...|2 star rating|          63|2 star rating|\n",
            "| 17|I'm done being ri...|1 star rating|          63|1 star rating|\n",
            "| 18|Worst Panda in Fr...|1 star rating|          63|1 star rating|\n",
            "| 19|I've been in here...|5 star rating|          63|5 star rating|\n",
            "+---+--------------------+-------------+------------+-------------+\n",
            "only showing top 20 rows\n",
            "\n"
          ],
          "name": "stdout"
        }
      ]
    },
    {
      "cell_type": "code",
      "metadata": {
        "id": "sIQxRzP_v_v5",
        "colab_type": "code",
        "colab": {
          "base_uri": "https://localhost:8080/",
          "height": 459
        },
        "outputId": "bcd1492b-0f96-4a5d-cdc5-15a4e861c59b"
      },
      "source": [
        "# Change number of star rating to \"good\", \"decent\", \"poor\"\n",
        "import pyspark.sql.functions as F\n",
        "panda_df = panda_df.withColumn(\"ratings\",\n",
        "      F.when((panda_df.rating == \"1 star rating\") | (panda_df.rating == \"2 star rating\"), 'poor')\n",
        "      .when((panda_df.rating == \"3 star rating\") | (panda_df.rating == \"4 star rating\"), 'decent')\n",
        "      .otherwise('good'))\n",
        "panda_df.show()\n"
      ],
      "execution_count": 23,
      "outputs": [
        {
          "output_type": "stream",
          "text": [
            "+---+--------------------+-------------+------------+-------+\n",
            "|_c0|             reviews|       rating|review_count|ratings|\n",
            "+---+--------------------+-------------+------------+-------+\n",
            "|  0|Panda Express was...|5 star rating|          63|   good|\n",
            "|  1|The dude and I ca...|5 star rating|          63|   good|\n",
            "|  2|I ordered 5 total...|1 star rating|          63|   poor|\n",
            "|  3|I always order Pa...|3 star rating|          63| decent|\n",
            "|  4|Decided to try Pa...|5 star rating|          63|   good|\n",
            "|  5|I've never had a ...|4 star rating|          63| decent|\n",
            "|  6|The family meal d...|1 star rating|          63|   poor|\n",
            "|  7|Quality has sever...|2 star rating|          63|   poor|\n",
            "|  8|Paid for a bowl a...|1 star rating|          63|   poor|\n",
            "|  9|Order a bowl with...|1 star rating|          63|   poor|\n",
            "| 10|Went through the ...|1 star rating|          63|   poor|\n",
            "| 11|When I think of p...|2 star rating|          63|   poor|\n",
            "| 12|Horrible is a und...|1 star rating|          63|   poor|\n",
            "| 13|Yes the drive thr...|2 star rating|          63|   poor|\n",
            "| 14|Okay..so Panda is...|4 star rating|          63| decent|\n",
            "| 15|Going through Dri...|2 star rating|          63|   poor|\n",
            "| 16|My entrees were a...|2 star rating|          63|   poor|\n",
            "| 17|I'm done being ri...|1 star rating|          63|   poor|\n",
            "| 18|Worst Panda in Fr...|1 star rating|          63|   poor|\n",
            "| 19|I've been in here...|5 star rating|          63|   good|\n",
            "+---+--------------------+-------------+------------+-------+\n",
            "only showing top 20 rows\n",
            "\n"
          ],
          "name": "stdout"
        }
      ]
    },
    {
      "cell_type": "code",
      "metadata": {
        "colab_type": "code",
        "id": "4BbzYExyNYCR",
        "colab": {
          "base_uri": "https://localhost:8080/",
          "height": 459
        },
        "outputId": "dbae32d0-2482-4273-9045-ccd6bb5543fc"
      },
      "source": [
        "baba"
      ],
      "execution_count": 24,
      "outputs": [
        {
          "output_type": "stream",
          "text": [
            "+---+--------------------+-------------+------------+-------+------+\n",
            "|_c0|             reviews|       rating|review_count|ratings|length|\n",
            "+---+--------------------+-------------+------------+-------+------+\n",
            "|  0|Panda Express was...|5 star rating|          63|   good|   334|\n",
            "|  1|The dude and I ca...|5 star rating|          63|   good|   770|\n",
            "|  2|I ordered 5 total...|1 star rating|          63|   poor|   154|\n",
            "|  3|I always order Pa...|3 star rating|          63| decent|   634|\n",
            "|  4|Decided to try Pa...|5 star rating|          63|   good|   262|\n",
            "|  5|I've never had a ...|4 star rating|          63| decent|   644|\n",
            "|  6|The family meal d...|1 star rating|          63|   poor|   129|\n",
            "|  7|Quality has sever...|2 star rating|          63|   poor|   350|\n",
            "|  8|Paid for a bowl a...|1 star rating|          63|   poor|   158|\n",
            "|  9|Order a bowl with...|1 star rating|          63|   poor|   151|\n",
            "| 10|Went through the ...|1 star rating|          63|   poor|   678|\n",
            "| 11|When I think of p...|2 star rating|          63|   poor|   272|\n",
            "| 12|Horrible is a und...|1 star rating|          63|   poor|   481|\n",
            "| 13|Yes the drive thr...|2 star rating|          63|   poor|   312|\n",
            "| 14|Okay..so Panda is...|4 star rating|          63| decent|  1541|\n",
            "| 15|Going through Dri...|2 star rating|          63|   poor|   657|\n",
            "| 16|My entrees were a...|2 star rating|          63|   poor|   171|\n",
            "| 17|I'm done being ri...|1 star rating|          63|   poor|  1067|\n",
            "| 18|Worst Panda in Fr...|1 star rating|          63|   poor|   417|\n",
            "| 19|I've been in here...|5 star rating|          63|   good|   410|\n",
            "+---+--------------------+-------------+------------+-------+------+\n",
            "only showing top 20 rows\n",
            "\n"
          ],
          "name": "stdout"
        }
      ]
    },
    {
      "cell_type": "code",
      "metadata": {
        "id": "w7c982QP1yLW",
        "colab_type": "code",
        "colab": {
          "base_uri": "https://localhost:8080/",
          "height": 459
        },
        "outputId": "bcd00ff0-98f4-4945-afc7-ecafbc789d06"
      },
      "source": [
        "# Clean dataframe\n",
        "data_df = data_df['_c0', 'reviews', 'ratings', 'length']\n",
        "data_df.show()"
      ],
      "execution_count": 25,
      "outputs": [
        {
          "output_type": "stream",
          "text": [
            "+---+--------------------+-------+------+\n",
            "|_c0|             reviews|ratings|length|\n",
            "+---+--------------------+-------+------+\n",
            "|  0|Panda Express was...|   good|   334|\n",
            "|  1|The dude and I ca...|   good|   770|\n",
            "|  2|I ordered 5 total...|   poor|   154|\n",
            "|  3|I always order Pa...| decent|   634|\n",
            "|  4|Decided to try Pa...|   good|   262|\n",
            "|  5|I've never had a ...| decent|   644|\n",
            "|  6|The family meal d...|   poor|   129|\n",
            "|  7|Quality has sever...|   poor|   350|\n",
            "|  8|Paid for a bowl a...|   poor|   158|\n",
            "|  9|Order a bowl with...|   poor|   151|\n",
            "| 10|Went through the ...|   poor|   678|\n",
            "| 11|When I think of p...|   poor|   272|\n",
            "| 12|Horrible is a und...|   poor|   481|\n",
            "| 13|Yes the drive thr...|   poor|   312|\n",
            "| 14|Okay..so Panda is...| decent|  1541|\n",
            "| 15|Going through Dri...|   poor|   657|\n",
            "| 16|My entrees were a...|   poor|   171|\n",
            "| 17|I'm done being ri...|   poor|  1067|\n",
            "| 18|Worst Panda in Fr...|   poor|   417|\n",
            "| 19|I've been in here...|   good|   410|\n",
            "+---+--------------------+-------+------+\n",
            "only showing top 20 rows\n",
            "\n"
          ],
          "name": "stdout"
        }
      ]
    },
    {
      "cell_type": "markdown",
      "metadata": {
        "colab_type": "text",
        "id": "od7Qj0sxNYCW"
      },
      "source": [
        "### Feature Transformations\n"
      ]
    },
    {
      "cell_type": "code",
      "metadata": {
        "colab_type": "code",
        "id": "59dwxefsNYCX",
        "colab": {}
      },
      "source": [
        "from pyspark.ml.feature import Tokenizer, StopWordsRemover, HashingTF, IDF, StringIndexer\n",
        "# Create all the features to the data set\n",
        "label_encoder = StringIndexer(inputCol='ratings',outputCol='label')\n",
        "tokenizer = Tokenizer(inputCol=\"reviews\", outputCol=\"tokens\")\n",
        "stop_word_remover = StopWordsRemover(inputCol='tokens',outputCol='filtered_tokens')\n",
        "hasher = HashingTF(inputCol=\"filtered_tokens\", outputCol='hashed_tokens')\n",
        "idf = IDF(inputCol='hashed_tokens', outputCol='idf_tokens')\n"
      ],
      "execution_count": 26,
      "outputs": []
    },
    {
      "cell_type": "code",
      "metadata": {
        "colab_type": "code",
        "id": "yssO0_Q5NYCb",
        "colab": {}
      },
      "source": [
        "from pyspark.ml.feature import VectorAssembler\n",
        "from pyspark.ml.linalg import Vector\n",
        "\n",
        "# Create feature vectors\n",
        "vectorizer = VectorAssembler(inputCols=['idf_tokens', 'length'], outputCol='features')"
      ],
      "execution_count": 27,
      "outputs": []
    },
    {
      "cell_type": "code",
      "metadata": {
        "colab_type": "code",
        "id": "E_YyUpR3NYCf",
        "colab": {}
      },
      "source": [
        "# Create a and run a data processing Pipeline\n",
        "from pyspark.ml import Pipeline\n",
        "pipeline = Pipeline(stages=[label_encoder, tokenizer, stop_word_remover, hasher, idf, vectorizer])\n"
      ],
      "execution_count": 28,
      "outputs": []
    },
    {
      "cell_type": "code",
      "metadata": {
        "colab_type": "code",
        "id": "qBViHQOaNYCj",
        "colab": {}
      },
      "source": [
        "# Fit and transform the pipeline\n",
        "pipeline_model = pipeline.fit(data_df)\n",
        "cleaned_df = pipeline_model.transform(data_df)"
      ],
      "execution_count": 29,
      "outputs": []
    },
    {
      "cell_type": "code",
      "metadata": {
        "colab_type": "code",
        "id": "kDODyxF7NYCn",
        "colab": {
          "base_uri": "https://localhost:8080/",
          "height": 459
        },
        "outputId": "a33ff3ae-43a1-41d4-f6c6-74b4074ee7f2"
      },
      "source": [
        "# Show label and resulting features\n",
        "cleaned_df.select(['label', 'features']).show()"
      ],
      "execution_count": 30,
      "outputs": [
        {
          "output_type": "stream",
          "text": [
            "+-----+--------------------+\n",
            "|label|            features|\n",
            "+-----+--------------------+\n",
            "|  1.0|(262145,[2711,610...|\n",
            "|  1.0|(262145,[9090,131...|\n",
            "|  0.0|(262145,[4402,355...|\n",
            "|  2.0|(262145,[329,2325...|\n",
            "|  1.0|(262145,[8086,335...|\n",
            "|  2.0|(262145,[78,8287,...|\n",
            "|  0.0|(262145,[19153,49...|\n",
            "|  0.0|(262145,[16595,28...|\n",
            "|  0.0|(262145,[15664,20...|\n",
            "|  0.0|(262145,[5381,172...|\n",
            "|  0.0|(262145,[2325,736...|\n",
            "|  0.0|(262145,[78,2437,...|\n",
            "|  0.0|(262145,[4402,137...|\n",
            "|  0.0|(262145,[6796,172...|\n",
            "|  2.0|(262145,[2437,755...|\n",
            "|  0.0|(262145,[2410,124...|\n",
            "|  0.0|(262145,[16091,31...|\n",
            "|  0.0|(262145,[8985,134...|\n",
            "|  0.0|(262145,[1536,232...|\n",
            "|  1.0|(262145,[553,1489...|\n",
            "+-----+--------------------+\n",
            "only showing top 20 rows\n",
            "\n"
          ],
          "name": "stdout"
        }
      ]
    },
    {
      "cell_type": "code",
      "metadata": {
        "colab_type": "code",
        "id": "WzfCQmrVNYCr",
        "colab": {}
      },
      "source": [
        "from pyspark.ml.classification import NaiveBayes\n",
        "# Break data down into a training set and a testing set\n",
        "training, testing = cleaned_df.randomSplit([0.75, 0.25], seed=42)\n",
        "\n",
        "# Create a Naive Bayes model and fit training data\n",
        "model = NaiveBayes()\n",
        "predictor = model.fit(training)"
      ],
      "execution_count": 34,
      "outputs": []
    },
    {
      "cell_type": "code",
      "metadata": {
        "colab_type": "code",
        "id": "zeckHhg5NYCv",
        "colab": {
          "base_uri": "https://localhost:8080/",
          "height": 224
        },
        "outputId": "fe085c0d-8774-4771-997c-62af402c0966"
      },
      "source": [
        "# Tranform the model with the testing data\n",
        "test_results = predictor.transform(testing)\n",
        "test_results.show(5)"
      ],
      "execution_count": 35,
      "outputs": [
        {
          "output_type": "stream",
          "text": [
            "+-----+--------------------+-------+------+-----+--------------------+--------------------+--------------------+--------------------+--------------------+--------------------+--------------------+----------+\n",
            "|  _c0|             reviews|ratings|length|label|              tokens|     filtered_tokens|       hashed_tokens|          idf_tokens|            features|       rawPrediction|         probability|prediction|\n",
            "+-----+--------------------+-------+------+-----+--------------------+--------------------+--------------------+--------------------+--------------------+--------------------+--------------------+----------+\n",
            "|    1|The dude and I ca...|   good|   770|  1.0|[the, dude, and, ...|[dude, came, pand...|(262144,[9090,131...|(262144,[9090,131...|(262145,[9090,131...|[-3265.0250599721...|[1.0,3.7281047288...|       0.0|\n",
            "|   10|Went through the ...|   poor|   678|  0.0|[went, through, t...|[went, drive-thro...|(262144,[2325,736...|(262144,[2325,736...|(262145,[2325,736...|[-2129.5432463143...|[1.0,8.9130082535...|       0.0|\n",
            "|  100|TLDR: An average ...| decent|  1138|  2.0|[tldr:, an, avera...|[tldr:, average, ...|(262144,[1846,232...|(262144,[1846,232...|(262145,[1846,232...|[-8009.8110469800...|[0.0,2.0017264420...|       2.0|\n",
            "|10008|\"CONFIRMED FOOD P...|   good|   962|  1.0|[\"confirmed, food...|[\"confirmed, food...|(262144,[14,2038,...|(262144,[14,2038,...|(262145,[14,2038,...|[-4201.0171822783...|[1.0,5.8460836806...|       0.0|\n",
            "|10010|Well I haven't  b...| decent|   907|  2.0|[well, i, haven't...|[well,  been, let...|(262144,[14,6981,...|(262144,[14,6981,...|(262145,[14,6981,...|[-3844.2721558797...|[0.99999999996635...|       0.0|\n",
            "+-----+--------------------+-------+------+-----+--------------------+--------------------+--------------------+--------------------+--------------------+--------------------+--------------------+----------+\n",
            "only showing top 5 rows\n",
            "\n"
          ],
          "name": "stdout"
        }
      ]
    },
    {
      "cell_type": "code",
      "metadata": {
        "colab_type": "code",
        "id": "OVFrWcHINYCz",
        "colab": {
          "base_uri": "https://localhost:8080/",
          "height": 34
        },
        "outputId": "a1ac900a-ee0c-448f-a064-399e36527eff"
      },
      "source": [
        "# Use the Class Evaluator for a cleaner description\n",
        "from pyspark.ml.evaluation import MulticlassClassificationEvaluator\n",
        "\n",
        "acc_eval = MulticlassClassificationEvaluator()\n",
        "acc = acc_eval.evaluate(test_results)\n",
        "print(\"Accuracy of model at predicting reviews was: %f\" % acc)"
      ],
      "execution_count": 36,
      "outputs": [
        {
          "output_type": "stream",
          "text": [
            "Accuracy of model at predicting reviews was: 0.665399\n"
          ],
          "name": "stdout"
        }
      ]
    },
    {
      "cell_type": "code",
      "metadata": {
        "colab_type": "code",
        "id": "bOpKc638NlCQ",
        "colab": {}
      },
      "source": [
        ""
      ],
      "execution_count": null,
      "outputs": []
    }
  ]
}