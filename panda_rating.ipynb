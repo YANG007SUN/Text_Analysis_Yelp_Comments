{
 "cells": [
  {
   "cell_type": "code",
   "execution_count": 1,
   "metadata": {},
   "outputs": [],
   "source": [
    "# Import dependencies\n",
    "import pandas as pd\n",
    "import numpy as np\n",
    "import matplotlib.pyplot as plt\n",
    "import seaborn as sns\n",
    "import nltk\n",
    "# nltk.download('stopwords')\n",
    "from nltk.corpus import stopwords\n",
    "import string\n",
    "import math\n",
    "from sklearn.feature_extraction.text import CountVectorizer\n",
    "from sklearn.model_selection import train_test_split, cross_val_score\n",
    "from sklearn.metrics import classification_report\n",
    "from sklearn.metrics import confusion_matrix, accuracy_score, roc_auc_score, roc_curve\n",
    "from sklearn.model_selection import GridSearchCV\n",
    "%matplotlib inline"
   ]
  },
  {
   "cell_type": "code",
   "execution_count": 2,
   "metadata": {},
   "outputs": [],
   "source": [
    "# Import reviews.csv\n",
    "yelp_review = pd.read_csv(\"https://usc-bootcamp-yelpreview-text-analysis.s3.us-east-2.amazonaws.com/reviews.csv\")"
   ]
  },
  {
   "cell_type": "code",
   "execution_count": 3,
   "metadata": {},
   "outputs": [
    {
     "data": {
      "text/plain": [
       "array(['5 star rating', '1 star rating', '3 star rating', '4 star rating',\n",
       "       '2 star rating'], dtype=object)"
      ]
     },
     "execution_count": 3,
     "metadata": {},
     "output_type": "execute_result"
    }
   ],
   "source": [
    "# Print the dataframe\n",
    "yelp_review.rating.unique()"
   ]
  },
  {
   "cell_type": "code",
   "execution_count": 4,
   "metadata": {},
   "outputs": [],
   "source": [
    "# Convert\n",
    "yelp_review['ratings'] = yelp_review['rating'].map(lambda x:int(x[0]))"
   ]
  },
  {
   "cell_type": "code",
   "execution_count": 5,
   "metadata": {},
   "outputs": [
    {
     "data": {
      "text/html": [
       "<div>\n",
       "<style scoped>\n",
       "    .dataframe tbody tr th:only-of-type {\n",
       "        vertical-align: middle;\n",
       "    }\n",
       "\n",
       "    .dataframe tbody tr th {\n",
       "        vertical-align: top;\n",
       "    }\n",
       "\n",
       "    .dataframe thead th {\n",
       "        text-align: right;\n",
       "    }\n",
       "</style>\n",
       "<table border=\"1\" class=\"dataframe\">\n",
       "  <thead>\n",
       "    <tr style=\"text-align: right;\">\n",
       "      <th></th>\n",
       "      <th>reviews</th>\n",
       "      <th>rating</th>\n",
       "      <th>review_count</th>\n",
       "      <th>ratings</th>\n",
       "    </tr>\n",
       "  </thead>\n",
       "  <tbody>\n",
       "    <tr>\n",
       "      <th>0</th>\n",
       "      <td>Panda Express was on point tonight! I ordered ...</td>\n",
       "      <td>5 star rating</td>\n",
       "      <td>62</td>\n",
       "      <td>5</td>\n",
       "    </tr>\n",
       "    <tr>\n",
       "      <th>1</th>\n",
       "      <td>The dude and I came to this Panda Express arou...</td>\n",
       "      <td>5 star rating</td>\n",
       "      <td>62</td>\n",
       "      <td>5</td>\n",
       "    </tr>\n",
       "    <tr>\n",
       "      <th>2</th>\n",
       "      <td>I ordered 5 total plates , fried rice , chow m...</td>\n",
       "      <td>1 star rating</td>\n",
       "      <td>62</td>\n",
       "      <td>1</td>\n",
       "    </tr>\n",
       "    <tr>\n",
       "      <th>3</th>\n",
       "      <td>I always order Panda Express from here and the...</td>\n",
       "      <td>3 star rating</td>\n",
       "      <td>62</td>\n",
       "      <td>3</td>\n",
       "    </tr>\n",
       "    <tr>\n",
       "      <th>4</th>\n",
       "      <td>I've never had a bad experience here, I don't ...</td>\n",
       "      <td>4 star rating</td>\n",
       "      <td>62</td>\n",
       "      <td>4</td>\n",
       "    </tr>\n",
       "    <tr>\n",
       "      <th>...</th>\n",
       "      <td>...</td>\n",
       "      <td>...</td>\n",
       "      <td>...</td>\n",
       "      <td>...</td>\n",
       "    </tr>\n",
       "    <tr>\n",
       "      <th>19516</th>\n",
       "      <td>Food Was Alright... Upset They Dont Have Chang...</td>\n",
       "      <td>1 star rating</td>\n",
       "      <td>42</td>\n",
       "      <td>1</td>\n",
       "    </tr>\n",
       "    <tr>\n",
       "      <th>19517</th>\n",
       "      <td>I just had a party for 30 people and I was so ...</td>\n",
       "      <td>5 star rating</td>\n",
       "      <td>42</td>\n",
       "      <td>5</td>\n",
       "    </tr>\n",
       "    <tr>\n",
       "      <th>19518</th>\n",
       "      <td>These people said they were open at midnight a...</td>\n",
       "      <td>1 star rating</td>\n",
       "      <td>42</td>\n",
       "      <td>1</td>\n",
       "    </tr>\n",
       "    <tr>\n",
       "      <th>19519</th>\n",
       "      <td>Its PandEx! Chow Mien, Kung Pau and Orange Chi...</td>\n",
       "      <td>4 star rating</td>\n",
       "      <td>42</td>\n",
       "      <td>4</td>\n",
       "    </tr>\n",
       "    <tr>\n",
       "      <th>19520</th>\n",
       "      <td>This one star review is because they give you ...</td>\n",
       "      <td>1 star rating</td>\n",
       "      <td>42</td>\n",
       "      <td>1</td>\n",
       "    </tr>\n",
       "  </tbody>\n",
       "</table>\n",
       "<p>19521 rows × 4 columns</p>\n",
       "</div>"
      ],
      "text/plain": [
       "                                                 reviews         rating  \\\n",
       "0      Panda Express was on point tonight! I ordered ...  5 star rating   \n",
       "1      The dude and I came to this Panda Express arou...  5 star rating   \n",
       "2      I ordered 5 total plates , fried rice , chow m...  1 star rating   \n",
       "3      I always order Panda Express from here and the...  3 star rating   \n",
       "4      I've never had a bad experience here, I don't ...  4 star rating   \n",
       "...                                                  ...            ...   \n",
       "19516  Food Was Alright... Upset They Dont Have Chang...  1 star rating   \n",
       "19517  I just had a party for 30 people and I was so ...  5 star rating   \n",
       "19518  These people said they were open at midnight a...  1 star rating   \n",
       "19519  Its PandEx! Chow Mien, Kung Pau and Orange Chi...  4 star rating   \n",
       "19520  This one star review is because they give you ...  1 star rating   \n",
       "\n",
       "       review_count  ratings  \n",
       "0                62        5  \n",
       "1                62        5  \n",
       "2                62        1  \n",
       "3                62        3  \n",
       "4                62        4  \n",
       "...             ...      ...  \n",
       "19516            42        1  \n",
       "19517            42        5  \n",
       "19518            42        1  \n",
       "19519            42        4  \n",
       "19520            42        1  \n",
       "\n",
       "[19521 rows x 4 columns]"
      ]
     },
     "execution_count": 5,
     "metadata": {},
     "output_type": "execute_result"
    }
   ],
   "source": [
    "yelp_review"
   ]
  },
  {
   "cell_type": "code",
   "execution_count": 6,
   "metadata": {},
   "outputs": [
    {
     "data": {
      "text/html": [
       "<div>\n",
       "<style scoped>\n",
       "    .dataframe tbody tr th:only-of-type {\n",
       "        vertical-align: middle;\n",
       "    }\n",
       "\n",
       "    .dataframe tbody tr th {\n",
       "        vertical-align: top;\n",
       "    }\n",
       "\n",
       "    .dataframe thead th {\n",
       "        text-align: right;\n",
       "    }\n",
       "</style>\n",
       "<table border=\"1\" class=\"dataframe\">\n",
       "  <thead>\n",
       "    <tr style=\"text-align: right;\">\n",
       "      <th></th>\n",
       "      <th>reviews</th>\n",
       "      <th>rating</th>\n",
       "      <th>review_count</th>\n",
       "      <th>ratings</th>\n",
       "      <th>length</th>\n",
       "    </tr>\n",
       "  </thead>\n",
       "  <tbody>\n",
       "    <tr>\n",
       "      <th>0</th>\n",
       "      <td>Panda Express was on point tonight! I ordered ...</td>\n",
       "      <td>5 star rating</td>\n",
       "      <td>62</td>\n",
       "      <td>5</td>\n",
       "      <td>334</td>\n",
       "    </tr>\n",
       "    <tr>\n",
       "      <th>1</th>\n",
       "      <td>The dude and I came to this Panda Express arou...</td>\n",
       "      <td>5 star rating</td>\n",
       "      <td>62</td>\n",
       "      <td>5</td>\n",
       "      <td>770</td>\n",
       "    </tr>\n",
       "    <tr>\n",
       "      <th>2</th>\n",
       "      <td>I ordered 5 total plates , fried rice , chow m...</td>\n",
       "      <td>1 star rating</td>\n",
       "      <td>62</td>\n",
       "      <td>1</td>\n",
       "      <td>154</td>\n",
       "    </tr>\n",
       "    <tr>\n",
       "      <th>3</th>\n",
       "      <td>I always order Panda Express from here and the...</td>\n",
       "      <td>3 star rating</td>\n",
       "      <td>62</td>\n",
       "      <td>3</td>\n",
       "      <td>634</td>\n",
       "    </tr>\n",
       "    <tr>\n",
       "      <th>4</th>\n",
       "      <td>I've never had a bad experience here, I don't ...</td>\n",
       "      <td>4 star rating</td>\n",
       "      <td>62</td>\n",
       "      <td>4</td>\n",
       "      <td>644</td>\n",
       "    </tr>\n",
       "  </tbody>\n",
       "</table>\n",
       "</div>"
      ],
      "text/plain": [
       "                                             reviews         rating  \\\n",
       "0  Panda Express was on point tonight! I ordered ...  5 star rating   \n",
       "1  The dude and I came to this Panda Express arou...  5 star rating   \n",
       "2  I ordered 5 total plates , fried rice , chow m...  1 star rating   \n",
       "3  I always order Panda Express from here and the...  3 star rating   \n",
       "4  I've never had a bad experience here, I don't ...  4 star rating   \n",
       "\n",
       "   review_count  ratings  length  \n",
       "0            62        5     334  \n",
       "1            62        5     770  \n",
       "2            62        1     154  \n",
       "3            62        3     634  \n",
       "4            62        4     644  "
      ]
     },
     "execution_count": 6,
     "metadata": {},
     "output_type": "execute_result"
    }
   ],
   "source": [
    "# Create a length column that counts the number of words in reviews\n",
    "yelp_review['length']=yelp_review['reviews'].apply(len)\n",
    "yelp_review.head()"
   ]
  },
  {
   "cell_type": "code",
   "execution_count": 7,
   "metadata": {},
   "outputs": [
    {
     "data": {
      "text/plain": [
       "<seaborn.axisgrid.FacetGrid at 0x7f8d26c2f310>"
      ]
     },
     "execution_count": 7,
     "metadata": {},
     "output_type": "execute_result"
    },
    {
     "data": {
      "image/png": "[encoded data removed]",
      "text/plain": [
       "<Figure size 1080x216 with 5 Axes>"
      ]
     },
     "metadata": {
      "needs_background": "light"
     },
     "output_type": "display_data"
    }
   ],
   "source": [
    "# Compare text length to rating\n",
    "graph = sns.FacetGrid(data=yelp_review,col='rating')\n",
    "graph.map(plt.hist,'length',bins=50,color='pink')"
   ]
  },
  {
   "cell_type": "code",
   "execution_count": 8,
   "metadata": {},
   "outputs": [
    {
     "data": {
      "text/html": [
       "<div>\n",
       "<style scoped>\n",
       "    .dataframe tbody tr th:only-of-type {\n",
       "        vertical-align: middle;\n",
       "    }\n",
       "\n",
       "    .dataframe tbody tr th {\n",
       "        vertical-align: top;\n",
       "    }\n",
       "\n",
       "    .dataframe thead th {\n",
       "        text-align: right;\n",
       "    }\n",
       "</style>\n",
       "<table border=\"1\" class=\"dataframe\">\n",
       "  <thead>\n",
       "    <tr style=\"text-align: right;\">\n",
       "      <th></th>\n",
       "      <th>review_count</th>\n",
       "      <th>length</th>\n",
       "    </tr>\n",
       "    <tr>\n",
       "      <th>ratings</th>\n",
       "      <th></th>\n",
       "      <th></th>\n",
       "    </tr>\n",
       "  </thead>\n",
       "  <tbody>\n",
       "    <tr>\n",
       "      <th>1</th>\n",
       "      <td>50.522265</td>\n",
       "      <td>494.403060</td>\n",
       "    </tr>\n",
       "    <tr>\n",
       "      <th>2</th>\n",
       "      <td>46.674467</td>\n",
       "      <td>510.150891</td>\n",
       "    </tr>\n",
       "    <tr>\n",
       "      <th>3</th>\n",
       "      <td>43.686364</td>\n",
       "      <td>513.384091</td>\n",
       "    </tr>\n",
       "    <tr>\n",
       "      <th>4</th>\n",
       "      <td>43.091278</td>\n",
       "      <td>471.680325</td>\n",
       "    </tr>\n",
       "    <tr>\n",
       "      <th>5</th>\n",
       "      <td>43.096136</td>\n",
       "      <td>349.540958</td>\n",
       "    </tr>\n",
       "  </tbody>\n",
       "</table>\n",
       "</div>"
      ],
      "text/plain": [
       "         review_count      length\n",
       "ratings                          \n",
       "1           50.522265  494.403060\n",
       "2           46.674467  510.150891\n",
       "3           43.686364  513.384091\n",
       "4           43.091278  471.680325\n",
       "5           43.096136  349.540958"
      ]
     },
     "execution_count": 8,
     "metadata": {},
     "output_type": "execute_result"
    }
   ],
   "source": [
    "# Getting the mean values of the length and review_counts columns with respect to the rating on the review \n",
    "stval = yelp_review.groupby('ratings').mean()\n",
    "stval"
   ]
  },
  {
   "cell_type": "code",
   "execution_count": 9,
   "metadata": {},
   "outputs": [
    {
     "data": {
      "text/html": [
       "<div>\n",
       "<style scoped>\n",
       "    .dataframe tbody tr th:only-of-type {\n",
       "        vertical-align: middle;\n",
       "    }\n",
       "\n",
       "    .dataframe tbody tr th {\n",
       "        vertical-align: top;\n",
       "    }\n",
       "\n",
       "    .dataframe thead th {\n",
       "        text-align: right;\n",
       "    }\n",
       "</style>\n",
       "<table border=\"1\" class=\"dataframe\">\n",
       "  <thead>\n",
       "    <tr style=\"text-align: right;\">\n",
       "      <th></th>\n",
       "      <th>review_count</th>\n",
       "      <th>ratings</th>\n",
       "      <th>length</th>\n",
       "    </tr>\n",
       "  </thead>\n",
       "  <tbody>\n",
       "    <tr>\n",
       "      <th>review_count</th>\n",
       "      <td>1.000000</td>\n",
       "      <td>-0.090365</td>\n",
       "      <td>0.05871</td>\n",
       "    </tr>\n",
       "    <tr>\n",
       "      <th>ratings</th>\n",
       "      <td>-0.090365</td>\n",
       "      <td>1.000000</td>\n",
       "      <td>-0.10885</td>\n",
       "    </tr>\n",
       "    <tr>\n",
       "      <th>length</th>\n",
       "      <td>0.058710</td>\n",
       "      <td>-0.108850</td>\n",
       "      <td>1.00000</td>\n",
       "    </tr>\n",
       "  </tbody>\n",
       "</table>\n",
       "</div>"
      ],
      "text/plain": [
       "              review_count   ratings   length\n",
       "review_count      1.000000 -0.090365  0.05871\n",
       "ratings          -0.090365  1.000000 -0.10885\n",
       "length            0.058710 -0.108850  1.00000"
      ]
     },
     "execution_count": 9,
     "metadata": {},
     "output_type": "execute_result"
    }
   ],
   "source": [
    "# Finding the correlation between the review_counts and length columns \n",
    "yelp_review.corr()"
   ]
  },
  {
   "cell_type": "code",
   "execution_count": 10,
   "metadata": {},
   "outputs": [],
   "source": [
    "# Categorize ratings in to \"1\", \"2\", \"3\"\n",
    "yelp_review['status']=yelp_review['ratings'].map(lambda x:1 if x<3 else (2 if x<4 else 3))"
   ]
  },
  {
   "cell_type": "code",
   "execution_count": 11,
   "metadata": {},
   "outputs": [
    {
     "data": {
      "text/html": [
       "<div>\n",
       "<style scoped>\n",
       "    .dataframe tbody tr th:only-of-type {\n",
       "        vertical-align: middle;\n",
       "    }\n",
       "\n",
       "    .dataframe tbody tr th {\n",
       "        vertical-align: top;\n",
       "    }\n",
       "\n",
       "    .dataframe thead th {\n",
       "        text-align: right;\n",
       "    }\n",
       "</style>\n",
       "<table border=\"1\" class=\"dataframe\">\n",
       "  <thead>\n",
       "    <tr style=\"text-align: right;\">\n",
       "      <th></th>\n",
       "      <th>reviews</th>\n",
       "      <th>rating</th>\n",
       "      <th>review_count</th>\n",
       "      <th>ratings</th>\n",
       "      <th>length</th>\n",
       "      <th>status</th>\n",
       "    </tr>\n",
       "  </thead>\n",
       "  <tbody>\n",
       "    <tr>\n",
       "      <th>0</th>\n",
       "      <td>Panda Express was on point tonight! I ordered ...</td>\n",
       "      <td>5 star rating</td>\n",
       "      <td>62</td>\n",
       "      <td>5</td>\n",
       "      <td>334</td>\n",
       "      <td>3</td>\n",
       "    </tr>\n",
       "    <tr>\n",
       "      <th>1</th>\n",
       "      <td>The dude and I came to this Panda Express arou...</td>\n",
       "      <td>5 star rating</td>\n",
       "      <td>62</td>\n",
       "      <td>5</td>\n",
       "      <td>770</td>\n",
       "      <td>3</td>\n",
       "    </tr>\n",
       "    <tr>\n",
       "      <th>2</th>\n",
       "      <td>I ordered 5 total plates , fried rice , chow m...</td>\n",
       "      <td>1 star rating</td>\n",
       "      <td>62</td>\n",
       "      <td>1</td>\n",
       "      <td>154</td>\n",
       "      <td>1</td>\n",
       "    </tr>\n",
       "    <tr>\n",
       "      <th>3</th>\n",
       "      <td>I always order Panda Express from here and the...</td>\n",
       "      <td>3 star rating</td>\n",
       "      <td>62</td>\n",
       "      <td>3</td>\n",
       "      <td>634</td>\n",
       "      <td>2</td>\n",
       "    </tr>\n",
       "    <tr>\n",
       "      <th>4</th>\n",
       "      <td>I've never had a bad experience here, I don't ...</td>\n",
       "      <td>4 star rating</td>\n",
       "      <td>62</td>\n",
       "      <td>4</td>\n",
       "      <td>644</td>\n",
       "      <td>3</td>\n",
       "    </tr>\n",
       "    <tr>\n",
       "      <th>...</th>\n",
       "      <td>...</td>\n",
       "      <td>...</td>\n",
       "      <td>...</td>\n",
       "      <td>...</td>\n",
       "      <td>...</td>\n",
       "      <td>...</td>\n",
       "    </tr>\n",
       "    <tr>\n",
       "      <th>19516</th>\n",
       "      <td>Food Was Alright... Upset They Dont Have Chang...</td>\n",
       "      <td>1 star rating</td>\n",
       "      <td>42</td>\n",
       "      <td>1</td>\n",
       "      <td>233</td>\n",
       "      <td>1</td>\n",
       "    </tr>\n",
       "    <tr>\n",
       "      <th>19517</th>\n",
       "      <td>I just had a party for 30 people and I was so ...</td>\n",
       "      <td>5 star rating</td>\n",
       "      <td>42</td>\n",
       "      <td>5</td>\n",
       "      <td>316</td>\n",
       "      <td>3</td>\n",
       "    </tr>\n",
       "    <tr>\n",
       "      <th>19518</th>\n",
       "      <td>These people said they were open at midnight a...</td>\n",
       "      <td>1 star rating</td>\n",
       "      <td>42</td>\n",
       "      <td>1</td>\n",
       "      <td>152</td>\n",
       "      <td>1</td>\n",
       "    </tr>\n",
       "    <tr>\n",
       "      <th>19519</th>\n",
       "      <td>Its PandEx! Chow Mien, Kung Pau and Orange Chi...</td>\n",
       "      <td>4 star rating</td>\n",
       "      <td>42</td>\n",
       "      <td>4</td>\n",
       "      <td>200</td>\n",
       "      <td>3</td>\n",
       "    </tr>\n",
       "    <tr>\n",
       "      <th>19520</th>\n",
       "      <td>This one star review is because they give you ...</td>\n",
       "      <td>1 star rating</td>\n",
       "      <td>42</td>\n",
       "      <td>1</td>\n",
       "      <td>439</td>\n",
       "      <td>1</td>\n",
       "    </tr>\n",
       "  </tbody>\n",
       "</table>\n",
       "<p>19521 rows × 6 columns</p>\n",
       "</div>"
      ],
      "text/plain": [
       "                                                 reviews         rating  \\\n",
       "0      Panda Express was on point tonight! I ordered ...  5 star rating   \n",
       "1      The dude and I came to this Panda Express arou...  5 star rating   \n",
       "2      I ordered 5 total plates , fried rice , chow m...  1 star rating   \n",
       "3      I always order Panda Express from here and the...  3 star rating   \n",
       "4      I've never had a bad experience here, I don't ...  4 star rating   \n",
       "...                                                  ...            ...   \n",
       "19516  Food Was Alright... Upset They Dont Have Chang...  1 star rating   \n",
       "19517  I just had a party for 30 people and I was so ...  5 star rating   \n",
       "19518  These people said they were open at midnight a...  1 star rating   \n",
       "19519  Its PandEx! Chow Mien, Kung Pau and Orange Chi...  4 star rating   \n",
       "19520  This one star review is because they give you ...  1 star rating   \n",
       "\n",
       "       review_count  ratings  length  status  \n",
       "0                62        5     334       3  \n",
       "1                62        5     770       3  \n",
       "2                62        1     154       1  \n",
       "3                62        3     634       2  \n",
       "4                62        4     644       3  \n",
       "...             ...      ...     ...     ...  \n",
       "19516            42        1     233       1  \n",
       "19517            42        5     316       3  \n",
       "19518            42        1     152       1  \n",
       "19519            42        4     200       3  \n",
       "19520            42        1     439       1  \n",
       "\n",
       "[19521 rows x 6 columns]"
      ]
     },
     "execution_count": 11,
     "metadata": {},
     "output_type": "execute_result"
    }
   ],
   "source": [
    "yelp_review"
   ]
  },
  {
   "cell_type": "code",
   "execution_count": 12,
   "metadata": {},
   "outputs": [
    {
     "name": "stdout",
     "output_type": "stream",
     "text": [
      "0    Panda Express was on point tonight! I ordered ...\n",
      "1    The dude and I came to this Panda Express arou...\n",
      "2    I ordered 5 total plates , fried rice , chow m...\n",
      "3    I always order Panda Express from here and the...\n",
      "4    I've never had a bad experience here, I don't ...\n",
      "Name: reviews, dtype: object\n",
      "0    3\n",
      "1    3\n",
      "2    1\n",
      "3    2\n",
      "4    3\n",
      "Name: status, dtype: int64\n"
     ]
    }
   ],
   "source": [
    "# Seperate the dataset into X and Y for prediction\n",
    "x = yelp_review['reviews']\n",
    "y = yelp_review['status']\n",
    "print(x.head())\n",
    "print(y.head())"
   ]
  },
  {
   "cell_type": "code",
   "execution_count": 13,
   "metadata": {},
   "outputs": [],
   "source": [
    "# Clearning the reviews, remove stopwords and punctuation \n",
    "def text_process(text):\n",
    "    nopunc = [char for char in text if char not in string.punctuation]\n",
    "    nopunc = ''.join(nopunc)\n",
    "    return [word for word in nopunc.split() if word.lower() not in stopwords.words('english')]"
   ]
  },
  {
   "cell_type": "code",
   "execution_count": 14,
   "metadata": {},
   "outputs": [
    {
     "name": "stdout",
     "output_type": "stream",
     "text": [
      "37673\n",
      "Panda Express was on point tonight! I ordered through the mobile app and picked up order at pick up time and it was ready on time.  I double checked if my order was correct and it was. They gave us extra utensils and sauce.  The food was hot and fresh.  Superb customer service as well!  The best experience I've had at Panda Express!\n",
      "  (0, 4888)\t2\n",
      "  (0, 6398)\t1\n",
      "  (0, 8574)\t2\n",
      "  (0, 10552)\t1\n",
      "  (0, 12936)\t1\n",
      "  (0, 13975)\t1\n",
      "  (0, 15354)\t1\n",
      "  (0, 16645)\t1\n",
      "  (0, 17107)\t1\n",
      "  (0, 18336)\t1\n",
      "  (0, 19510)\t1\n",
      "  (0, 19628)\t1\n",
      "  (0, 20343)\t1\n",
      "  (0, 20734)\t1\n",
      "  (0, 21075)\t1\n",
      "  (0, 22621)\t1\n",
      "  (0, 25970)\t1\n",
      "  (0, 27366)\t2\n",
      "  (0, 27402)\t1\n",
      "  (0, 28329)\t1\n",
      "  (0, 28330)\t1\n",
      "  (0, 28684)\t1\n",
      "  (0, 29727)\t1\n",
      "  (0, 31182)\t1\n",
      "  (0, 31665)\t1\n",
      "  (0, 34863)\t2\n",
      "  (0, 35128)\t1\n",
      "  (0, 36109)\t1\n",
      "  (0, 36171)\t1\n",
      "  (0, 36910)\t1\n",
      "Getting the words back:\n",
      "390\n",
      "AIR\n"
     ]
    }
   ],
   "source": [
    "# Converting the words into a vector\n",
    "vocab = CountVectorizer(analyzer=text_process).fit(x)\n",
    "print(len(vocab.vocabulary_))\n",
    "r0 = x[0]\n",
    "print(r0)\n",
    "vocab0 = vocab.transform([r0])\n",
    "print(vocab0)\n",
    "\"\"\"\n",
    "    Now the words in the review number 78 have been converted into a vector.\n",
    "    The data that we can see is the transformed words.\n",
    "    If we now get the feature's name - we can get the word back!\n",
    "\"\"\"\n",
    "print(\"Getting the words back:\")\n",
    "print(vocab.get_feature_names()[1000])\n",
    "print(vocab.get_feature_names()[2000])"
   ]
  },
  {
   "cell_type": "code",
   "execution_count": 15,
   "metadata": {},
   "outputs": [
    {
     "name": "stdout",
     "output_type": "stream",
     "text": [
      "Shape of the sparse matrix:  (19521, 37673)\n",
      "Non-Zero occurences:  765802\n",
      "Density of the matrix =  0.10413200467279797\n"
     ]
    }
   ],
   "source": [
    "x = vocab.transform(x)\n",
    "# Shape of the matrix:\n",
    "print(\"Shape of the sparse matrix: \", x.shape)\n",
    "# Non-zero occurences:\n",
    "print(\"Non-Zero occurences: \",x.nnz)\n",
    "\n",
    "# Density of the matrix\n",
    "density = (x.nnz/(x.shape[0]*x.shape[1]))*100\n",
    "print(\"Density of the matrix = \",density)"
   ]
  },
  {
   "cell_type": "code",
   "execution_count": 16,
   "metadata": {},
   "outputs": [],
   "source": [
    "# Splitting the dataset into training set and testing set\n",
    "x_train,x_test,y_train,y_test = train_test_split(x,y,test_size=0.2,random_state=42)"
   ]
  },
  {
   "cell_type": "code",
   "execution_count": 17,
   "metadata": {},
   "outputs": [
    {
     "name": "stdout",
     "output_type": "stream",
     "text": [
      "Confusion Matrix for Multinomial Naive Bayes:\n",
      "[[2186   63  128]\n",
      " [ 158   48  198]\n",
      " [ 148   25  951]]\n",
      "Score: 81.56\n",
      "Classification Report:               precision    recall  f1-score   support\n",
      "\n",
      "           1       0.88      0.92      0.90      2377\n",
      "           2       0.35      0.12      0.18       404\n",
      "           3       0.74      0.85      0.79      1124\n",
      "\n",
      "    accuracy                           0.82      3905\n",
      "   macro avg       0.66      0.63      0.62      3905\n",
      "weighted avg       0.78      0.82      0.79      3905\n",
      "\n"
     ]
    }
   ],
   "source": [
    "# Multinomial Naive Bayes\n",
    "from sklearn.naive_bayes import MultinomialNB\n",
    "mnb = MultinomialNB()\n",
    "mnb.fit(x_train,y_train)\n",
    "predmnb = mnb.predict(x_test)\n",
    "print(\"Confusion Matrix for Multinomial Naive Bayes:\")\n",
    "print(confusion_matrix(y_test,predmnb))\n",
    "print(\"Score:\",round(accuracy_score(y_test,predmnb)*100,2))\n",
    "print(\"Classification Report:\",classification_report(y_test,predmnb))"
   ]
  },
  {
   "cell_type": "code",
   "execution_count": 18,
   "metadata": {},
   "outputs": [
    {
     "name": "stdout",
     "output_type": "stream",
     "text": [
      "Confusion Matrix for Random Forest Classifier:\n",
      "[[2305    1   71]\n",
      " [ 235    1  168]\n",
      " [ 280    0  844]]\n",
      "Score: 80.67\n",
      "Classification Report:               precision    recall  f1-score   support\n",
      "\n",
      "           1       0.82      0.97      0.89      2377\n",
      "           2       0.50      0.00      0.00       404\n",
      "           3       0.78      0.75      0.76      1124\n",
      "\n",
      "    accuracy                           0.81      3905\n",
      "   macro avg       0.70      0.57      0.55      3905\n",
      "weighted avg       0.77      0.81      0.76      3905\n",
      "\n"
     ]
    }
   ],
   "source": [
    "# Random Forest\n",
    "from sklearn.ensemble import RandomForestClassifier\n",
    "rmfr = RandomForestClassifier()\n",
    "rmfr.fit(x_train,y_train)\n",
    "predrmfr = rmfr.predict(x_test)\n",
    "print(\"Confusion Matrix for Random Forest Classifier:\")\n",
    "print(confusion_matrix(y_test,predrmfr))\n",
    "print(\"Score:\",round(accuracy_score(y_test,predrmfr)*100,2))\n",
    "print(\"Classification Report:\",classification_report(y_test,predrmfr))"
   ]
  },
  {
   "cell_type": "code",
   "execution_count": 19,
   "metadata": {},
   "outputs": [
    {
     "name": "stdout",
     "output_type": "stream",
     "text": [
      "Confusion Matrix for Decision Tree:\n",
      "[[1971  148  258]\n",
      " [ 183   57  164]\n",
      " [ 255   99  770]]\n",
      "Score: 71.65\n",
      "Classification Report:               precision    recall  f1-score   support\n",
      "\n",
      "           1       0.82      0.83      0.82      2377\n",
      "           2       0.19      0.14      0.16       404\n",
      "           3       0.65      0.69      0.66      1124\n",
      "\n",
      "    accuracy                           0.72      3905\n",
      "   macro avg       0.55      0.55      0.55      3905\n",
      "weighted avg       0.70      0.72      0.71      3905\n",
      "\n"
     ]
    }
   ],
   "source": [
    "# Decision Tree\n",
    "from sklearn.tree import DecisionTreeClassifier\n",
    "dt = DecisionTreeClassifier()\n",
    "dt.fit(x_train,y_train)\n",
    "preddt = dt.predict(x_test)\n",
    "print(\"Confusion Matrix for Decision Tree:\")\n",
    "print(confusion_matrix(y_test,preddt))\n",
    "print(\"Score:\",round(accuracy_score(y_test,preddt)*100,2))\n",
    "print(\"Classification Report:\",classification_report(y_test,preddt))"
   ]
  },
  {
   "cell_type": "code",
   "execution_count": 20,
   "metadata": {},
   "outputs": [
    {
     "name": "stdout",
     "output_type": "stream",
     "text": [
      "Confusion Matrix for Support Vector Machines:\n",
      "[[2292   11   74]\n",
      " [ 221   23  160]\n",
      " [ 224    8  892]]\n",
      "Score: 82.13\n",
      "Classification Report:               precision    recall  f1-score   support\n",
      "\n",
      "           1       0.84      0.96      0.90      2377\n",
      "           2       0.55      0.06      0.10       404\n",
      "           3       0.79      0.79      0.79      1124\n",
      "\n",
      "    accuracy                           0.82      3905\n",
      "   macro avg       0.73      0.60      0.60      3905\n",
      "weighted avg       0.79      0.82      0.78      3905\n",
      "\n"
     ]
    }
   ],
   "source": [
    "# Support Vector Machine\n",
    "from sklearn.svm import SVC\n",
    "svm = SVC(random_state=101)\n",
    "svm.fit(x_train,y_train)\n",
    "predsvm = svm.predict(x_test)\n",
    "print(\"Confusion Matrix for Support Vector Machines:\")\n",
    "print(confusion_matrix(y_test,predsvm))\n",
    "print(\"Score:\",round(accuracy_score(y_test,predsvm)*100,2))\n",
    "print(\"Classification Report:\",classification_report(y_test,predsvm))"
   ]
  },
  {
   "cell_type": "code",
   "execution_count": 21,
   "metadata": {},
   "outputs": [
    {
     "name": "stdout",
     "output_type": "stream",
     "text": [
      "Confusion Matrix for Gradient Boosting Classifier:\n",
      "[[2247   23  107]\n",
      " [ 196   38  170]\n",
      " [ 268   32  824]]\n",
      "Score: 79.62\n",
      "Classification Report:               precision    recall  f1-score   support\n",
      "\n",
      "           1       0.83      0.95      0.88      2377\n",
      "           2       0.41      0.09      0.15       404\n",
      "           3       0.75      0.73      0.74      1124\n",
      "\n",
      "    accuracy                           0.80      3905\n",
      "   macro avg       0.66      0.59      0.59      3905\n",
      "weighted avg       0.76      0.80      0.77      3905\n",
      "\n"
     ]
    }
   ],
   "source": [
    "# Gradient Boosting Classifier\n",
    "from sklearn.ensemble import GradientBoostingClassifier\n",
    "\"\"\"# parameter evaluation\n",
    "gbe = GradientBoostingClassifier(random_state=0)\n",
    "parameters = {\n",
    "     'learning_rate': [0.05, 0.1, 0.5],\n",
    "    'max_features': [0.5, 1],\n",
    "    'max_depth': [3, 4, 5]}\n",
    "gridsearch=GridSearchCV(gbe,parameters,cv=100,scoring='roc_auc')\n",
    "gridsearch.fit(x,y)\n",
    "print(gridsearch.best_params_)\n",
    "print(gridsearch.best_score_)\"\"\"\n",
    "#Boosting\n",
    "gbi = GradientBoostingClassifier(learning_rate=0.1,max_depth=5,max_features=0.5,random_state=999999)\n",
    "gbi.fit(x_train,y_train)\n",
    "predgbi = gbi.predict(x_test)\n",
    "print(\"Confusion Matrix for Gradient Boosting Classifier:\")\n",
    "print(confusion_matrix(y_test,predgbi))\n",
    "print(\"Score:\",round(accuracy_score(y_test,predgbi)*100,2))\n",
    "print(\"Classification Report:\",classification_report(y_test,predgbi))"
   ]
  },
  {
   "cell_type": "code",
   "execution_count": 22,
   "metadata": {},
   "outputs": [
    {
     "name": "stdout",
     "output_type": "stream",
     "text": [
      "Confusion Matrix for K Neighbors Classifier:\n",
      "[[1658   29  690]\n",
      " [ 126   11  267]\n",
      " [ 157   11  956]]\n",
      "Score:  67.22\n",
      "Classification Report:\n",
      "              precision    recall  f1-score   support\n",
      "\n",
      "           1       0.85      0.70      0.77      2377\n",
      "           2       0.22      0.03      0.05       404\n",
      "           3       0.50      0.85      0.63      1124\n",
      "\n",
      "    accuracy                           0.67      3905\n",
      "   macro avg       0.52      0.53      0.48      3905\n",
      "weighted avg       0.69      0.67      0.65      3905\n",
      "\n"
     ]
    }
   ],
   "source": [
    "# K Nearest Neighbour Algorithm\n",
    "from sklearn.neighbors import KNeighborsClassifier\n",
    "knn = KNeighborsClassifier(n_neighbors=10)\n",
    "knn.fit(x_train,y_train)\n",
    "predknn = knn.predict(x_test)\n",
    "print(\"Confusion Matrix for K Neighbors Classifier:\")\n",
    "print(confusion_matrix(y_test,predknn))\n",
    "print(\"Score: \",round(accuracy_score(y_test,predknn)*100,2))\n",
    "print(\"Classification Report:\")\n",
    "print(classification_report(y_test,predknn))"
   ]
  },
  {
   "cell_type": "code",
   "execution_count": 23,
   "metadata": {},
   "outputs": [
    {
     "name": "stdout",
     "output_type": "stream",
     "text": [
      "Confusion Matrix for XGBoost Classifier:\n",
      "[[2250   32   95]\n",
      " [ 176   59  169]\n",
      " [ 186   46  892]]\n",
      "Score:  81.97\n",
      "Classification Report:\n",
      "              precision    recall  f1-score   support\n",
      "\n",
      "           1       0.86      0.95      0.90      2377\n",
      "           2       0.43      0.15      0.22       404\n",
      "           3       0.77      0.79      0.78      1124\n",
      "\n",
      "    accuracy                           0.82      3905\n",
      "   macro avg       0.69      0.63      0.63      3905\n",
      "weighted avg       0.79      0.82      0.80      3905\n",
      "\n"
     ]
    }
   ],
   "source": [
    "# XGBoost Classifier\n",
    "import xgboost\n",
    "from xgboost import XGBClassifier\n",
    "xgb = XGBClassifier()\n",
    "xgb.fit(x_train,y_train)\n",
    "predxgb = xgb.predict(x_test)\n",
    "print(\"Confusion Matrix for XGBoost Classifier:\")\n",
    "print(confusion_matrix(y_test,predxgb))\n",
    "print(\"Score: \",round(accuracy_score(y_test,predxgb)*100,2))\n",
    "print(\"Classification Report:\")\n",
    "print(classification_report(y_test,predxgb))"
   ]
  },
  {
   "cell_type": "code",
   "execution_count": 24,
   "metadata": {},
   "outputs": [
    {
     "name": "stdout",
     "output_type": "stream",
     "text": [
      "Confusion Matrix for Multilayer Perceptron Classifier:\n",
      "[[2154  117  106]\n",
      " [ 153  111  140]\n",
      " [ 106  105  913]]\n",
      "Score: 81.38\n",
      "Classification Report:\n",
      "              precision    recall  f1-score   support\n",
      "\n",
      "           1       0.89      0.91      0.90      2377\n",
      "           2       0.33      0.27      0.30       404\n",
      "           3       0.79      0.81      0.80      1124\n",
      "\n",
      "    accuracy                           0.81      3905\n",
      "   macro avg       0.67      0.66      0.67      3905\n",
      "weighted avg       0.80      0.81      0.81      3905\n",
      "\n"
     ]
    }
   ],
   "source": [
    "# Multilayer perceptron classifier \n",
    "from sklearn.neural_network import MLPClassifier\n",
    "mlp = MLPClassifier()\n",
    "mlp.fit(x_train,y_train)\n",
    "predmlp = mlp.predict(x_test)\n",
    "print(\"Confusion Matrix for Multilayer Perceptron Classifier:\")\n",
    "print(confusion_matrix(y_test,predmlp))\n",
    "print(\"Score:\",round(accuracy_score(y_test,predmlp)*100,2))\n",
    "print(\"Classification Report:\")\n",
    "print(classification_report(y_test,predmlp))"
   ]
  },
  {
   "cell_type": "code",
   "execution_count": 25,
   "metadata": {},
   "outputs": [
    {
     "name": "stdout",
     "output_type": "stream",
     "text": [
      "Panda Express was on point tonight! I ordered through the mobile app and picked up order at pick up time and it was ready on time.  I double checked if my order was correct and it was. They gave us extra utensils and sauce.  The food was hot and fresh.  Superb customer service as well!  The best experience I've had at Panda Express!\n",
      "Actual Rating:  5 star rating\n",
      "Predicted Rating:\n"
     ]
    },
    {
     "data": {
      "text/plain": [
       "3"
      ]
     },
     "execution_count": 25,
     "metadata": {},
     "output_type": "execute_result"
    }
   ],
   "source": [
    "# Positive review\n",
    "pr = yelp_review['reviews'][0]\n",
    "print(pr)\n",
    "print(\"Actual Rating: \",yelp_review['rating'][0])\n",
    "pr_t = vocab.transform([pr])\n",
    "print(\"Predicted Rating:\")\n",
    "xgb.predict(pr_t)[0]"
   ]
  },
  {
   "cell_type": "code",
   "execution_count": 26,
   "metadata": {},
   "outputs": [
    {
     "name": "stdout",
     "output_type": "stream",
     "text": [
      "I was denied food before time of close. and before when i called on the phone to place an order to pickup was rudely told to \"come get it yourself.\" Can't believe a company hires people like this. I hope justice is served and that b***h that answered the phone is FIRED!\n",
      "Actual Rating:  1 star rating\n",
      "Predicted Rating:\n"
     ]
    },
    {
     "data": {
      "text/plain": [
       "1"
      ]
     },
     "execution_count": 26,
     "metadata": {},
     "output_type": "execute_result"
    }
   ],
   "source": [
    "# Average review\n",
    "ar = yelp_review['reviews'][21]\n",
    "print(ar)\n",
    "print(\"Actual Rating: \",yelp_review['rating'][21])\n",
    "ar_t = vocab.transform([ar])\n",
    "print(\"Predicted Rating:\")\n",
    "xgb.predict(ar_t)[0]"
   ]
  },
  {
   "cell_type": "code",
   "execution_count": 27,
   "metadata": {},
   "outputs": [
    {
     "name": "stdout",
     "output_type": "stream",
     "text": [
      "I ordered 5 total plates , fried rice , chow main, double orange chicken. Came hone and where is the fried rice? Check your order before you leave # upset\n",
      "Actual Rating:  1 star rating\n",
      "Predicted Rating:\n"
     ]
    },
    {
     "data": {
      "text/plain": [
       "1"
      ]
     },
     "execution_count": 27,
     "metadata": {},
     "output_type": "execute_result"
    }
   ],
   "source": [
    "# Negative review\n",
    "nr = yelp_review['reviews'][2]\n",
    "print(nr)\n",
    "print(\"Actual Rating: \",yelp_review['rating'][2])\n",
    "nr_t = vocab.transform([nr])\n",
    "print(\"Predicted Rating:\")\n",
    "xgb.predict(nr_t)[0]"
   ]
  },
  {
   "cell_type": "code",
   "execution_count": 28,
   "metadata": {},
   "outputs": [
    {
     "name": "stdout",
     "output_type": "stream",
     "text": [
      "1 star rating    8758\n",
      "5 star rating    3235\n",
      "2 star rating    2863\n",
      "4 star rating    2465\n",
      "3 star rating    2200\n",
      "Name: rating, dtype: int64\n"
     ]
    }
   ],
   "source": [
    "count = yelp_review['rating'].value_counts()\n",
    "print(count)"
   ]
  },
  {
   "cell_type": "code",
   "execution_count": 39,
   "metadata": {},
   "outputs": [
    {
     "data": {
      "text/plain": [
       "['Multinomial Naive Bayes',\n",
       " 'Random Forest Classifier',\n",
       " 'Decision Tree',\n",
       " 'Support Vector Machines',\n",
       " 'Gradient Boosting Classifier',\n",
       " 'K Neighbors Classifier',\n",
       " 'XGBoost Classifier',\n",
       " 'Multilayer Perceptron Classifier']"
      ]
     },
     "execution_count": 39,
     "metadata": {},
     "output_type": "execute_result"
    }
   ],
   "source": [
    "classifier_name = [\"Multinomial Naive Bayes\", \"Random Forest Classifier\", \"Decision Tree\", \"Support Vector Machines\", \"Gradient Boosting Classifier\", \"K Neighbors Classifier\", \"XGBoost Classifier\", \"Multilayer Perceptron Classifier\"]\n",
    "score_number = [accuracy_score(y_test,predmnb)*100, accuracy_score(y_test,predrmfr)*100, accuracy_score(y_test,preddt)*100, accuracy_score(y_test,predsvm)*100, accuracy_score(y_test,predgbi)*100, accuracy_score(y_test,predknn)*100, accuracy_score(y_test,predxgb)*100, accuracy_score(y_test,predmlp)*100]\n",
    "classifier_name"
   ]
  },
  {
   "cell_type": "code",
   "execution_count": 40,
   "metadata": {},
   "outputs": [
    {
     "data": {
      "text/html": [
       "<div>\n",
       "<style scoped>\n",
       "    .dataframe tbody tr th:only-of-type {\n",
       "        vertical-align: middle;\n",
       "    }\n",
       "\n",
       "    .dataframe tbody tr th {\n",
       "        vertical-align: top;\n",
       "    }\n",
       "\n",
       "    .dataframe thead th {\n",
       "        text-align: right;\n",
       "    }\n",
       "</style>\n",
       "<table border=\"1\" class=\"dataframe\">\n",
       "  <thead>\n",
       "    <tr style=\"text-align: right;\">\n",
       "      <th></th>\n",
       "      <th>Classifier</th>\n",
       "      <th>Score</th>\n",
       "    </tr>\n",
       "  </thead>\n",
       "  <tbody>\n",
       "    <tr>\n",
       "      <th>0</th>\n",
       "      <td>Multinomial Naive Bayes</td>\n",
       "      <td>81.562100</td>\n",
       "    </tr>\n",
       "    <tr>\n",
       "      <th>1</th>\n",
       "      <td>Random Forest Classifier</td>\n",
       "      <td>80.665813</td>\n",
       "    </tr>\n",
       "    <tr>\n",
       "      <th>2</th>\n",
       "      <td>Decision Tree</td>\n",
       "      <td>71.651729</td>\n",
       "    </tr>\n",
       "    <tr>\n",
       "      <th>3</th>\n",
       "      <td>Support Vector Machines</td>\n",
       "      <td>82.125480</td>\n",
       "    </tr>\n",
       "    <tr>\n",
       "      <th>4</th>\n",
       "      <td>Gradient Boosting Classifier</td>\n",
       "      <td>79.615877</td>\n",
       "    </tr>\n",
       "    <tr>\n",
       "      <th>5</th>\n",
       "      <td>K Neighbors Classifier</td>\n",
       "      <td>67.221511</td>\n",
       "    </tr>\n",
       "    <tr>\n",
       "      <th>6</th>\n",
       "      <td>XGBoost Classifier</td>\n",
       "      <td>81.971831</td>\n",
       "    </tr>\n",
       "    <tr>\n",
       "      <th>7</th>\n",
       "      <td>Multilayer Perceptron Classifier</td>\n",
       "      <td>81.382843</td>\n",
       "    </tr>\n",
       "  </tbody>\n",
       "</table>\n",
       "</div>"
      ],
      "text/plain": [
       "                         Classifier      Score\n",
       "0           Multinomial Naive Bayes  81.562100\n",
       "1          Random Forest Classifier  80.665813\n",
       "2                     Decision Tree  71.651729\n",
       "3           Support Vector Machines  82.125480\n",
       "4      Gradient Boosting Classifier  79.615877\n",
       "5            K Neighbors Classifier  67.221511\n",
       "6                XGBoost Classifier  81.971831\n",
       "7  Multilayer Perceptron Classifier  81.382843"
      ]
     },
     "execution_count": 40,
     "metadata": {},
     "output_type": "execute_result"
    }
   ],
   "source": [
    "final_df = pd.DataFrame({'Classifier':classifier_name, 'Score': score_number})\n",
    "final_df"
   ]
  },
  {
   "cell_type": "code",
   "execution_count": null,
   "metadata": {},
   "outputs": [],
   "source": []
  }
 ],
 "metadata": {
  "kernelspec": {
   "display_name": "Python 3",
   "language": "python",
   "name": "python3"
  },
  "language_info": {
   "codemirror_mode": {
    "name": "ipython",
    "version": 3
   },
   "file_extension": ".py",
   "mimetype": "text/x-python",
   "name": "python",
   "nbconvert_exporter": "python",
   "pygments_lexer": "ipython3",
   "version": "3.7.6"
  }
 },
 "nbformat": 4,
 "nbformat_minor": 4
}
