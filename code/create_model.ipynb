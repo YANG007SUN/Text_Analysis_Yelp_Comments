{
  "nbformat": 4,
  "nbformat_minor": 0,
  "metadata": {
    "kernelspec": {
      "display_name": "Python 3",
      "language": "python",
      "name": "python3"
    },
    "language_info": {
      "codemirror_mode": {
        "name": "ipython",
        "version": 3
      },
      "file_extension": ".py",
      "mimetype": "text/x-python",
      "name": "python",
      "nbconvert_exporter": "python",
      "pygments_lexer": "ipython3",
      "version": "3.7.6"
    },
    "colab": {
      "name": "create_model.ipynb",
      "provenance": []
    }
  },
  "cells": [
    {
      "cell_type": "code",
      "metadata": {
        "id": "XY9TOKfodvwH",
        "colab_type": "code",
        "colab": {
          "base_uri": "https://localhost:8080/",
          "height": 238
        },
        "outputId": "3483b46c-52b3-457d-c675-90cd972f4068"
      },
      "source": [
        "import os\n",
        "# Find the latest version of spark 2.0  from http://www-us.apache.org/dist/spark/ and enter as the spark version\n",
        "# For example:\n",
        "spark_version = 'spark-2.4.7'\n",
        "# spark_version = 'spark-2.<enter version>'\n",
        "os.environ['SPARK_VERSION']=spark_version\n",
        "\n",
        "# Install Spark and Java\n",
        "!apt-get update\n",
        "!apt-get install openjdk-8-jdk-headless -qq > /dev/null\n",
        "!wget -q http://www-us.apache.org/dist/spark/$SPARK_VERSION/$SPARK_VERSION-bin-hadoop2.7.tgz\n",
        "!tar xf $SPARK_VERSION-bin-hadoop2.7.tgz\n",
        "!pip install -q findspark\n",
        "\n",
        "# Set Environment Variables\n",
        "os.environ[\"JAVA_HOME\"] = \"/usr/lib/jvm/java-8-openjdk-amd64\"\n",
        "os.environ[\"SPARK_HOME\"] = f\"/content/{spark_version}-bin-hadoop2.7\"\n",
        "\n",
        "# Start a SparkSession\n",
        "import findspark\n",
        "findspark.init()\n",
        "\n"
      ],
      "execution_count": 19,
      "outputs": [
        {
          "output_type": "stream",
          "text": [
            "\r0% [Working]\r            \rIgn:1 https://developer.download.nvidia.com/compute/cuda/repos/ubuntu1804/x86_64  InRelease\n",
            "\r0% [Connecting to archive.ubuntu.com (91.189.88.152)] [Waiting for headers] [Wa\r                                                                               \rHit:2 https://cloud.r-project.org/bin/linux/ubuntu bionic-cran35/ InRelease\n",
            "\r0% [Waiting for headers] [Waiting for headers] [Waiting for headers] [Waiting f\r0% [2 InRelease gpgv 3,626 B] [Waiting for headers] [Waiting for headers] [Wait\r                                                                               \rIgn:3 https://developer.download.nvidia.com/compute/machine-learning/repos/ubuntu1804/x86_64  InRelease\n",
            "\r0% [2 InRelease gpgv 3,626 B] [Waiting for headers] [Waiting for headers] [Wait\r                                                                               \rGet:4 http://security.ubuntu.com/ubuntu bionic-security InRelease [88.7 kB]\n",
            "\r0% [2 InRelease gpgv 3,626 B] [Waiting for headers] [4 InRelease 14.2 kB/88.7 k\r                                                                               \rHit:5 http://ppa.launchpad.net/graphics-drivers/ppa/ubuntu bionic InRelease\n",
            "Hit:6 https://developer.download.nvidia.com/compute/cuda/repos/ubuntu1804/x86_64  Release\n",
            "Hit:7 https://developer.download.nvidia.com/compute/machine-learning/repos/ubuntu1804/x86_64  Release\n",
            "Hit:8 http://archive.ubuntu.com/ubuntu bionic InRelease\n",
            "Get:9 http://archive.ubuntu.com/ubuntu bionic-updates InRelease [88.7 kB]\n",
            "Hit:10 http://ppa.launchpad.net/marutter/c2d4u3.5/ubuntu bionic InRelease\n",
            "Get:11 http://archive.ubuntu.com/ubuntu bionic-backports InRelease [74.6 kB]\n",
            "Fetched 252 kB in 2s (132 kB/s)\n",
            "Reading package lists... Done\n"
          ],
          "name": "stdout"
        }
      ]
    },
    {
      "cell_type": "code",
      "metadata": {
        "id": "Q5PNfsCGdvwK",
        "colab_type": "code",
        "colab": {}
      },
      "source": [
        "# Start Spark session\n",
        "from pyspark.sql import SparkSession\n",
        "spark = SparkSession.builder.appName(\"YelpReview\").getOrCreate()"
      ],
      "execution_count": 20,
      "outputs": []
    },
    {
      "cell_type": "code",
      "metadata": {
        "id": "vRXeIzKxAbNl",
        "colab_type": "code",
        "colab": {}
      },
      "source": [
        "from pyspark.sql.functions import col, udf,length, size\n",
        "from pyspark.sql.types import StringType"
      ],
      "execution_count": 21,
      "outputs": []
    },
    {
      "cell_type": "markdown",
      "metadata": {
        "id": "_Eo6aW_mIU7v",
        "colab_type": "text"
      },
      "source": [
        "### Data cleaning"
      ]
    },
    {
      "cell_type": "code",
      "metadata": {
        "id": "NaEsSu5HdvwN",
        "colab_type": "code",
        "colab": {
          "base_uri": "https://localhost:8080/",
          "height": 459
        },
        "outputId": "5e8ab618-1340-421f-b4f0-ff11b059c30f"
      },
      "source": [
        "# Read in data from S3 Buckets\n",
        "from pyspark import SparkFiles\n",
        "url =\"https://usc-bootcamp-yelpreview-text-analysis.s3.us-east-2.amazonaws.com/reviews.csv\"\n",
        "spark.sparkContext.addFile(url)\n",
        "raw_df = spark.read.csv(SparkFiles.get(\"reviews.csv\"), sep=\",\", header=True)\n",
        "\n",
        "# Show DataFrame\n",
        "raw_df.show()"
      ],
      "execution_count": 22,
      "outputs": [
        {
          "output_type": "stream",
          "text": [
            "+--------------------+-------------+------------+\n",
            "|             reviews|       rating|review_count|\n",
            "+--------------------+-------------+------------+\n",
            "|Panda Express was...|5 star rating|          63|\n",
            "|The dude and I ca...|5 star rating|          63|\n",
            "|I ordered 5 total...|1 star rating|          63|\n",
            "|I always order Pa...|3 star rating|          63|\n",
            "|Decided to try Pa...|5 star rating|          63|\n",
            "|I've never had a ...|4 star rating|          63|\n",
            "|The family meal d...|1 star rating|          63|\n",
            "|Quality has sever...|2 star rating|          63|\n",
            "|Paid for a bowl a...|1 star rating|          63|\n",
            "|Order a bowl with...|1 star rating|          63|\n",
            "|Went through the ...|1 star rating|          63|\n",
            "|When I think of p...|2 star rating|          63|\n",
            "|Horrible is a und...|1 star rating|          63|\n",
            "|Yes the drive thr...|2 star rating|          63|\n",
            "|Okay..so Panda is...|4 star rating|          63|\n",
            "|Going through Dri...|2 star rating|          63|\n",
            "|My entrees were a...|2 star rating|          63|\n",
            "|I'm done being ri...|1 star rating|          63|\n",
            "|Worst Panda in Fr...|1 star rating|          63|\n",
            "|I've been in here...|5 star rating|          63|\n",
            "+--------------------+-------------+------------+\n",
            "only showing top 20 rows\n",
            "\n"
          ],
          "name": "stdout"
        }
      ]
    },
    {
      "cell_type": "code",
      "metadata": {
        "id": "6BZ0W3-m8moG",
        "colab_type": "code",
        "colab": {}
      },
      "source": [
        "# new column function - reduce dimension of rating column into 3 categories\n",
        "def rating_category(rating:str)->str:\n",
        "  \"\"\"create new column for label\n",
        "  \"\"\"\n",
        "  if rating in [\"1 star rating\"]:\n",
        "      return \"bad\"\n",
        "  elif rating in [\"2 star rating\", \"3 star rating\"]:\n",
        "      return \"descent\"\n",
        "  else: \n",
        "      return \"good\"\n",
        "\n",
        "assert rating_category(\"1 star rating\")==\"bad\"\n"
      ],
      "execution_count": 23,
      "outputs": []
    },
    {
      "cell_type": "code",
      "metadata": {
        "id": "fXkOnFY-BPTG",
        "colab_type": "code",
        "colab": {
          "base_uri": "https://localhost:8080/",
          "height": 34
        },
        "outputId": "7e21818a-6e55-4cfd-e72a-4ac10ad6144c"
      },
      "source": [
        "# Store a user defined function\n",
        "convert_rating = udf(rating_category, StringType())\n",
        "convert_rating"
      ],
      "execution_count": 24,
      "outputs": [
        {
          "output_type": "execute_result",
          "data": {
            "text/plain": [
              "<function __main__.rating_category>"
            ]
          },
          "metadata": {
            "tags": []
          },
          "execution_count": 24
        }
      ]
    },
    {
      "cell_type": "code",
      "metadata": {
        "id": "8-u1o_de3y1a",
        "colab_type": "code",
        "colab": {
          "base_uri": "https://localhost:8080/",
          "height": 459
        },
        "outputId": "a82bff65-c401-4a4f-a6eb-cc4acd72f51c"
      },
      "source": [
        "# add new column\n",
        "selected_df = raw_df.withColumn(\"output_label\", convert_rating(col(\"rating\")))\n",
        "selected_df = selected_df.withColumn(\"length\", length(selected_df[\"reviews\"]))\n",
        "selected_df.show()"
      ],
      "execution_count": 25,
      "outputs": [
        {
          "output_type": "stream",
          "text": [
            "+--------------------+-------------+------------+------------+------+\n",
            "|             reviews|       rating|review_count|output_label|length|\n",
            "+--------------------+-------------+------------+------------+------+\n",
            "|Panda Express was...|5 star rating|          63|        good|   334|\n",
            "|The dude and I ca...|5 star rating|          63|        good|   770|\n",
            "|I ordered 5 total...|1 star rating|          63|         bad|   151|\n",
            "|I always order Pa...|3 star rating|          63|     descent|   628|\n",
            "|Decided to try Pa...|5 star rating|          63|        good|   261|\n",
            "|I've never had a ...|4 star rating|          63|        good|   640|\n",
            "|The family meal d...|1 star rating|          63|         bad|   129|\n",
            "|Quality has sever...|2 star rating|          63|     descent|   350|\n",
            "|Paid for a bowl a...|1 star rating|          63|         bad|   158|\n",
            "|Order a bowl with...|1 star rating|          63|         bad|   151|\n",
            "|Went through the ...|1 star rating|          63|         bad|   675|\n",
            "|When I think of p...|2 star rating|          63|     descent|   269|\n",
            "|Horrible is a und...|1 star rating|          63|         bad|   480|\n",
            "|Yes the drive thr...|2 star rating|          63|     descent|   311|\n",
            "|Okay..so Panda is...|4 star rating|          63|        good|  1525|\n",
            "|Going through Dri...|2 star rating|          63|     descent|   653|\n",
            "|My entrees were a...|2 star rating|          63|     descent|   171|\n",
            "|I'm done being ri...|1 star rating|          63|         bad|  1065|\n",
            "|Worst Panda in Fr...|1 star rating|          63|         bad|   417|\n",
            "|I've been in here...|5 star rating|          63|        good|   410|\n",
            "+--------------------+-------------+------------+------------+------+\n",
            "only showing top 20 rows\n",
            "\n"
          ],
          "name": "stdout"
        }
      ]
    },
    {
      "cell_type": "markdown",
      "metadata": {
        "id": "3Gw825XQD9ZR",
        "colab_type": "text"
      },
      "source": [
        "### Feature Transformation"
      ]
    },
    {
      "cell_type": "code",
      "metadata": {
        "id": "r-YLw4x6D3Xi",
        "colab_type": "code",
        "colab": {}
      },
      "source": [
        "from pyspark.ml.feature import Tokenizer, StopWordsRemover, HashingTF, IDF, StringIndexer\n"
      ],
      "execution_count": 26,
      "outputs": []
    },
    {
      "cell_type": "code",
      "metadata": {
        "id": "DZ3s8Aq7vg_p",
        "colab_type": "code",
        "colab": {
          "base_uri": "https://localhost:8080/",
          "height": 459
        },
        "outputId": "559bf79f-c791-4fe5-867e-b6d50ab44437"
      },
      "source": [
        "# create token and remove stop words in order to find out stopwords percentage\n",
        "tokenizer = Tokenizer(inputCol=\"reviews\", outputCol=\"token\")\n",
        "selected_df = tokenizer.transform(selected_df)\n",
        "stop_word_remover = StopWordsRemover(inputCol=\"token\", outputCol=\"filtered_token\")\n",
        "selected_df = stop_word_remover.transform(selected_df)\n",
        "selected_df.show()"
      ],
      "execution_count": 27,
      "outputs": [
        {
          "output_type": "stream",
          "text": [
            "+--------------------+-------------+------------+------------+------+--------------------+--------------------+\n",
            "|             reviews|       rating|review_count|output_label|length|               token|      filtered_token|\n",
            "+--------------------+-------------+------------+------------+------+--------------------+--------------------+\n",
            "|Panda Express was...|5 star rating|          63|        good|   334|[panda, express, ...|[panda, express, ...|\n",
            "|The dude and I ca...|5 star rating|          63|        good|   770|[the, dude, and, ...|[dude, came, pand...|\n",
            "|I ordered 5 total...|1 star rating|          63|         bad|   151|[i, ordered, 5, t...|[ordered, 5, tota...|\n",
            "|I always order Pa...|3 star rating|          63|     descent|   628|[i, always, order...|[always, order, p...|\n",
            "|Decided to try Pa...|5 star rating|          63|        good|   261|[decided, to, try...|[decided, try, pa...|\n",
            "|I've never had a ...|4 star rating|          63|        good|   640|[i've, never, had...|[never, bad, expe...|\n",
            "|The family meal d...|1 star rating|          63|         bad|   129|[the, family, mea...|[family, meal, de...|\n",
            "|Quality has sever...|2 star rating|          63|     descent|   350|[quality, has, se...|[quality, severel...|\n",
            "|Paid for a bowl a...|1 star rating|          63|         bad|   158|[paid, for, a, bo...|[paid, bowl, entr...|\n",
            "|Order a bowl with...|1 star rating|          63|         bad|   151|[order, a, bowl, ...|[order, bowl, cho...|\n",
            "|Went through the ...|1 star rating|          63|         bad|   675|[went, through, t...|[went, drive-thro...|\n",
            "|When I think of p...|2 star rating|          63|     descent|   269|[when, i, think, ...|[think, panda, go...|\n",
            "|Horrible is a und...|1 star rating|          63|         bad|   480|[horrible, is, a,...|[horrible, unders...|\n",
            "|Yes the drive thr...|2 star rating|          63|     descent|   311|[yes, the, drive,...|[yes, drive, fast...|\n",
            "|Okay..so Panda is...|4 star rating|          63|        good|  1525|[okay..so, panda,...|[okay..so, panda,...|\n",
            "|Going through Dri...|2 star rating|          63|     descent|   653|[going, through, ...|[going, drive-thr...|\n",
            "|My entrees were a...|2 star rating|          63|     descent|   171|[my, entrees, wer...|[entrees, poor, s...|\n",
            "|I'm done being ri...|1 star rating|          63|         bad|  1065|[i'm, done, being...|[done, ripped, lo...|\n",
            "|Worst Panda in Fr...|1 star rating|          63|         bad|   417|[worst, panda, in...|[worst, panda, fr...|\n",
            "|I've been in here...|5 star rating|          63|        good|   410|[i've, been, in, ...|[many, times, say...|\n",
            "+--------------------+-------------+------------+------------+------+--------------------+--------------------+\n",
            "only showing top 20 rows\n",
            "\n"
          ],
          "name": "stdout"
        }
      ]
    },
    {
      "cell_type": "code",
      "metadata": {
        "id": "xyh8KYgKwp-n",
        "colab_type": "code",
        "colab": {
          "base_uri": "https://localhost:8080/",
          "height": 459
        },
        "outputId": "a8011009-00d5-4aae-b92e-641799023b5b"
      },
      "source": [
        "selected_df = selected_df.withColumn(\"stopwords_count\", size(selected_df[\"filtered_token\"]))\n",
        "selected_df = selected_df.withColumn(\"stopwords_percent\", selected_df[\"stopwords_count\"]/selected_df[\"length\"])\n",
        "selected_df.show()"
      ],
      "execution_count": 28,
      "outputs": [
        {
          "output_type": "stream",
          "text": [
            "+--------------------+-------------+------------+------------+------+--------------------+--------------------+---------------+-------------------+\n",
            "|             reviews|       rating|review_count|output_label|length|               token|      filtered_token|stopwords_count|  stopwords_percent|\n",
            "+--------------------+-------------+------------+------------+------+--------------------+--------------------+---------------+-------------------+\n",
            "|Panda Express was...|5 star rating|          63|        good|   334|[panda, express, ...|[panda, express, ...|             37|0.11077844311377245|\n",
            "|The dude and I ca...|5 star rating|          63|        good|   770|[the, dude, and, ...|[dude, came, pand...|             80| 0.1038961038961039|\n",
            "|I ordered 5 total...|1 star rating|          63|         bad|   151|[i, ordered, 5, t...|[ordered, 5, tota...|             22| 0.1456953642384106|\n",
            "|I always order Pa...|3 star rating|          63|     descent|   628|[i, always, order...|[always, order, p...|             60|0.09554140127388536|\n",
            "|Decided to try Pa...|5 star rating|          63|        good|   261|[decided, to, try...|[decided, try, pa...|             32|0.12260536398467432|\n",
            "|I've never had a ...|4 star rating|          63|        good|   640|[i've, never, had...|[never, bad, expe...|             60|            0.09375|\n",
            "|The family meal d...|1 star rating|          63|         bad|   129|[the, family, mea...|[family, meal, de...|             13|0.10077519379844961|\n",
            "|Quality has sever...|2 star rating|          63|     descent|   350|[quality, has, se...|[quality, severel...|             48|0.13714285714285715|\n",
            "|Paid for a bowl a...|1 star rating|          63|         bad|   158|[paid, for, a, bo...|[paid, bowl, entr...|             18|0.11392405063291139|\n",
            "|Order a bowl with...|1 star rating|          63|         bad|   151|[order, a, bowl, ...|[order, bowl, cho...|             19|0.12582781456953643|\n",
            "|Went through the ...|1 star rating|          63|         bad|   675|[went, through, t...|[went, drive-thro...|             62|0.09185185185185185|\n",
            "|When I think of p...|2 star rating|          63|     descent|   269|[when, i, think, ...|[think, panda, go...|             28|0.10408921933085502|\n",
            "|Horrible is a und...|1 star rating|          63|         bad|   480|[horrible, is, a,...|[horrible, unders...|             45|            0.09375|\n",
            "|Yes the drive thr...|2 star rating|          63|     descent|   311|[yes, the, drive,...|[yes, drive, fast...|             32|0.10289389067524116|\n",
            "|Okay..so Panda is...|4 star rating|          63|        good|  1525|[okay..so, panda,...|[okay..so, panda,...|            149|0.09770491803278689|\n",
            "|Going through Dri...|2 star rating|          63|     descent|   653|[going, through, ...|[going, drive-thr...|             64|0.09800918836140889|\n",
            "|My entrees were a...|2 star rating|          63|     descent|   171|[my, entrees, wer...|[entrees, poor, s...|             21|0.12280701754385964|\n",
            "|I'm done being ri...|1 star rating|          63|         bad|  1065|[i'm, done, being...|[done, ripped, lo...|            106|0.09953051643192488|\n",
            "|Worst Panda in Fr...|1 star rating|          63|         bad|   417|[worst, panda, in...|[worst, panda, fr...|             47|0.11270983213429256|\n",
            "|I've been in here...|5 star rating|          63|        good|   410|[i've, been, in, ...|[many, times, say...|             37|0.09024390243902439|\n",
            "+--------------------+-------------+------------+------------+------+--------------------+--------------------+---------------+-------------------+\n",
            "only showing top 20 rows\n",
            "\n"
          ],
          "name": "stdout"
        }
      ]
    },
    {
      "cell_type": "code",
      "metadata": {
        "id": "Qz57Y3xxEHRJ",
        "colab_type": "code",
        "colab": {}
      },
      "source": [
        "# create all features to the dataset\n",
        "label_encoder = StringIndexer(inputCol=\"output_label\", outputCol=\"label\")\n",
        "hasher = HashingTF(inputCol=\"filtered_token\", outputCol=\"hashed_token\")\n",
        "idf = IDF(inputCol=\"hashed_token\", outputCol=\"idf_token\")\n"
      ],
      "execution_count": 29,
      "outputs": []
    },
    {
      "cell_type": "code",
      "metadata": {
        "id": "NmeYECzrEHTd",
        "colab_type": "code",
        "colab": {}
      },
      "source": [
        "from pyspark.ml.feature import VectorAssembler\n",
        "from pyspark.ml.linalg import Vector\n",
        "\n",
        "# Create feature vectors\n",
        "vectorizer = VectorAssembler(inputCols = [\"idf_token\", \"length\",\"stopwords_percent\"], outputCol = \"features\")\n"
      ],
      "execution_count": 30,
      "outputs": []
    },
    {
      "cell_type": "markdown",
      "metadata": {
        "id": "E4U-I2I6FTV9",
        "colab_type": "text"
      },
      "source": [
        "### Create a Pipeline to Automate The Data Transformations"
      ]
    },
    {
      "cell_type": "code",
      "metadata": {
        "id": "v6EGuPcMFVop",
        "colab_type": "code",
        "colab": {}
      },
      "source": [
        "# Create a and run a data processing Pipeline\n",
        "from pyspark.ml import Pipeline\n",
        "pipeline = Pipeline(stages=[label_encoder, hasher, idf, vectorizer])\n"
      ],
      "execution_count": 13,
      "outputs": []
    },
    {
      "cell_type": "code",
      "metadata": {
        "id": "KONh1TWZFVrh",
        "colab_type": "code",
        "colab": {
          "base_uri": "https://localhost:8080/",
          "height": 479
        },
        "outputId": "c4609dc3-374b-4357-afc6-f6c158c626f1"
      },
      "source": [
        "# fit and transform data with pipeline\n",
        "pipeline_model = pipeline.fit(selected_df)\n",
        "cleaned_df = pipeline_model.transform(selected_df)\n",
        "cleaned_df.show()"
      ],
      "execution_count": 14,
      "outputs": [
        {
          "output_type": "stream",
          "text": [
            "+--------------------+-------------+------------+------------+------+--------------------+--------------------+---------------+-------------------+-----+--------------------+--------------------+--------------------+\n",
            "|             reviews|       rating|review_count|output_label|length|               token|      filtered_token|stopwords_count|  stopwords_percent|label|        hashed_token|           idf_token|            features|\n",
            "+--------------------+-------------+------------+------------+------+--------------------+--------------------+---------------+-------------------+-----+--------------------+--------------------+--------------------+\n",
            "|Panda Express was...|5 star rating|          63|        good|   334|[panda, express, ...|[panda, express, ...|             37|0.11077844311377245|  1.0|(262144,[2711,610...|(262144,[2711,610...|(262146,[2711,610...|\n",
            "|The dude and I ca...|5 star rating|          63|        good|   770|[the, dude, and, ...|[dude, came, pand...|             80| 0.1038961038961039|  1.0|(262144,[9090,131...|(262144,[9090,131...|(262146,[9090,131...|\n",
            "|I ordered 5 total...|1 star rating|          63|         bad|   151|[i, ordered, 5, t...|[ordered, 5, tota...|             22| 0.1456953642384106|  0.0|(262144,[4402,978...|(262144,[4402,978...|(262146,[4402,978...|\n",
            "|I always order Pa...|3 star rating|          63|     descent|   628|[i, always, order...|[always, order, p...|             60|0.09554140127388536|  2.0|(262144,[329,2325...|(262144,[329,2325...|(262146,[329,2325...|\n",
            "|Decided to try Pa...|5 star rating|          63|        good|   261|[decided, to, try...|[decided, try, pa...|             32|0.12260536398467432|  1.0|(262144,[8086,335...|(262144,[8086,335...|(262146,[8086,335...|\n",
            "|I've never had a ...|4 star rating|          63|        good|   640|[i've, never, had...|[never, bad, expe...|             60|            0.09375|  1.0|(262144,[78,8287,...|(262144,[78,8287,...|(262146,[78,8287,...|\n",
            "|The family meal d...|1 star rating|          63|         bad|   129|[the, family, mea...|[family, meal, de...|             13|0.10077519379844961|  0.0|(262144,[19153,49...|(262144,[19153,49...|(262146,[19153,49...|\n",
            "|Quality has sever...|2 star rating|          63|     descent|   350|[quality, has, se...|[quality, severel...|             48|0.13714285714285715|  2.0|(262144,[16595,28...|(262144,[16595,28...|(262146,[16595,28...|\n",
            "|Paid for a bowl a...|1 star rating|          63|         bad|   158|[paid, for, a, bo...|[paid, bowl, entr...|             18|0.11392405063291139|  0.0|(262144,[15664,20...|(262144,[15664,20...|(262146,[15664,20...|\n",
            "|Order a bowl with...|1 star rating|          63|         bad|   151|[order, a, bowl, ...|[order, bowl, cho...|             19|0.12582781456953643|  0.0|(262144,[5381,172...|(262144,[5381,172...|(262146,[5381,172...|\n",
            "|Went through the ...|1 star rating|          63|         bad|   675|[went, through, t...|[went, drive-thro...|             62|0.09185185185185185|  0.0|(262144,[329,2325...|(262144,[329,2325...|(262146,[329,2325...|\n",
            "|When I think of p...|2 star rating|          63|     descent|   269|[when, i, think, ...|[think, panda, go...|             28|0.10408921933085502|  2.0|(262144,[78,2437,...|(262144,[78,2437,...|(262146,[78,2437,...|\n",
            "|Horrible is a und...|1 star rating|          63|         bad|   480|[horrible, is, a,...|[horrible, unders...|             45|            0.09375|  0.0|(262144,[4402,137...|(262144,[4402,137...|(262146,[4402,137...|\n",
            "|Yes the drive thr...|2 star rating|          63|     descent|   311|[yes, the, drive,...|[yes, drive, fast...|             32|0.10289389067524116|  2.0|(262144,[6796,172...|(262144,[6796,172...|(262146,[6796,172...|\n",
            "|Okay..so Panda is...|4 star rating|          63|        good|  1525|[okay..so, panda,...|[okay..so, panda,...|            149|0.09770491803278689|  1.0|(262144,[2437,755...|(262144,[2437,755...|(262146,[2437,755...|\n",
            "|Going through Dri...|2 star rating|          63|     descent|   653|[going, through, ...|[going, drive-thr...|             64|0.09800918836140889|  2.0|(262144,[2410,124...|(262144,[2410,124...|(262146,[2410,124...|\n",
            "|My entrees were a...|2 star rating|          63|     descent|   171|[my, entrees, wer...|[entrees, poor, s...|             21|0.12280701754385964|  2.0|(262144,[16091,31...|(262144,[16091,31...|(262146,[16091,31...|\n",
            "|I'm done being ri...|1 star rating|          63|         bad|  1065|[i'm, done, being...|[done, ripped, lo...|            106|0.09953051643192488|  0.0|(262144,[8985,134...|(262144,[8985,134...|(262146,[8985,134...|\n",
            "|Worst Panda in Fr...|1 star rating|          63|         bad|   417|[worst, panda, in...|[worst, panda, fr...|             47|0.11270983213429256|  0.0|(262144,[1536,232...|(262144,[1536,232...|(262146,[1536,232...|\n",
            "|I've been in here...|5 star rating|          63|        good|   410|[i've, been, in, ...|[many, times, say...|             37|0.09024390243902439|  1.0|(262144,[553,1489...|(262144,[553,1489...|(262146,[553,1489...|\n",
            "+--------------------+-------------+------------+------------+------+--------------------+--------------------+---------------+-------------------+-----+--------------------+--------------------+--------------------+\n",
            "only showing top 20 rows\n",
            "\n"
          ],
          "name": "stdout"
        }
      ]
    },
    {
      "cell_type": "markdown",
      "metadata": {
        "id": "72XEtR0OG0S4",
        "colab_type": "text"
      },
      "source": [
        "### Create training and testing dataset"
      ]
    },
    {
      "cell_type": "code",
      "metadata": {
        "id": "kYGmr5jgFV3q",
        "colab_type": "code",
        "colab": {}
      },
      "source": [
        "from pyspark.ml.classification import NaiveBayes\n",
        "\n",
        "# Break data down into a training set and a testing set\n",
        "training, testing = cleaned_df.randomSplit([0.7, 0.3], seed = 43)"
      ],
      "execution_count": 15,
      "outputs": []
    },
    {
      "cell_type": "markdown",
      "metadata": {
        "id": "py6Vy9ymHL4x",
        "colab_type": "text"
      },
      "source": [
        "### Fit and predict NaiveBaye model"
      ]
    },
    {
      "cell_type": "code",
      "metadata": {
        "id": "vALxGjKCFVy5",
        "colab_type": "code",
        "colab": {}
      },
      "source": [
        "# Create a Naive Bayes model and fit training data\n",
        "model = NaiveBayes()\n",
        "predictor = model.fit(training)\n"
      ],
      "execution_count": 16,
      "outputs": []
    },
    {
      "cell_type": "code",
      "metadata": {
        "id": "cFzzWBfUFVuU",
        "colab_type": "code",
        "colab": {
          "base_uri": "https://localhost:8080/",
          "height": 224
        },
        "outputId": "cf95eff5-6c21-4327-ea61-cbc3b1a0247f"
      },
      "source": [
        "# Tranform the model with the testing data\n",
        "test_results = predictor.transform(testing)\n",
        "test_results.show(5)"
      ],
      "execution_count": 17,
      "outputs": [
        {
          "output_type": "stream",
          "text": [
            "+--------------------+-------------+------------+------------+------+--------------------+--------------------+---------------+-------------------+-----+--------------------+--------------------+--------------------+--------------------+--------------------+----------+\n",
            "|             reviews|       rating|review_count|output_label|length|               token|      filtered_token|stopwords_count|  stopwords_percent|label|        hashed_token|           idf_token|            features|       rawPrediction|         probability|prediction|\n",
            "+--------------------+-------------+------------+------------+------+--------------------+--------------------+---------------+-------------------+-----+--------------------+--------------------+--------------------+--------------------+--------------------+----------+\n",
            "|\"\"\"I never want t...|2 star rating|          29|     descent|  1410|[\"\"\"i, never, wan...|[\"\"\"i, never, wan...|            141|                0.1|  2.0|(262144,[14,4200,...|(262144,[14,4200,...|(262146,[14,4200,...|[-6054.9391900640...|[4.10747369219546...|       2.0|\n",
            "|\"\"\"No soup for yo...|1 star rating|         150|         bad|   272|[\"\"\"no, soup, for...|[\"\"\"no, soup, you...|             32|0.11764705882352941|  0.0|(262144,[1739,537...|(262144,[1739,537...|(262146,[1739,537...|[-2052.7273710531...|[5.66068646322026...|       2.0|\n",
            "|\"\"\"Panda\"\" says m...|4 star rating|          46|        good|   342|[\"\"\"panda\"\", says...|[\"\"\"panda\"\", says...|             36|0.10526315789473684|  1.0|(262144,[13781,21...|(262144,[13781,21...|(262146,[13781,21...|[-1480.2518794328...|[0.01504984992804...|       2.0|\n",
            "|\"\"\"There is much ...|1 star rating|          37|         bad|  1685|[\"\"\"there, is, mu...|[\"\"\"there, much, ...|            158|0.09376854599406528|  0.0|(262144,[512,929,...|(262144,[512,929,...|(262146,[512,929,...|[-7877.0789455567...|[1.0,5.1868540122...|       0.0|\n",
            "|\"(5/2/2018)  Stop...|3 star rating|          41|     descent|  1372|[\"(5/2/2018),  st...|[\"(5/2/2018),  st...|            140|0.10204081632653061|  2.0|(262144,[1854,232...|(262144,[1854,232...|(262146,[1854,232...|[-9527.8320339369...|[2.63553734785716...|       2.0|\n",
            "+--------------------+-------------+------------+------------+------+--------------------+--------------------+---------------+-------------------+-----+--------------------+--------------------+--------------------+--------------------+--------------------+----------+\n",
            "only showing top 5 rows\n",
            "\n"
          ],
          "name": "stdout"
        }
      ]
    },
    {
      "cell_type": "code",
      "metadata": {
        "id": "ld09ZCgsHvqa",
        "colab_type": "code",
        "colab": {
          "base_uri": "https://localhost:8080/",
          "height": 34
        },
        "outputId": "4483863f-4b34-451e-b7e0-4a6cf6d1fa30"
      },
      "source": [
        "# Use the Class Evaluator for a cleaner description\n",
        "from pyspark.ml.evaluation import MulticlassClassificationEvaluator\n",
        "\n",
        "acc_eval = MulticlassClassificationEvaluator()\n",
        "acc = acc_eval.evaluate(test_results)\n",
        "print(\"Accuracy of model at predicting reviews was: %f\" % acc)"
      ],
      "execution_count": 18,
      "outputs": [
        {
          "output_type": "stream",
          "text": [
            "Accuracy of model at predicting reviews was: 0.671084\n"
          ],
          "name": "stdout"
        }
      ]
    },
    {
      "cell_type": "code",
      "metadata": {
        "id": "yPIi3htI1a2R",
        "colab_type": "code",
        "colab": {}
      },
      "source": [
        "from pyspark.mllib.evaluation import MulticlassMetrics\n",
        "# Create (prediction, label) pairs\n",
        "predictionAndLabel = test_results.select(\"prediction\", \"label\").rdd\n",
        "\n",
        "# Generate confusion matrix\n",
        "metrics = MulticlassMetrics(predictionAndLabel)\n",
        "print(metrics.confusionMatrix())"
      ],
      "execution_count": null,
      "outputs": []
    },
    {
      "cell_type": "code",
      "metadata": {
        "id": "xNYnmYCKdvwV",
        "colab_type": "code",
        "colab": {
          "base_uri": "https://localhost:8080/",
          "height": 68
        },
        "outputId": "ba96fb39-6a70-4f62-ddfd-25b1f4a2c041"
      },
      "source": [
        ""
      ],
      "execution_count": null,
      "outputs": [
        {
          "output_type": "stream",
          "text": [
            "DenseMatrix([[2067.,   46.,  286.],\n",
            "             [ 219., 1115.,  259.],\n",
            "             [ 702.,  179.,  462.]])\n"
          ],
          "name": "stdout"
        }
      ]
    },
    {
      "cell_type": "markdown",
      "metadata": {
        "id": "gVc5IPj2-KnE",
        "colab_type": "text"
      },
      "source": [
        "### Fit and predict with RandomForest Model"
      ]
    },
    {
      "cell_type": "code",
      "metadata": {
        "id": "nP8jUE9n-Phh",
        "colab_type": "code",
        "colab": {}
      },
      "source": [
        "from pyspark.ml.classification import RandomForestClassifier\n"
      ],
      "execution_count": 19,
      "outputs": []
    },
    {
      "cell_type": "code",
      "metadata": {
        "id": "ng6PCJWNAVfa",
        "colab_type": "code",
        "colab": {}
      },
      "source": [
        "# create randomforest model and fit into training dataset\n",
        "rf_model = RandomForestClassifier()\n",
        "rf_predictor = rf_model.fit(training)\n"
      ],
      "execution_count": 20,
      "outputs": []
    },
    {
      "cell_type": "code",
      "metadata": {
        "id": "1Fvl28ovA7sX",
        "colab_type": "code",
        "colab": {
          "base_uri": "https://localhost:8080/",
          "height": 224
        },
        "outputId": "18923f83-893b-416c-f006-d32400e7b617"
      },
      "source": [
        "# transform the model with testing data \n",
        "# Tranform the model with the testing data\n",
        "test_results = rf_predictor.transform(testing)\n",
        "test_results.show(5)\n",
        "\n"
      ],
      "execution_count": 21,
      "outputs": [
        {
          "output_type": "stream",
          "text": [
            "+--------------------+-------------+------------+------------+------+--------------------+--------------------+---------------+-------------------+-----+--------------------+--------------------+--------------------+--------------------+--------------------+----------+\n",
            "|             reviews|       rating|review_count|output_label|length|               token|      filtered_token|stopwords_count|  stopwords_percent|label|        hashed_token|           idf_token|            features|       rawPrediction|         probability|prediction|\n",
            "+--------------------+-------------+------------+------------+------+--------------------+--------------------+---------------+-------------------+-----+--------------------+--------------------+--------------------+--------------------+--------------------+----------+\n",
            "|\"\"\"I never want t...|2 star rating|          29|     descent|  1410|[\"\"\"i, never, wan...|[\"\"\"i, never, wan...|            141|                0.1|  2.0|(262144,[14,4200,...|(262144,[14,4200,...|(262146,[14,4200,...|[8.49940571908119...|[0.42497028595405...|       0.0|\n",
            "|\"\"\"No soup for yo...|1 star rating|         150|         bad|   272|[\"\"\"no, soup, for...|[\"\"\"no, soup, you...|             32|0.11764705882352941|  0.0|(262144,[1739,537...|(262144,[1739,537...|(262146,[1739,537...|[8.75398543440841...|[0.43769927172042...|       0.0|\n",
            "|\"\"\"Panda\"\" says m...|4 star rating|          46|        good|   342|[\"\"\"panda\"\", says...|[\"\"\"panda\"\", says...|             36|0.10526315789473684|  1.0|(262144,[13781,21...|(262144,[13781,21...|(262146,[13781,21...|[9.41388830781453...|[0.47069441539072...|       0.0|\n",
            "|\"\"\"There is much ...|1 star rating|          37|         bad|  1685|[\"\"\"there, is, mu...|[\"\"\"there, much, ...|            158|0.09376854599406528|  0.0|(262144,[512,929,...|(262144,[512,929,...|(262146,[512,929,...|[10.0224038751091...|[0.50112019375545...|       0.0|\n",
            "|\"(5/2/2018)  Stop...|3 star rating|          41|     descent|  1372|[\"(5/2/2018),  st...|[\"(5/2/2018),  st...|            140|0.10204081632653061|  2.0|(262144,[1854,232...|(262144,[1854,232...|(262146,[1854,232...|[9.04791287612951...|[0.45239564380647...|       0.0|\n",
            "+--------------------+-------------+------------+------------+------+--------------------+--------------------+---------------+-------------------+-----+--------------------+--------------------+--------------------+--------------------+--------------------+----------+\n",
            "only showing top 5 rows\n",
            "\n"
          ],
          "name": "stdout"
        }
      ]
    },
    {
      "cell_type": "code",
      "metadata": {
        "id": "AlpxjpbRHUtJ",
        "colab_type": "code",
        "colab": {
          "base_uri": "https://localhost:8080/",
          "height": 34
        },
        "outputId": "2721e285-1b6b-480c-bc93-386f3a15e010"
      },
      "source": [
        "# Use the Class Evaluator for a cleaner description\n",
        "from pyspark.ml.evaluation import MulticlassClassificationEvaluator\n",
        "\n",
        "acc_eval = MulticlassClassificationEvaluator()\n",
        "rf_acc = acc_eval.evaluate(test_results)\n",
        "print(\"Accuracy of model at predicting reviews was: %f\" % rf_acc)"
      ],
      "execution_count": 22,
      "outputs": [
        {
          "output_type": "stream",
          "text": [
            "Accuracy of model at predicting reviews was: 0.280607\n"
          ],
          "name": "stdout"
        }
      ]
    },
    {
      "cell_type": "code",
      "metadata": {
        "id": "-RmBi8c2HgOa",
        "colab_type": "code",
        "colab": {
          "base_uri": "https://localhost:8080/",
          "height": 368
        },
        "outputId": "c8059513-fc02-4e8c-fd69-1e4ba46c44a2"
      },
      "source": [
        "from pyspark.mllib.evaluation import MulticlassMetrics\n",
        "# Create (prediction, label) pairs\n",
        "predictionAndLabel = test_results.select(\"prediction\", \"label\").rdd\n",
        "\n",
        "# Generate confusion matrix\n",
        "metrics = MulticlassMetrics(predictionAndLabel)\n",
        "print(metrics.confusionMatrix())"
      ],
      "execution_count": 1,
      "outputs": [
        {
          "output_type": "error",
          "ename": "ModuleNotFoundError",
          "evalue": "ignored",
          "traceback": [
            "\u001b[0;31m---------------------------------------------------------------------------\u001b[0m",
            "\u001b[0;31mModuleNotFoundError\u001b[0m                       Traceback (most recent call last)",
            "\u001b[0;32m<ipython-input-1-8662425919b9>\u001b[0m in \u001b[0;36m<module>\u001b[0;34m()\u001b[0m\n\u001b[0;32m----> 1\u001b[0;31m \u001b[0;32mfrom\u001b[0m \u001b[0mpyspark\u001b[0m\u001b[0;34m.\u001b[0m\u001b[0mmllib\u001b[0m\u001b[0;34m.\u001b[0m\u001b[0mevaluation\u001b[0m \u001b[0;32mimport\u001b[0m \u001b[0mMulticlassMetrics\u001b[0m\u001b[0;34m\u001b[0m\u001b[0;34m\u001b[0m\u001b[0m\n\u001b[0m\u001b[1;32m      2\u001b[0m \u001b[0;31m# Create (prediction, label) pairs\u001b[0m\u001b[0;34m\u001b[0m\u001b[0;34m\u001b[0m\u001b[0;34m\u001b[0m\u001b[0m\n\u001b[1;32m      3\u001b[0m \u001b[0mpredictionAndLabel\u001b[0m \u001b[0;34m=\u001b[0m \u001b[0mtest_results\u001b[0m\u001b[0;34m.\u001b[0m\u001b[0mselect\u001b[0m\u001b[0;34m(\u001b[0m\u001b[0;34m\"prediction\"\u001b[0m\u001b[0;34m,\u001b[0m \u001b[0;34m\"label\"\u001b[0m\u001b[0;34m)\u001b[0m\u001b[0;34m.\u001b[0m\u001b[0mrdd\u001b[0m\u001b[0;34m\u001b[0m\u001b[0;34m\u001b[0m\u001b[0m\n\u001b[1;32m      4\u001b[0m \u001b[0;34m\u001b[0m\u001b[0m\n\u001b[1;32m      5\u001b[0m \u001b[0;31m# Generate confusion matrix\u001b[0m\u001b[0;34m\u001b[0m\u001b[0;34m\u001b[0m\u001b[0;34m\u001b[0m\u001b[0m\n",
            "\u001b[0;31mModuleNotFoundError\u001b[0m: No module named 'pyspark'",
            "",
            "\u001b[0;31m---------------------------------------------------------------------------\u001b[0;32m\nNOTE: If your import is failing due to a missing package, you can\nmanually install dependencies using either !pip or !apt.\n\nTo view examples of installing some common dependencies, click the\n\"Open Examples\" button below.\n\u001b[0;31m---------------------------------------------------------------------------\u001b[0m\n"
          ]
        }
      ]
    },
    {
      "cell_type": "code",
      "metadata": {
        "id": "2CjrJ8COIK0S",
        "colab_type": "code",
        "colab": {}
      },
      "source": [
        ""
      ],
      "execution_count": null,
      "outputs": []
    },
    {
      "cell_type": "markdown",
      "metadata": {
        "id": "cdba3oPDixtv",
        "colab_type": "text"
      },
      "source": [
        "### Sentimental Analysis with RNN"
      ]
    },
    {
      "cell_type": "code",
      "metadata": {
        "id": "kigSTDNBi2bJ",
        "colab_type": "code",
        "colab": {}
      },
      "source": [
        "import pandas as pd\n",
        "import numpy as np"
      ],
      "execution_count": 57,
      "outputs": []
    },
    {
      "cell_type": "code",
      "metadata": {
        "id": "9XJqE8tGi73e",
        "colab_type": "code",
        "colab": {
          "base_uri": "https://localhost:8080/",
          "height": 204
        },
        "outputId": "b53ce699-64a3-4c00-bf5c-6cc5ef0445b2"
      },
      "source": [
        "reviews = pd.read_csv(url)\n",
        "reviews = reviews.iloc[:,0:2]\n",
        "reviews.head()"
      ],
      "execution_count": 88,
      "outputs": [
        {
          "output_type": "execute_result",
          "data": {
            "text/html": [
              "<div>\n",
              "<style scoped>\n",
              "    .dataframe tbody tr th:only-of-type {\n",
              "        vertical-align: middle;\n",
              "    }\n",
              "\n",
              "    .dataframe tbody tr th {\n",
              "        vertical-align: top;\n",
              "    }\n",
              "\n",
              "    .dataframe thead th {\n",
              "        text-align: right;\n",
              "    }\n",
              "</style>\n",
              "<table border=\"1\" class=\"dataframe\">\n",
              "  <thead>\n",
              "    <tr style=\"text-align: right;\">\n",
              "      <th></th>\n",
              "      <th>reviews</th>\n",
              "      <th>rating</th>\n",
              "    </tr>\n",
              "  </thead>\n",
              "  <tbody>\n",
              "    <tr>\n",
              "      <th>0</th>\n",
              "      <td>Panda Express was on point tonight! I ordered ...</td>\n",
              "      <td>5 star rating</td>\n",
              "    </tr>\n",
              "    <tr>\n",
              "      <th>1</th>\n",
              "      <td>The dude and I came to this Panda Express arou...</td>\n",
              "      <td>5 star rating</td>\n",
              "    </tr>\n",
              "    <tr>\n",
              "      <th>2</th>\n",
              "      <td>I ordered 5 total plates  fried rice  chow mai...</td>\n",
              "      <td>1 star rating</td>\n",
              "    </tr>\n",
              "    <tr>\n",
              "      <th>3</th>\n",
              "      <td>I always order Panda Express from here and the...</td>\n",
              "      <td>3 star rating</td>\n",
              "    </tr>\n",
              "    <tr>\n",
              "      <th>4</th>\n",
              "      <td>Decided to try Panda Expess one more time.Corp...</td>\n",
              "      <td>5 star rating</td>\n",
              "    </tr>\n",
              "  </tbody>\n",
              "</table>\n",
              "</div>"
            ],
            "text/plain": [
              "                                             reviews         rating\n",
              "0  Panda Express was on point tonight! I ordered ...  5 star rating\n",
              "1  The dude and I came to this Panda Express arou...  5 star rating\n",
              "2  I ordered 5 total plates  fried rice  chow mai...  1 star rating\n",
              "3  I always order Panda Express from here and the...  3 star rating\n",
              "4  Decided to try Panda Expess one more time.Corp...  5 star rating"
            ]
          },
          "metadata": {
            "tags": []
          },
          "execution_count": 88
        }
      ]
    },
    {
      "cell_type": "markdown",
      "metadata": {
        "id": "0u-NysGTlwKi",
        "colab_type": "text"
      },
      "source": [
        "### Clean up data, Changing rating column"
      ]
    },
    {
      "cell_type": "code",
      "metadata": {
        "id": "XPv4q_pujE_F",
        "colab_type": "code",
        "colab": {
          "base_uri": "https://localhost:8080/",
          "height": 204
        },
        "outputId": "d48d32a6-3419-43c0-b71e-e9caaa691f8b"
      },
      "source": [
        "# use defined function above to re-create rating column\n",
        "reviews[\"rating\"] = reviews[\"rating\"].apply(rating_category)\n",
        "reviews.head()"
      ],
      "execution_count": 89,
      "outputs": [
        {
          "output_type": "execute_result",
          "data": {
            "text/html": [
              "<div>\n",
              "<style scoped>\n",
              "    .dataframe tbody tr th:only-of-type {\n",
              "        vertical-align: middle;\n",
              "    }\n",
              "\n",
              "    .dataframe tbody tr th {\n",
              "        vertical-align: top;\n",
              "    }\n",
              "\n",
              "    .dataframe thead th {\n",
              "        text-align: right;\n",
              "    }\n",
              "</style>\n",
              "<table border=\"1\" class=\"dataframe\">\n",
              "  <thead>\n",
              "    <tr style=\"text-align: right;\">\n",
              "      <th></th>\n",
              "      <th>reviews</th>\n",
              "      <th>rating</th>\n",
              "    </tr>\n",
              "  </thead>\n",
              "  <tbody>\n",
              "    <tr>\n",
              "      <th>0</th>\n",
              "      <td>Panda Express was on point tonight! I ordered ...</td>\n",
              "      <td>good</td>\n",
              "    </tr>\n",
              "    <tr>\n",
              "      <th>1</th>\n",
              "      <td>The dude and I came to this Panda Express arou...</td>\n",
              "      <td>good</td>\n",
              "    </tr>\n",
              "    <tr>\n",
              "      <th>2</th>\n",
              "      <td>I ordered 5 total plates  fried rice  chow mai...</td>\n",
              "      <td>bad</td>\n",
              "    </tr>\n",
              "    <tr>\n",
              "      <th>3</th>\n",
              "      <td>I always order Panda Express from here and the...</td>\n",
              "      <td>descent</td>\n",
              "    </tr>\n",
              "    <tr>\n",
              "      <th>4</th>\n",
              "      <td>Decided to try Panda Expess one more time.Corp...</td>\n",
              "      <td>good</td>\n",
              "    </tr>\n",
              "  </tbody>\n",
              "</table>\n",
              "</div>"
            ],
            "text/plain": [
              "                                             reviews   rating\n",
              "0  Panda Express was on point tonight! I ordered ...     good\n",
              "1  The dude and I came to this Panda Express arou...     good\n",
              "2  I ordered 5 total plates  fried rice  chow mai...      bad\n",
              "3  I always order Panda Express from here and the...  descent\n",
              "4  Decided to try Panda Expess one more time.Corp...     good"
            ]
          },
          "metadata": {
            "tags": []
          },
          "execution_count": 89
        }
      ]
    },
    {
      "cell_type": "markdown",
      "metadata": {
        "id": "jqiBaemMp3sd",
        "colab_type": "text"
      },
      "source": [
        "### Feature Engineer"
      ]
    },
    {
      "cell_type": "code",
      "metadata": {
        "id": "BdhwGZf8r_Oy",
        "colab_type": "code",
        "colab": {
          "base_uri": "https://localhost:8080/",
          "height": 204
        },
        "outputId": "11413a72-5591-4cbb-d01e-dd6309ae76d7"
      },
      "source": [
        "# create word count, and character count\n",
        "reviews[\"word_list\"] = reviews[\"reviews\"].apply(lambda x: x.split())\n",
        "reviews[\"word_count\"] = reviews[\"word_list\"].apply(lambda x: len(x))\n",
        "reviews[\"char_count\"] = reviews[\"reviews\"].apply(lambda x: len(x))\n",
        "reviews.head()"
      ],
      "execution_count": 90,
      "outputs": [
        {
          "output_type": "execute_result",
          "data": {
            "text/html": [
              "<div>\n",
              "<style scoped>\n",
              "    .dataframe tbody tr th:only-of-type {\n",
              "        vertical-align: middle;\n",
              "    }\n",
              "\n",
              "    .dataframe tbody tr th {\n",
              "        vertical-align: top;\n",
              "    }\n",
              "\n",
              "    .dataframe thead th {\n",
              "        text-align: right;\n",
              "    }\n",
              "</style>\n",
              "<table border=\"1\" class=\"dataframe\">\n",
              "  <thead>\n",
              "    <tr style=\"text-align: right;\">\n",
              "      <th></th>\n",
              "      <th>reviews</th>\n",
              "      <th>rating</th>\n",
              "      <th>word_list</th>\n",
              "      <th>word_count</th>\n",
              "      <th>char_count</th>\n",
              "    </tr>\n",
              "  </thead>\n",
              "  <tbody>\n",
              "    <tr>\n",
              "      <th>0</th>\n",
              "      <td>Panda Express was on point tonight! I ordered ...</td>\n",
              "      <td>good</td>\n",
              "      <td>[Panda, Express, was, on, point, tonight!, I, ...</td>\n",
              "      <td>63</td>\n",
              "      <td>334</td>\n",
              "    </tr>\n",
              "    <tr>\n",
              "      <th>1</th>\n",
              "      <td>The dude and I came to this Panda Express arou...</td>\n",
              "      <td>good</td>\n",
              "      <td>[The, dude, and, I, came, to, this, Panda, Exp...</td>\n",
              "      <td>149</td>\n",
              "      <td>770</td>\n",
              "    </tr>\n",
              "    <tr>\n",
              "      <th>2</th>\n",
              "      <td>I ordered 5 total plates  fried rice  chow mai...</td>\n",
              "      <td>bad</td>\n",
              "      <td>[I, ordered, 5, total, plates, fried, rice, ch...</td>\n",
              "      <td>28</td>\n",
              "      <td>151</td>\n",
              "    </tr>\n",
              "    <tr>\n",
              "      <th>3</th>\n",
              "      <td>I always order Panda Express from here and the...</td>\n",
              "      <td>descent</td>\n",
              "      <td>[I, always, order, Panda, Express, from, here,...</td>\n",
              "      <td>122</td>\n",
              "      <td>628</td>\n",
              "    </tr>\n",
              "    <tr>\n",
              "      <th>4</th>\n",
              "      <td>Decided to try Panda Expess one more time.Corp...</td>\n",
              "      <td>good</td>\n",
              "      <td>[Decided, to, try, Panda, Expess, one, more, t...</td>\n",
              "      <td>41</td>\n",
              "      <td>261</td>\n",
              "    </tr>\n",
              "  </tbody>\n",
              "</table>\n",
              "</div>"
            ],
            "text/plain": [
              "                                             reviews  ... char_count\n",
              "0  Panda Express was on point tonight! I ordered ...  ...        334\n",
              "1  The dude and I came to this Panda Express arou...  ...        770\n",
              "2  I ordered 5 total plates  fried rice  chow mai...  ...        151\n",
              "3  I always order Panda Express from here and the...  ...        628\n",
              "4  Decided to try Panda Expess one more time.Corp...  ...        261\n",
              "\n",
              "[5 rows x 5 columns]"
            ]
          },
          "metadata": {
            "tags": []
          },
          "execution_count": 90
        }
      ]
    },
    {
      "cell_type": "code",
      "metadata": {
        "id": "n7I-pX8ptBWx",
        "colab_type": "code",
        "colab": {}
      },
      "source": [
        "# look at average length of each word in each review\n",
        "def average_word_length(word_list)->int:\n",
        "    \"\"\"calculate the average word length in each review\n",
        "    \"\"\"\n",
        "    word_length = []\n",
        "    for word in word_list: \n",
        "        word_length.append(len(word))\n",
        "    return np.mean(word_length)\n",
        "\n",
        "assert average_word_length([\"test\", \"test12\"])==5\n"
      ],
      "execution_count": 91,
      "outputs": []
    },
    {
      "cell_type": "code",
      "metadata": {
        "id": "c_NyvXHGxBDc",
        "colab_type": "code",
        "colab": {
          "base_uri": "https://localhost:8080/",
          "height": 204
        },
        "outputId": "cc8ffaf5-29dd-4297-8568-1b4db246521a"
      },
      "source": [
        "reviews[\"average_word_length\"] = reviews[\"word_list\"].apply(average_word_length)\n",
        "reviews.head()"
      ],
      "execution_count": 92,
      "outputs": [
        {
          "output_type": "execute_result",
          "data": {
            "text/html": [
              "<div>\n",
              "<style scoped>\n",
              "    .dataframe tbody tr th:only-of-type {\n",
              "        vertical-align: middle;\n",
              "    }\n",
              "\n",
              "    .dataframe tbody tr th {\n",
              "        vertical-align: top;\n",
              "    }\n",
              "\n",
              "    .dataframe thead th {\n",
              "        text-align: right;\n",
              "    }\n",
              "</style>\n",
              "<table border=\"1\" class=\"dataframe\">\n",
              "  <thead>\n",
              "    <tr style=\"text-align: right;\">\n",
              "      <th></th>\n",
              "      <th>reviews</th>\n",
              "      <th>rating</th>\n",
              "      <th>word_list</th>\n",
              "      <th>word_count</th>\n",
              "      <th>char_count</th>\n",
              "      <th>average_word_length</th>\n",
              "    </tr>\n",
              "  </thead>\n",
              "  <tbody>\n",
              "    <tr>\n",
              "      <th>0</th>\n",
              "      <td>Panda Express was on point tonight! I ordered ...</td>\n",
              "      <td>good</td>\n",
              "      <td>[Panda, Express, was, on, point, tonight!, I, ...</td>\n",
              "      <td>63</td>\n",
              "      <td>334</td>\n",
              "      <td>4.253968</td>\n",
              "    </tr>\n",
              "    <tr>\n",
              "      <th>1</th>\n",
              "      <td>The dude and I came to this Panda Express arou...</td>\n",
              "      <td>good</td>\n",
              "      <td>[The, dude, and, I, came, to, this, Panda, Exp...</td>\n",
              "      <td>149</td>\n",
              "      <td>770</td>\n",
              "      <td>4.167785</td>\n",
              "    </tr>\n",
              "    <tr>\n",
              "      <th>2</th>\n",
              "      <td>I ordered 5 total plates  fried rice  chow mai...</td>\n",
              "      <td>bad</td>\n",
              "      <td>[I, ordered, 5, total, plates, fried, rice, ch...</td>\n",
              "      <td>28</td>\n",
              "      <td>151</td>\n",
              "      <td>4.357143</td>\n",
              "    </tr>\n",
              "    <tr>\n",
              "      <th>3</th>\n",
              "      <td>I always order Panda Express from here and the...</td>\n",
              "      <td>descent</td>\n",
              "      <td>[I, always, order, Panda, Express, from, here,...</td>\n",
              "      <td>122</td>\n",
              "      <td>628</td>\n",
              "      <td>4.155738</td>\n",
              "    </tr>\n",
              "    <tr>\n",
              "      <th>4</th>\n",
              "      <td>Decided to try Panda Expess one more time.Corp...</td>\n",
              "      <td>good</td>\n",
              "      <td>[Decided, to, try, Panda, Expess, one, more, t...</td>\n",
              "      <td>41</td>\n",
              "      <td>261</td>\n",
              "      <td>5.390244</td>\n",
              "    </tr>\n",
              "  </tbody>\n",
              "</table>\n",
              "</div>"
            ],
            "text/plain": [
              "                                             reviews  ... average_word_length\n",
              "0  Panda Express was on point tonight! I ordered ...  ...            4.253968\n",
              "1  The dude and I came to this Panda Express arou...  ...            4.167785\n",
              "2  I ordered 5 total plates  fried rice  chow mai...  ...            4.357143\n",
              "3  I always order Panda Express from here and the...  ...            4.155738\n",
              "4  Decided to try Panda Expess one more time.Corp...  ...            5.390244\n",
              "\n",
              "[5 rows x 6 columns]"
            ]
          },
          "metadata": {
            "tags": []
          },
          "execution_count": 92
        }
      ]
    },
    {
      "cell_type": "code",
      "metadata": {
        "id": "WGrTkGMDzwaj",
        "colab_type": "code",
        "colab": {
          "base_uri": "https://localhost:8080/",
          "height": 68
        },
        "outputId": "5b097b81-df9b-48c9-92b5-9793cd9947fb"
      },
      "source": [
        "import nltk\n",
        "nltk.download('stopwords')"
      ],
      "execution_count": 93,
      "outputs": [
        {
          "output_type": "stream",
          "text": [
            "[nltk_data] Downloading package stopwords to /root/nltk_data...\n",
            "[nltk_data]   Package stopwords is already up-to-date!\n"
          ],
          "name": "stdout"
        },
        {
          "output_type": "execute_result",
          "data": {
            "text/plain": [
              "True"
            ]
          },
          "metadata": {
            "tags": []
          },
          "execution_count": 93
        }
      ]
    },
    {
      "cell_type": "code",
      "metadata": {
        "id": "fBqUZ3iKxxYv",
        "colab_type": "code",
        "colab": {
          "base_uri": "https://localhost:8080/",
          "height": 289
        },
        "outputId": "821ab92c-81c7-4c7d-8c0d-80f076963d56"
      },
      "source": [
        "# remove stop words, and get stopwords percentage\n",
        "from nltk.corpus import stopwords\n",
        "stop_words = stopwords.words(\"english\")\n",
        "\n",
        "reviews[\"stop_word_count\"] = reviews[\"word_list\"].apply(lambda x: len([word for word in x if word.lower() in stop_words]))\n",
        "reviews[\"stop_word_percent\"] = reviews[\"stop_word_count\"]/reviews[\"word_count\"]\n",
        "reviews.head()"
      ],
      "execution_count": 94,
      "outputs": [
        {
          "output_type": "execute_result",
          "data": {
            "text/html": [
              "<div>\n",
              "<style scoped>\n",
              "    .dataframe tbody tr th:only-of-type {\n",
              "        vertical-align: middle;\n",
              "    }\n",
              "\n",
              "    .dataframe tbody tr th {\n",
              "        vertical-align: top;\n",
              "    }\n",
              "\n",
              "    .dataframe thead th {\n",
              "        text-align: right;\n",
              "    }\n",
              "</style>\n",
              "<table border=\"1\" class=\"dataframe\">\n",
              "  <thead>\n",
              "    <tr style=\"text-align: right;\">\n",
              "      <th></th>\n",
              "      <th>reviews</th>\n",
              "      <th>rating</th>\n",
              "      <th>word_list</th>\n",
              "      <th>word_count</th>\n",
              "      <th>char_count</th>\n",
              "      <th>average_word_length</th>\n",
              "      <th>stop_word_count</th>\n",
              "      <th>stop_word_percent</th>\n",
              "    </tr>\n",
              "  </thead>\n",
              "  <tbody>\n",
              "    <tr>\n",
              "      <th>0</th>\n",
              "      <td>Panda Express was on point tonight! I ordered ...</td>\n",
              "      <td>good</td>\n",
              "      <td>[Panda, Express, was, on, point, tonight!, I, ...</td>\n",
              "      <td>63</td>\n",
              "      <td>334</td>\n",
              "      <td>4.253968</td>\n",
              "      <td>28</td>\n",
              "      <td>0.444444</td>\n",
              "    </tr>\n",
              "    <tr>\n",
              "      <th>1</th>\n",
              "      <td>The dude and I came to this Panda Express arou...</td>\n",
              "      <td>good</td>\n",
              "      <td>[The, dude, and, I, came, to, this, Panda, Exp...</td>\n",
              "      <td>149</td>\n",
              "      <td>770</td>\n",
              "      <td>4.167785</td>\n",
              "      <td>69</td>\n",
              "      <td>0.463087</td>\n",
              "    </tr>\n",
              "    <tr>\n",
              "      <th>2</th>\n",
              "      <td>I ordered 5 total plates  fried rice  chow mai...</td>\n",
              "      <td>bad</td>\n",
              "      <td>[I, ordered, 5, total, plates, fried, rice, ch...</td>\n",
              "      <td>28</td>\n",
              "      <td>151</td>\n",
              "      <td>4.357143</td>\n",
              "      <td>8</td>\n",
              "      <td>0.285714</td>\n",
              "    </tr>\n",
              "    <tr>\n",
              "      <th>3</th>\n",
              "      <td>I always order Panda Express from here and the...</td>\n",
              "      <td>descent</td>\n",
              "      <td>[I, always, order, Panda, Express, from, here,...</td>\n",
              "      <td>122</td>\n",
              "      <td>628</td>\n",
              "      <td>4.155738</td>\n",
              "      <td>59</td>\n",
              "      <td>0.483607</td>\n",
              "    </tr>\n",
              "    <tr>\n",
              "      <th>4</th>\n",
              "      <td>Decided to try Panda Expess one more time.Corp...</td>\n",
              "      <td>good</td>\n",
              "      <td>[Decided, to, try, Panda, Expess, one, more, t...</td>\n",
              "      <td>41</td>\n",
              "      <td>261</td>\n",
              "      <td>5.390244</td>\n",
              "      <td>8</td>\n",
              "      <td>0.195122</td>\n",
              "    </tr>\n",
              "  </tbody>\n",
              "</table>\n",
              "</div>"
            ],
            "text/plain": [
              "                                             reviews  ... stop_word_percent\n",
              "0  Panda Express was on point tonight! I ordered ...  ...          0.444444\n",
              "1  The dude and I came to this Panda Express arou...  ...          0.463087\n",
              "2  I ordered 5 total plates  fried rice  chow mai...  ...          0.285714\n",
              "3  I always order Panda Express from here and the...  ...          0.483607\n",
              "4  Decided to try Panda Expess one more time.Corp...  ...          0.195122\n",
              "\n",
              "[5 rows x 8 columns]"
            ]
          },
          "metadata": {
            "tags": []
          },
          "execution_count": 94
        }
      ]
    },
    {
      "cell_type": "code",
      "metadata": {
        "id": "mXniEdi-077A",
        "colab_type": "code",
        "colab": {}
      },
      "source": [
        ""
      ],
      "execution_count": 94,
      "outputs": []
    },
    {
      "cell_type": "markdown",
      "metadata": {
        "id": "7XoOzFOn1jUu",
        "colab_type": "text"
      },
      "source": [
        "### Data Cleaning"
      ]
    },
    {
      "cell_type": "code",
      "metadata": {
        "id": "ZvjUjw2b08Ha",
        "colab_type": "code",
        "colab": {
          "base_uri": "https://localhost:8080/",
          "height": 357
        },
        "outputId": "314e25d0-7e31-4c9e-a96a-34646031c293"
      },
      "source": [
        "# lower case all the reviews, and remove all the punctuations\n",
        "reviews[\"lowercase_reviews\"] = reviews[\"reviews\"].apply(lambda x: \" \".join(word.lower() for word in x.split()))\n",
        "reviews[\"lowercase_reviews\"] = reviews[\"lowercase_reviews\"].str.replace('[^\\w\\s]',\"\")\n",
        "reviews.head()"
      ],
      "execution_count": 95,
      "outputs": [
        {
          "output_type": "execute_result",
          "data": {
            "text/html": [
              "<div>\n",
              "<style scoped>\n",
              "    .dataframe tbody tr th:only-of-type {\n",
              "        vertical-align: middle;\n",
              "    }\n",
              "\n",
              "    .dataframe tbody tr th {\n",
              "        vertical-align: top;\n",
              "    }\n",
              "\n",
              "    .dataframe thead th {\n",
              "        text-align: right;\n",
              "    }\n",
              "</style>\n",
              "<table border=\"1\" class=\"dataframe\">\n",
              "  <thead>\n",
              "    <tr style=\"text-align: right;\">\n",
              "      <th></th>\n",
              "      <th>reviews</th>\n",
              "      <th>rating</th>\n",
              "      <th>word_list</th>\n",
              "      <th>word_count</th>\n",
              "      <th>char_count</th>\n",
              "      <th>average_word_length</th>\n",
              "      <th>stop_word_count</th>\n",
              "      <th>stop_word_percent</th>\n",
              "      <th>lowercase_reviews</th>\n",
              "    </tr>\n",
              "  </thead>\n",
              "  <tbody>\n",
              "    <tr>\n",
              "      <th>0</th>\n",
              "      <td>Panda Express was on point tonight! I ordered ...</td>\n",
              "      <td>good</td>\n",
              "      <td>[Panda, Express, was, on, point, tonight!, I, ...</td>\n",
              "      <td>63</td>\n",
              "      <td>334</td>\n",
              "      <td>4.253968</td>\n",
              "      <td>28</td>\n",
              "      <td>0.444444</td>\n",
              "      <td>panda express was on point tonight i ordered t...</td>\n",
              "    </tr>\n",
              "    <tr>\n",
              "      <th>1</th>\n",
              "      <td>The dude and I came to this Panda Express arou...</td>\n",
              "      <td>good</td>\n",
              "      <td>[The, dude, and, I, came, to, this, Panda, Exp...</td>\n",
              "      <td>149</td>\n",
              "      <td>770</td>\n",
              "      <td>4.167785</td>\n",
              "      <td>69</td>\n",
              "      <td>0.463087</td>\n",
              "      <td>the dude and i came to this panda express arou...</td>\n",
              "    </tr>\n",
              "    <tr>\n",
              "      <th>2</th>\n",
              "      <td>I ordered 5 total plates  fried rice  chow mai...</td>\n",
              "      <td>bad</td>\n",
              "      <td>[I, ordered, 5, total, plates, fried, rice, ch...</td>\n",
              "      <td>28</td>\n",
              "      <td>151</td>\n",
              "      <td>4.357143</td>\n",
              "      <td>8</td>\n",
              "      <td>0.285714</td>\n",
              "      <td>i ordered 5 total plates fried rice chow main ...</td>\n",
              "    </tr>\n",
              "    <tr>\n",
              "      <th>3</th>\n",
              "      <td>I always order Panda Express from here and the...</td>\n",
              "      <td>descent</td>\n",
              "      <td>[I, always, order, Panda, Express, from, here,...</td>\n",
              "      <td>122</td>\n",
              "      <td>628</td>\n",
              "      <td>4.155738</td>\n",
              "      <td>59</td>\n",
              "      <td>0.483607</td>\n",
              "      <td>i always order panda express from here and the...</td>\n",
              "    </tr>\n",
              "    <tr>\n",
              "      <th>4</th>\n",
              "      <td>Decided to try Panda Expess one more time.Corp...</td>\n",
              "      <td>good</td>\n",
              "      <td>[Decided, to, try, Panda, Expess, one, more, t...</td>\n",
              "      <td>41</td>\n",
              "      <td>261</td>\n",
              "      <td>5.390244</td>\n",
              "      <td>8</td>\n",
              "      <td>0.195122</td>\n",
              "      <td>decided to try panda expess one more timecorpo...</td>\n",
              "    </tr>\n",
              "  </tbody>\n",
              "</table>\n",
              "</div>"
            ],
            "text/plain": [
              "                                             reviews  ...                                  lowercase_reviews\n",
              "0  Panda Express was on point tonight! I ordered ...  ...  panda express was on point tonight i ordered t...\n",
              "1  The dude and I came to this Panda Express arou...  ...  the dude and i came to this panda express arou...\n",
              "2  I ordered 5 total plates  fried rice  chow mai...  ...  i ordered 5 total plates fried rice chow main ...\n",
              "3  I always order Panda Express from here and the...  ...  i always order panda express from here and the...\n",
              "4  Decided to try Panda Expess one more time.Corp...  ...  decided to try panda expess one more timecorpo...\n",
              "\n",
              "[5 rows x 9 columns]"
            ]
          },
          "metadata": {
            "tags": []
          },
          "execution_count": 95
        }
      ]
    },
    {
      "cell_type": "code",
      "metadata": {
        "id": "hRG0k48k3tBV",
        "colab_type": "code",
        "colab": {
          "base_uri": "https://localhost:8080/",
          "height": 459
        },
        "outputId": "ad9486d5-df1a-427d-a856-ae7cfebee2d2"
      },
      "source": [
        "# remove stop words\n",
        "reviews[\"clean_reviews\"] = reviews[\"lowercase_reviews\"].apply(lambda x: \" \".join(word for word in x.split() if word not in stop_words))\n",
        "reviews.head()"
      ],
      "execution_count": 96,
      "outputs": [
        {
          "output_type": "execute_result",
          "data": {
            "text/html": [
              "<div>\n",
              "<style scoped>\n",
              "    .dataframe tbody tr th:only-of-type {\n",
              "        vertical-align: middle;\n",
              "    }\n",
              "\n",
              "    .dataframe tbody tr th {\n",
              "        vertical-align: top;\n",
              "    }\n",
              "\n",
              "    .dataframe thead th {\n",
              "        text-align: right;\n",
              "    }\n",
              "</style>\n",
              "<table border=\"1\" class=\"dataframe\">\n",
              "  <thead>\n",
              "    <tr style=\"text-align: right;\">\n",
              "      <th></th>\n",
              "      <th>reviews</th>\n",
              "      <th>rating</th>\n",
              "      <th>word_list</th>\n",
              "      <th>word_count</th>\n",
              "      <th>char_count</th>\n",
              "      <th>average_word_length</th>\n",
              "      <th>stop_word_count</th>\n",
              "      <th>stop_word_percent</th>\n",
              "      <th>lowercase_reviews</th>\n",
              "      <th>clean_reviews</th>\n",
              "    </tr>\n",
              "  </thead>\n",
              "  <tbody>\n",
              "    <tr>\n",
              "      <th>0</th>\n",
              "      <td>Panda Express was on point tonight! I ordered ...</td>\n",
              "      <td>good</td>\n",
              "      <td>[Panda, Express, was, on, point, tonight!, I, ...</td>\n",
              "      <td>63</td>\n",
              "      <td>334</td>\n",
              "      <td>4.253968</td>\n",
              "      <td>28</td>\n",
              "      <td>0.444444</td>\n",
              "      <td>panda express was on point tonight i ordered t...</td>\n",
              "      <td>panda express point tonight ordered mobile app...</td>\n",
              "    </tr>\n",
              "    <tr>\n",
              "      <th>1</th>\n",
              "      <td>The dude and I came to this Panda Express arou...</td>\n",
              "      <td>good</td>\n",
              "      <td>[The, dude, and, I, came, to, this, Panda, Exp...</td>\n",
              "      <td>149</td>\n",
              "      <td>770</td>\n",
              "      <td>4.167785</td>\n",
              "      <td>69</td>\n",
              "      <td>0.463087</td>\n",
              "      <td>the dude and i came to this panda express arou...</td>\n",
              "      <td>dude came panda express around end july 2020 h...</td>\n",
              "    </tr>\n",
              "    <tr>\n",
              "      <th>2</th>\n",
              "      <td>I ordered 5 total plates  fried rice  chow mai...</td>\n",
              "      <td>bad</td>\n",
              "      <td>[I, ordered, 5, total, plates, fried, rice, ch...</td>\n",
              "      <td>28</td>\n",
              "      <td>151</td>\n",
              "      <td>4.357143</td>\n",
              "      <td>8</td>\n",
              "      <td>0.285714</td>\n",
              "      <td>i ordered 5 total plates fried rice chow main ...</td>\n",
              "      <td>ordered 5 total plates fried rice chow main do...</td>\n",
              "    </tr>\n",
              "    <tr>\n",
              "      <th>3</th>\n",
              "      <td>I always order Panda Express from here and the...</td>\n",
              "      <td>descent</td>\n",
              "      <td>[I, always, order, Panda, Express, from, here,...</td>\n",
              "      <td>122</td>\n",
              "      <td>628</td>\n",
              "      <td>4.155738</td>\n",
              "      <td>59</td>\n",
              "      <td>0.483607</td>\n",
              "      <td>i always order panda express from here and the...</td>\n",
              "      <td>always order panda express problem ever place ...</td>\n",
              "    </tr>\n",
              "    <tr>\n",
              "      <th>4</th>\n",
              "      <td>Decided to try Panda Expess one more time.Corp...</td>\n",
              "      <td>good</td>\n",
              "      <td>[Decided, to, try, Panda, Expess, one, more, t...</td>\n",
              "      <td>41</td>\n",
              "      <td>261</td>\n",
              "      <td>5.390244</td>\n",
              "      <td>8</td>\n",
              "      <td>0.195122</td>\n",
              "      <td>decided to try panda expess one more timecorpo...</td>\n",
              "      <td>decided try panda expess one timecorporations ...</td>\n",
              "    </tr>\n",
              "  </tbody>\n",
              "</table>\n",
              "</div>"
            ],
            "text/plain": [
              "                                             reviews  ...                                      clean_reviews\n",
              "0  Panda Express was on point tonight! I ordered ...  ...  panda express point tonight ordered mobile app...\n",
              "1  The dude and I came to this Panda Express arou...  ...  dude came panda express around end july 2020 h...\n",
              "2  I ordered 5 total plates  fried rice  chow mai...  ...  ordered 5 total plates fried rice chow main do...\n",
              "3  I always order Panda Express from here and the...  ...  always order panda express problem ever place ...\n",
              "4  Decided to try Panda Expess one more time.Corp...  ...  decided try panda expess one timecorporations ...\n",
              "\n",
              "[5 rows x 10 columns]"
            ]
          },
          "metadata": {
            "tags": []
          },
          "execution_count": 96
        }
      ]
    },
    {
      "cell_type": "code",
      "metadata": {
        "id": "p0Iy6Lg74MWE",
        "colab_type": "code",
        "colab": {
          "base_uri": "https://localhost:8080/",
          "height": 1000
        },
        "outputId": "321df681-abe7-4e79-f741-be80e1073ce3"
      },
      "source": [
        "# find out the frequency of words, and remove nonsense words\n",
        "pd.Series(\" \".join(reviews[\"clean_reviews\"]).split()).value_counts()[:60]"
      ],
      "execution_count": 97,
      "outputs": [
        {
          "output_type": "execute_result",
          "data": {
            "text/plain": [
              "food          18670\n",
              "panda         10282\n",
              "chicken        9602\n",
              "order          8020\n",
              "time           6692\n",
              "express        6561\n",
              "get            6174\n",
              "like           5817\n",
              "service        5807\n",
              "one            5682\n",
              "good           5472\n",
              "location       5390\n",
              "rice           4913\n",
              "go             4619\n",
              "place          4271\n",
              "got            4220\n",
              "back           4102\n",
              "always         4042\n",
              "dont           3947\n",
              "would          3922\n",
              "orange         3713\n",
              "ordered        3615\n",
              "even           3272\n",
              "minutes        3202\n",
              "wait           3097\n",
              "never          3039\n",
              "customer       3030\n",
              "didnt          2999\n",
              "im             2988\n",
              "drive          2867\n",
              "line           2754\n",
              "really         2722\n",
              "went           2719\n",
              "people         2719\n",
              "said           2699\n",
              "fresh          2668\n",
              "asked          2665\n",
              "great          2653\n",
              "beef           2649\n",
              "staff          2556\n",
              "chinese        2548\n",
              "give           2488\n",
              "fast           2478\n",
              "ive            2418\n",
              "chow           2246\n",
              "also           2226\n",
              "told           2181\n",
              "eat            2169\n",
              "come           2151\n",
              "mein           2124\n",
              "us             2108\n",
              "restaurant     2084\n",
              "going          2077\n",
              "make           2068\n",
              "sauce          2063\n",
              "shrimp         2053\n",
              "manager        2042\n",
              "know           2035\n",
              "fried          2030\n",
              "times          1937\n",
              "dtype: int64"
            ]
          },
          "metadata": {
            "tags": []
          },
          "execution_count": 97
        }
      ]
    },
    {
      "cell_type": "code",
      "metadata": {
        "id": "iCRR_oXy4iX_",
        "colab_type": "code",
        "colab": {
          "base_uri": "https://localhost:8080/",
          "height": 442
        },
        "outputId": "64099fdc-61ab-4b73-f131-f39eb3522d00"
      },
      "source": [
        "other_stop_words = [\"food\", \"panda\", \"got\", \"im\",\"ive\",\"come\", \"restaurant\", \"express\"]\n",
        "reviews[\"clean_reviews\"] = reviews[\"clean_reviews\"].apply(lambda x: \" \".join(word for word in x.split() if word not in other_stop_words))\n",
        "reviews.head()"
      ],
      "execution_count": 98,
      "outputs": [
        {
          "output_type": "execute_result",
          "data": {
            "text/html": [
              "<div>\n",
              "<style scoped>\n",
              "    .dataframe tbody tr th:only-of-type {\n",
              "        vertical-align: middle;\n",
              "    }\n",
              "\n",
              "    .dataframe tbody tr th {\n",
              "        vertical-align: top;\n",
              "    }\n",
              "\n",
              "    .dataframe thead th {\n",
              "        text-align: right;\n",
              "    }\n",
              "</style>\n",
              "<table border=\"1\" class=\"dataframe\">\n",
              "  <thead>\n",
              "    <tr style=\"text-align: right;\">\n",
              "      <th></th>\n",
              "      <th>reviews</th>\n",
              "      <th>rating</th>\n",
              "      <th>word_list</th>\n",
              "      <th>word_count</th>\n",
              "      <th>char_count</th>\n",
              "      <th>average_word_length</th>\n",
              "      <th>stop_word_count</th>\n",
              "      <th>stop_word_percent</th>\n",
              "      <th>lowercase_reviews</th>\n",
              "      <th>clean_reviews</th>\n",
              "    </tr>\n",
              "  </thead>\n",
              "  <tbody>\n",
              "    <tr>\n",
              "      <th>0</th>\n",
              "      <td>Panda Express was on point tonight! I ordered ...</td>\n",
              "      <td>good</td>\n",
              "      <td>[Panda, Express, was, on, point, tonight!, I, ...</td>\n",
              "      <td>63</td>\n",
              "      <td>334</td>\n",
              "      <td>4.253968</td>\n",
              "      <td>28</td>\n",
              "      <td>0.444444</td>\n",
              "      <td>panda express was on point tonight i ordered t...</td>\n",
              "      <td>point tonight ordered mobile app picked order ...</td>\n",
              "    </tr>\n",
              "    <tr>\n",
              "      <th>1</th>\n",
              "      <td>The dude and I came to this Panda Express arou...</td>\n",
              "      <td>good</td>\n",
              "      <td>[The, dude, and, I, came, to, this, Panda, Exp...</td>\n",
              "      <td>149</td>\n",
              "      <td>770</td>\n",
              "      <td>4.167785</td>\n",
              "      <td>69</td>\n",
              "      <td>0.463087</td>\n",
              "      <td>the dude and i came to this panda express arou...</td>\n",
              "      <td>dude came around end july 2020 havent use goin...</td>\n",
              "    </tr>\n",
              "    <tr>\n",
              "      <th>2</th>\n",
              "      <td>I ordered 5 total plates  fried rice  chow mai...</td>\n",
              "      <td>bad</td>\n",
              "      <td>[I, ordered, 5, total, plates, fried, rice, ch...</td>\n",
              "      <td>28</td>\n",
              "      <td>151</td>\n",
              "      <td>4.357143</td>\n",
              "      <td>8</td>\n",
              "      <td>0.285714</td>\n",
              "      <td>i ordered 5 total plates fried rice chow main ...</td>\n",
              "      <td>ordered 5 total plates fried rice chow main do...</td>\n",
              "    </tr>\n",
              "    <tr>\n",
              "      <th>3</th>\n",
              "      <td>I always order Panda Express from here and the...</td>\n",
              "      <td>descent</td>\n",
              "      <td>[I, always, order, Panda, Express, from, here,...</td>\n",
              "      <td>122</td>\n",
              "      <td>628</td>\n",
              "      <td>4.155738</td>\n",
              "      <td>59</td>\n",
              "      <td>0.483607</td>\n",
              "      <td>i always order panda express from here and the...</td>\n",
              "      <td>always order problem ever place order plate sm...</td>\n",
              "    </tr>\n",
              "    <tr>\n",
              "      <th>4</th>\n",
              "      <td>Decided to try Panda Expess one more time.Corp...</td>\n",
              "      <td>good</td>\n",
              "      <td>[Decided, to, try, Panda, Expess, one, more, t...</td>\n",
              "      <td>41</td>\n",
              "      <td>261</td>\n",
              "      <td>5.390244</td>\n",
              "      <td>8</td>\n",
              "      <td>0.195122</td>\n",
              "      <td>decided to try panda expess one more timecorpo...</td>\n",
              "      <td>decided try expess one timecorporations sent c...</td>\n",
              "    </tr>\n",
              "  </tbody>\n",
              "</table>\n",
              "</div>"
            ],
            "text/plain": [
              "                                             reviews  ...                                      clean_reviews\n",
              "0  Panda Express was on point tonight! I ordered ...  ...  point tonight ordered mobile app picked order ...\n",
              "1  The dude and I came to this Panda Express arou...  ...  dude came around end july 2020 havent use goin...\n",
              "2  I ordered 5 total plates  fried rice  chow mai...  ...  ordered 5 total plates fried rice chow main do...\n",
              "3  I always order Panda Express from here and the...  ...  always order problem ever place order plate sm...\n",
              "4  Decided to try Panda Expess one more time.Corp...  ...  decided try expess one timecorporations sent c...\n",
              "\n",
              "[5 rows x 10 columns]"
            ]
          },
          "metadata": {
            "tags": []
          },
          "execution_count": 98
        }
      ]
    },
    {
      "cell_type": "code",
      "metadata": {
        "id": "HC7Pihf25PP5",
        "colab_type": "code",
        "colab": {
          "base_uri": "https://localhost:8080/",
          "height": 204
        },
        "outputId": "4efc802c-c2a5-4d49-a261-86f985bc83a6"
      },
      "source": [
        "# get final dataset\n",
        "final_dataset = reviews.iloc[:,[1,3,4,5,7,9]]\n",
        "final_dataset.head()"
      ],
      "execution_count": 110,
      "outputs": [
        {
          "output_type": "execute_result",
          "data": {
            "text/html": [
              "<div>\n",
              "<style scoped>\n",
              "    .dataframe tbody tr th:only-of-type {\n",
              "        vertical-align: middle;\n",
              "    }\n",
              "\n",
              "    .dataframe tbody tr th {\n",
              "        vertical-align: top;\n",
              "    }\n",
              "\n",
              "    .dataframe thead th {\n",
              "        text-align: right;\n",
              "    }\n",
              "</style>\n",
              "<table border=\"1\" class=\"dataframe\">\n",
              "  <thead>\n",
              "    <tr style=\"text-align: right;\">\n",
              "      <th></th>\n",
              "      <th>rating</th>\n",
              "      <th>word_count</th>\n",
              "      <th>char_count</th>\n",
              "      <th>average_word_length</th>\n",
              "      <th>stop_word_percent</th>\n",
              "      <th>clean_reviews</th>\n",
              "    </tr>\n",
              "  </thead>\n",
              "  <tbody>\n",
              "    <tr>\n",
              "      <th>0</th>\n",
              "      <td>good</td>\n",
              "      <td>63</td>\n",
              "      <td>334</td>\n",
              "      <td>4.253968</td>\n",
              "      <td>0.444444</td>\n",
              "      <td>point tonight ordered mobile app picked order ...</td>\n",
              "    </tr>\n",
              "    <tr>\n",
              "      <th>1</th>\n",
              "      <td>good</td>\n",
              "      <td>149</td>\n",
              "      <td>770</td>\n",
              "      <td>4.167785</td>\n",
              "      <td>0.463087</td>\n",
              "      <td>dude came around end july 2020 havent use goin...</td>\n",
              "    </tr>\n",
              "    <tr>\n",
              "      <th>2</th>\n",
              "      <td>bad</td>\n",
              "      <td>28</td>\n",
              "      <td>151</td>\n",
              "      <td>4.357143</td>\n",
              "      <td>0.285714</td>\n",
              "      <td>ordered 5 total plates fried rice chow main do...</td>\n",
              "    </tr>\n",
              "    <tr>\n",
              "      <th>3</th>\n",
              "      <td>descent</td>\n",
              "      <td>122</td>\n",
              "      <td>628</td>\n",
              "      <td>4.155738</td>\n",
              "      <td>0.483607</td>\n",
              "      <td>always order problem ever place order plate sm...</td>\n",
              "    </tr>\n",
              "    <tr>\n",
              "      <th>4</th>\n",
              "      <td>good</td>\n",
              "      <td>41</td>\n",
              "      <td>261</td>\n",
              "      <td>5.390244</td>\n",
              "      <td>0.195122</td>\n",
              "      <td>decided try expess one timecorporations sent c...</td>\n",
              "    </tr>\n",
              "  </tbody>\n",
              "</table>\n",
              "</div>"
            ],
            "text/plain": [
              "    rating  ...                                      clean_reviews\n",
              "0     good  ...  point tonight ordered mobile app picked order ...\n",
              "1     good  ...  dude came around end july 2020 havent use goin...\n",
              "2      bad  ...  ordered 5 total plates fried rice chow main do...\n",
              "3  descent  ...  always order problem ever place order plate sm...\n",
              "4     good  ...  decided try expess one timecorporations sent c...\n",
              "\n",
              "[5 rows x 6 columns]"
            ]
          },
          "metadata": {
            "tags": []
          },
          "execution_count": 110
        }
      ]
    },
    {
      "cell_type": "markdown",
      "metadata": {
        "id": "yIodh5Hi6arT",
        "colab_type": "text"
      },
      "source": [
        "### Creating Training and Testing dataset"
      ]
    },
    {
      "cell_type": "code",
      "metadata": {
        "id": "s3_aZuEKl-Jt",
        "colab_type": "code",
        "colab": {
          "base_uri": "https://localhost:8080/",
          "height": 85
        },
        "outputId": "c3a7ded4-33e8-48ff-b0c1-cd5c8c432a81"
      },
      "source": [
        "# separate train, test dataset\n",
        "from sklearn.model_selection import train_test_split\n",
        "X_train, X_test, y_train, y_test = train_test_split(final_dataset[\"clean_reviews\"], final_dataset[\"rating\"], test_size = 0.3, random_state = 42)\n",
        "print(f\"Shape of X_train: {X_train.shape}\")\n",
        "print(f\"Shape of X_test: {X_test.shape}\")\n",
        "print(f\"Shape of y_train: {y_train.shape}\")\n",
        "print(f\"Shape of y_test: {y_test.shape}\")\n"
      ],
      "execution_count": 116,
      "outputs": [
        {
          "output_type": "stream",
          "text": [
            "Shape of X_train: (12334,)\n",
            "Shape of X_test: (5286,)\n",
            "Shape of y_train: (12334,)\n",
            "Shape of y_test: (5286,)\n"
          ],
          "name": "stdout"
        }
      ]
    },
    {
      "cell_type": "code",
      "metadata": {
        "id": "RXb2KofTnXbI",
        "colab_type": "code",
        "colab": {}
      },
      "source": [
        "# tokenize the data\n",
        "from keras.preprocessing.text import Tokenizer\n",
        "tokenizer = Tokenizer(num_words = 1000, lower= True)\n",
        "tokenizer.fit_on_texts(X_train)\n",
        "\n",
        "X_train = tokenizer.texts_to_sequences(X_train)\n",
        "X_test = tokenizer.texts_to_sequences(X_test)\n",
        "\n",
        "vocab_size = len(tokenizer.word_index)+1"
      ],
      "execution_count": 117,
      "outputs": []
    },
    {
      "cell_type": "code",
      "metadata": {
        "id": "4MQscawH7QWb",
        "colab_type": "code",
        "colab": {
          "base_uri": "https://localhost:8080/",
          "height": 34
        },
        "outputId": "8dfbca88-a227-48ab-8949-b20da42d219d"
      },
      "source": [
        "X_train[0]"
      ],
      "execution_count": 118,
      "outputs": [
        {
          "output_type": "execute_result",
          "data": {
            "text/plain": [
              "[354, 340, 226, 51, 10, 186, 180, 200, 42, 9]"
            ]
          },
          "metadata": {
            "tags": []
          },
          "execution_count": 118
        }
      ]
    },
    {
      "cell_type": "code",
      "metadata": {
        "id": "tpbeu2YH7Y1s",
        "colab_type": "code",
        "colab": {}
      },
      "source": [
        "# create padding\n",
        "from keras_preprocessing.sequence import pad_sequences\n",
        "maxlen = max(final_dataset[\"clean_reviews\"].apply(lambda x: len(x.split())))\n",
        "\n",
        "X_train = pad_sequences(X_train, padding=\"post\", maxlen=maxlen)\n",
        "X_test = pad_sequences(X_test, padding=\"post\", maxlen=maxlen)\n"
      ],
      "execution_count": 122,
      "outputs": []
    },
    {
      "cell_type": "code",
      "metadata": {
        "id": "P4Whyouv9R3c",
        "colab_type": "code",
        "colab": {
          "base_uri": "https://localhost:8080/",
          "height": 51
        },
        "outputId": "f1bab022-e531-4dcf-e2d4-69f725da8c56"
      },
      "source": [
        "# reshape the data\n",
        "from keras.models import Sequential\n",
        "from keras.layers import Dense, Dropout, Activation, SimpleRNN\n",
        "from keras import optimizers\n",
        "from keras.preprocessing.sequence import pad_sequences\n",
        "\n",
        "X_train = np.array(X_train).reshape((X_train.shape[0], X_train.shape[1],1))\n",
        "X_test = np.array(X_test).reshape((X_test.shape[0], X_test.shape[1],1))\n",
        "print(X_train.shape)\n",
        "print(X_test.shape)\n",
        "\n"
      ],
      "execution_count": 124,
      "outputs": [
        {
          "output_type": "stream",
          "text": [
            "(12334, 423, 1)\n",
            "(5286, 423, 1)\n"
          ],
          "name": "stdout"
        }
      ]
    },
    {
      "cell_type": "markdown",
      "metadata": {
        "id": "FYPZ3qrG-aIS",
        "colab_type": "text"
      },
      "source": [
        "### Fit the RNN model"
      ]
    },
    {
      "cell_type": "code",
      "metadata": {
        "id": "uH4LY6vi-biC",
        "colab_type": "code",
        "colab": {}
      },
      "source": [
        "num_classes = 3\n",
        "\n",
        "def rnn_model():\n",
        "  model = Sequential()\n",
        "  model.add(SimpleRNN(50, input_shape = (maxlen, 1), return_sequences=False))\n",
        "  model.add(Dense(num_classes))\n",
        "  model.add(Activation(\"softmax\"))\n",
        "  model.summary()\n",
        "\n",
        "  adam = optimizers.Adam(lr = 0.001)\n",
        "  model.compile(loss = \"categorical_crossentropy\", optimizer = adam, metrics = [\"accuracy\"])\n",
        "  return model"
      ],
      "execution_count": 125,
      "outputs": []
    },
    {
      "cell_type": "code",
      "metadata": {
        "id": "M1LV_d3t_M7m",
        "colab_type": "code",
        "colab": {
          "base_uri": "https://localhost:8080/",
          "height": 952
        },
        "outputId": "7b6a8ad3-59f0-4936-fbd7-013b11eec68b"
      },
      "source": [
        "from keras.wrappers.scikit_learn import KerasClassifier\n",
        "model = KerasClassifier(build_fn = rnn_model, epochs = 20, batch_size = 50)\n",
        "model.fit(X_train, y_train)"
      ],
      "execution_count": 127,
      "outputs": [
        {
          "output_type": "stream",
          "text": [
            "Model: \"sequential\"\n",
            "_________________________________________________________________\n",
            "Layer (type)                 Output Shape              Param #   \n",
            "=================================================================\n",
            "simple_rnn (SimpleRNN)       (None, 50)                2600      \n",
            "_________________________________________________________________\n",
            "dense (Dense)                (None, 3)                 153       \n",
            "_________________________________________________________________\n",
            "activation (Activation)      (None, 3)                 0         \n",
            "=================================================================\n",
            "Total params: 2,753\n",
            "Trainable params: 2,753\n",
            "Non-trainable params: 0\n",
            "_________________________________________________________________\n",
            "Epoch 1/20\n",
            "247/247 [==============================] - 15s 62ms/step - loss: 1.0715 - accuracy: 0.4471\n",
            "Epoch 2/20\n",
            "247/247 [==============================] - 15s 63ms/step - loss: 1.0692 - accuracy: 0.4501\n",
            "Epoch 3/20\n",
            "247/247 [==============================] - 16s 63ms/step - loss: 1.0688 - accuracy: 0.4501\n",
            "Epoch 4/20\n",
            "247/247 [==============================] - 16s 64ms/step - loss: 1.0700 - accuracy: 0.4488\n",
            "Epoch 5/20\n",
            "247/247 [==============================] - 15s 63ms/step - loss: 1.0693 - accuracy: 0.4501\n",
            "Epoch 6/20\n",
            "247/247 [==============================] - 16s 63ms/step - loss: 1.0686 - accuracy: 0.4501\n",
            "Epoch 7/20\n",
            "247/247 [==============================] - 16s 65ms/step - loss: 1.0760 - accuracy: 0.4364\n",
            "Epoch 8/20\n",
            "247/247 [==============================] - 16s 65ms/step - loss: 1.0728 - accuracy: 0.4472\n",
            "Epoch 9/20\n",
            "247/247 [==============================] - 16s 64ms/step - loss: 1.0716 - accuracy: 0.4501\n",
            "Epoch 10/20\n",
            "247/247 [==============================] - 16s 64ms/step - loss: 1.0715 - accuracy: 0.4501\n",
            "Epoch 11/20\n",
            "247/247 [==============================] - 16s 65ms/step - loss: 1.0710 - accuracy: 0.4501\n",
            "Epoch 12/20\n",
            "247/247 [==============================] - 16s 64ms/step - loss: 1.0709 - accuracy: 0.4501\n",
            "Epoch 13/20\n",
            "247/247 [==============================] - 16s 64ms/step - loss: 1.0707 - accuracy: 0.4501\n",
            "Epoch 14/20\n",
            "247/247 [==============================] - 16s 64ms/step - loss: 1.0711 - accuracy: 0.4501\n",
            "Epoch 15/20\n",
            "247/247 [==============================] - 16s 65ms/step - loss: 1.0708 - accuracy: 0.4501\n",
            "Epoch 16/20\n",
            "247/247 [==============================] - 16s 65ms/step - loss: 1.0700 - accuracy: 0.4501\n",
            "Epoch 17/20\n",
            "247/247 [==============================] - 16s 64ms/step - loss: 1.0702 - accuracy: 0.4501\n",
            "Epoch 18/20\n",
            "247/247 [==============================] - 16s 64ms/step - loss: 1.0709 - accuracy: 0.4501\n",
            "Epoch 19/20\n",
            "247/247 [==============================] - 16s 64ms/step - loss: 1.0699 - accuracy: 0.4501\n",
            "Epoch 20/20\n",
            "247/247 [==============================] - 16s 64ms/step - loss: 1.0709 - accuracy: 0.4501\n"
          ],
          "name": "stdout"
        },
        {
          "output_type": "execute_result",
          "data": {
            "text/plain": [
              "<tensorflow.python.keras.callbacks.History at 0x7fe67a716630>"
            ]
          },
          "metadata": {
            "tags": []
          },
          "execution_count": 127
        }
      ]
    },
    {
      "cell_type": "code",
      "metadata": {
        "id": "YLfzRrfe_mBi",
        "colab_type": "code",
        "colab": {}
      },
      "source": [
        ""
      ],
      "execution_count": null,
      "outputs": []
    }
  ]
}