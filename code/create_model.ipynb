{
  "nbformat": 4,
  "nbformat_minor": 0,
  "metadata": {
    "kernelspec": {
      "display_name": "Python 3",
      "language": "python",
      "name": "python3"
    },
    "language_info": {
      "codemirror_mode": {
        "name": "ipython",
        "version": 3
      },
      "file_extension": ".py",
      "mimetype": "text/x-python",
      "name": "python",
      "nbconvert_exporter": "python",
      "pygments_lexer": "ipython3",
      "version": "3.7.6"
    },
    "colab": {
      "name": "create_model.ipynb",
      "provenance": []
    }
  },
  "cells": [
    {
      "cell_type": "code",
      "metadata": {
        "id": "COaXcN2fO2w8",
        "colab_type": "code",
        "colab": {}
      },
      "source": [
        ""
      ],
      "execution_count": null,
      "outputs": []
    },
    {
      "cell_type": "code",
      "metadata": {
        "id": "fjIqii6_OwiG",
        "colab_type": "code",
        "colab": {}
      },
      "source": [
        ""
      ],
      "execution_count": null,
      "outputs": []
    },
    {
      "cell_type": "markdown",
      "metadata": {
        "id": "beqttsrnOxIV",
        "colab_type": "text"
      },
      "source": [
        ""
      ]
    },
    {
      "cell_type": "markdown",
      "metadata": {
        "id": "M2-na_pZ6DIy",
        "colab_type": "text"
      },
      "source": [
        "### Create pyspark session"
      ]
    },
    {
      "cell_type": "code",
      "metadata": {
        "id": "XY9TOKfodvwH",
        "colab_type": "code",
        "colab": {
          "base_uri": "https://localhost:8080/",
          "height": 221
        },
        "outputId": "c0a3fa5c-9ac3-4e15-9488-5f793cbda19f"
      },
      "source": [
        "import os\n",
        "# Find the latest version of spark 2.0  from http://www-us.apache.org/dist/spark/ and enter as the spark version\n",
        "# For example:\n",
        "spark_version = 'spark-2.4.7'\n",
        "# spark_version = 'spark-2.<enter version>'\n",
        "os.environ['SPARK_VERSION']=spark_version\n",
        "\n",
        "# Install Spark and Java\n",
        "!apt-get update\n",
        "!apt-get install openjdk-8-jdk-headless -qq > /dev/null\n",
        "!wget -q http://www-us.apache.org/dist/spark/$SPARK_VERSION/$SPARK_VERSION-bin-hadoop2.7.tgz\n",
        "!tar xf $SPARK_VERSION-bin-hadoop2.7.tgz\n",
        "!pip install -q findspark\n",
        "\n",
        "# Set Environment Variables\n",
        "os.environ[\"JAVA_HOME\"] = \"/usr/lib/jvm/java-8-openjdk-amd64\"\n",
        "os.environ[\"SPARK_HOME\"] = f\"/content/{spark_version}-bin-hadoop2.7\"\n",
        "\n",
        "# Start a SparkSession\n",
        "import findspark\n",
        "findspark.init()\n",
        "\n"
      ],
      "execution_count": 37,
      "outputs": [
        {
          "output_type": "stream",
          "text": [
            "\r0% [Working]\r            \rHit:1 https://cloud.r-project.org/bin/linux/ubuntu bionic-cran35/ InRelease\n",
            "\r0% [Connecting to archive.ubuntu.com (91.189.88.152)] [Connecting to security.u\r0% [1 InRelease gpgv 3,626 B] [Connecting to archive.ubuntu.com (91.189.88.152)\r                                                                               \rIgn:2 https://developer.download.nvidia.com/compute/cuda/repos/ubuntu1804/x86_64  InRelease\n",
            "Ign:3 https://developer.download.nvidia.com/compute/machine-learning/repos/ubuntu1804/x86_64  InRelease\n",
            "Hit:4 https://developer.download.nvidia.com/compute/cuda/repos/ubuntu1804/x86_64  Release\n",
            "Hit:5 https://developer.download.nvidia.com/compute/machine-learning/repos/ubuntu1804/x86_64  Release\n",
            "Hit:6 http://security.ubuntu.com/ubuntu bionic-security InRelease\n",
            "Hit:7 http://ppa.launchpad.net/graphics-drivers/ppa/ubuntu bionic InRelease\n",
            "Hit:8 http://archive.ubuntu.com/ubuntu bionic InRelease\n",
            "Hit:10 http://archive.ubuntu.com/ubuntu bionic-updates InRelease\n",
            "Hit:11 http://ppa.launchpad.net/marutter/c2d4u3.5/ubuntu bionic InRelease\n",
            "Hit:12 http://archive.ubuntu.com/ubuntu bionic-backports InRelease\n",
            "Reading package lists... Done\n"
          ],
          "name": "stdout"
        }
      ]
    },
    {
      "cell_type": "code",
      "metadata": {
        "id": "Q5PNfsCGdvwK",
        "colab_type": "code",
        "colab": {}
      },
      "source": [
        "# Start Spark session\n",
        "from pyspark.sql import SparkSession\n",
        "spark = SparkSession.builder.appName(\"YelpReview\").getOrCreate()"
      ],
      "execution_count": 38,
      "outputs": []
    },
    {
      "cell_type": "code",
      "metadata": {
        "id": "vRXeIzKxAbNl",
        "colab_type": "code",
        "colab": {}
      },
      "source": [
        "from pyspark.sql.functions import col, udf,length, size\n",
        "from pyspark.sql.types import StringType"
      ],
      "execution_count": 39,
      "outputs": []
    },
    {
      "cell_type": "markdown",
      "metadata": {
        "id": "_Eo6aW_mIU7v",
        "colab_type": "text"
      },
      "source": [
        "### pyspark - Data cleaning"
      ]
    },
    {
      "cell_type": "code",
      "metadata": {
        "id": "NaEsSu5HdvwN",
        "colab_type": "code",
        "colab": {
          "base_uri": "https://localhost:8080/",
          "height": 459
        },
        "outputId": "325303cc-a5ae-4dbb-8175-dc67c9bbdd8e"
      },
      "source": [
        "# Read in data from S3 Buckets\n",
        "from pyspark import SparkFiles\n",
        "url =\"https://usc-bootcamp-yelpreview-text-analysis.s3.us-east-2.amazonaws.com/reviews.csv\"\n",
        "spark.sparkContext.addFile(url)\n",
        "raw_df = spark.read.csv(SparkFiles.get(\"reviews.csv\"), sep=\",\", header=True)\n",
        "\n",
        "# Show DataFrame\n",
        "raw_df.show()"
      ],
      "execution_count": 40,
      "outputs": [
        {
          "output_type": "stream",
          "text": [
            "+--------------------+-------------+------------+\n",
            "|             reviews|       rating|review_count|\n",
            "+--------------------+-------------+------------+\n",
            "|Panda Express was...|5 star rating|          63|\n",
            "|The dude and I ca...|5 star rating|          63|\n",
            "|I ordered 5 total...|1 star rating|          63|\n",
            "|I always order Pa...|3 star rating|          63|\n",
            "|Decided to try Pa...|5 star rating|          63|\n",
            "|I've never had a ...|4 star rating|          63|\n",
            "|The family meal d...|1 star rating|          63|\n",
            "|Quality has sever...|2 star rating|          63|\n",
            "|Paid for a bowl a...|1 star rating|          63|\n",
            "|Order a bowl with...|1 star rating|          63|\n",
            "|Went through the ...|1 star rating|          63|\n",
            "|When I think of p...|2 star rating|          63|\n",
            "|Horrible is a und...|1 star rating|          63|\n",
            "|Yes the drive thr...|2 star rating|          63|\n",
            "|Okay..so Panda is...|4 star rating|          63|\n",
            "|Going through Dri...|2 star rating|          63|\n",
            "|My entrees were a...|2 star rating|          63|\n",
            "|I'm done being ri...|1 star rating|          63|\n",
            "|Worst Panda in Fr...|1 star rating|          63|\n",
            "|I've been in here...|5 star rating|          63|\n",
            "+--------------------+-------------+------------+\n",
            "only showing top 20 rows\n",
            "\n"
          ],
          "name": "stdout"
        }
      ]
    },
    {
      "cell_type": "code",
      "metadata": {
        "id": "6BZ0W3-m8moG",
        "colab_type": "code",
        "colab": {}
      },
      "source": [
        "# new column function - reduce dimension of rating column into 3 categories\n",
        "def rating_category(rating:str)->str:\n",
        "  \"\"\"create new column for label\n",
        "  \"\"\"\n",
        "  if rating in [\"1 star rating\",\"2 star rating\"]:\n",
        "      return \"negative\"\n",
        "  elif rating in [ \"3 star rating\"]:\n",
        "      return \"neutral\"\n",
        "  else: \n",
        "      return \"positive\"\n",
        "\n",
        "assert rating_category(\"1 star rating\")==\"negative\"\n"
      ],
      "execution_count": 118,
      "outputs": []
    },
    {
      "cell_type": "code",
      "metadata": {
        "id": "fXkOnFY-BPTG",
        "colab_type": "code",
        "colab": {
          "base_uri": "https://localhost:8080/",
          "height": 34
        },
        "outputId": "feae300d-2da4-423a-f48d-0651f15866ef"
      },
      "source": [
        "# Store a user defined function\n",
        "convert_rating = udf(rating_category, StringType())\n",
        "convert_rating"
      ],
      "execution_count": 119,
      "outputs": [
        {
          "output_type": "execute_result",
          "data": {
            "text/plain": [
              "<function __main__.rating_category>"
            ]
          },
          "metadata": {
            "tags": []
          },
          "execution_count": 119
        }
      ]
    },
    {
      "cell_type": "code",
      "metadata": {
        "id": "8-u1o_de3y1a",
        "colab_type": "code",
        "colab": {
          "base_uri": "https://localhost:8080/",
          "height": 459
        },
        "outputId": "0eb98145-8a47-4b75-960a-17ab34ee621f"
      },
      "source": [
        "# add new column\n",
        "selected_df = raw_df.withColumn(\"output_label\", convert_rating(col(\"rating\")))\n",
        "selected_df = selected_df.withColumn(\"length\", length(selected_df[\"reviews\"]))\n",
        "selected_df.show()"
      ],
      "execution_count": 120,
      "outputs": [
        {
          "output_type": "stream",
          "text": [
            "+--------------------+-------------+------------+------------+------+\n",
            "|             reviews|       rating|review_count|output_label|length|\n",
            "+--------------------+-------------+------------+------------+------+\n",
            "|Panda Express was...|5 star rating|          63|    positive|   334|\n",
            "|The dude and I ca...|5 star rating|          63|    positive|   770|\n",
            "|I ordered 5 total...|1 star rating|          63|    negative|   151|\n",
            "|I always order Pa...|3 star rating|          63|     neutral|   628|\n",
            "|Decided to try Pa...|5 star rating|          63|    positive|   261|\n",
            "|I've never had a ...|4 star rating|          63|    positive|   640|\n",
            "|The family meal d...|1 star rating|          63|    negative|   129|\n",
            "|Quality has sever...|2 star rating|          63|    negative|   350|\n",
            "|Paid for a bowl a...|1 star rating|          63|    negative|   158|\n",
            "|Order a bowl with...|1 star rating|          63|    negative|   151|\n",
            "|Went through the ...|1 star rating|          63|    negative|   675|\n",
            "|When I think of p...|2 star rating|          63|    negative|   269|\n",
            "|Horrible is a und...|1 star rating|          63|    negative|   480|\n",
            "|Yes the drive thr...|2 star rating|          63|    negative|   311|\n",
            "|Okay..so Panda is...|4 star rating|          63|    positive|  1525|\n",
            "|Going through Dri...|2 star rating|          63|    negative|   653|\n",
            "|My entrees were a...|2 star rating|          63|    negative|   171|\n",
            "|I'm done being ri...|1 star rating|          63|    negative|  1065|\n",
            "|Worst Panda in Fr...|1 star rating|          63|    negative|   417|\n",
            "|I've been in here...|5 star rating|          63|    positive|   410|\n",
            "+--------------------+-------------+------------+------------+------+\n",
            "only showing top 20 rows\n",
            "\n"
          ],
          "name": "stdout"
        }
      ]
    },
    {
      "cell_type": "markdown",
      "metadata": {
        "id": "3Gw825XQD9ZR",
        "colab_type": "text"
      },
      "source": [
        "### pyspark - Feature Transformation"
      ]
    },
    {
      "cell_type": "code",
      "metadata": {
        "id": "r-YLw4x6D3Xi",
        "colab_type": "code",
        "colab": {}
      },
      "source": [
        "from pyspark.ml.feature import Tokenizer, StopWordsRemover, HashingTF, IDF, StringIndexer\n"
      ],
      "execution_count": 121,
      "outputs": []
    },
    {
      "cell_type": "code",
      "metadata": {
        "id": "DZ3s8Aq7vg_p",
        "colab_type": "code",
        "colab": {
          "base_uri": "https://localhost:8080/",
          "height": 459
        },
        "outputId": "94581803-156d-4e74-a10b-9cb3c364a3c9"
      },
      "source": [
        "# create token and remove stop words in order to find out stopwords percentage\n",
        "tokenizer = Tokenizer(inputCol=\"reviews\", outputCol=\"token\")\n",
        "selected_df = tokenizer.transform(selected_df)\n",
        "stop_word_remover = StopWordsRemover(inputCol=\"token\", outputCol=\"filtered_token\")\n",
        "selected_df = stop_word_remover.transform(selected_df)\n",
        "selected_df.show()"
      ],
      "execution_count": 122,
      "outputs": [
        {
          "output_type": "stream",
          "text": [
            "+--------------------+-------------+------------+------------+------+--------------------+--------------------+\n",
            "|             reviews|       rating|review_count|output_label|length|               token|      filtered_token|\n",
            "+--------------------+-------------+------------+------------+------+--------------------+--------------------+\n",
            "|Panda Express was...|5 star rating|          63|    positive|   334|[panda, express, ...|[panda, express, ...|\n",
            "|The dude and I ca...|5 star rating|          63|    positive|   770|[the, dude, and, ...|[dude, came, pand...|\n",
            "|I ordered 5 total...|1 star rating|          63|    negative|   151|[i, ordered, 5, t...|[ordered, 5, tota...|\n",
            "|I always order Pa...|3 star rating|          63|     neutral|   628|[i, always, order...|[always, order, p...|\n",
            "|Decided to try Pa...|5 star rating|          63|    positive|   261|[decided, to, try...|[decided, try, pa...|\n",
            "|I've never had a ...|4 star rating|          63|    positive|   640|[i've, never, had...|[never, bad, expe...|\n",
            "|The family meal d...|1 star rating|          63|    negative|   129|[the, family, mea...|[family, meal, de...|\n",
            "|Quality has sever...|2 star rating|          63|    negative|   350|[quality, has, se...|[quality, severel...|\n",
            "|Paid for a bowl a...|1 star rating|          63|    negative|   158|[paid, for, a, bo...|[paid, bowl, entr...|\n",
            "|Order a bowl with...|1 star rating|          63|    negative|   151|[order, a, bowl, ...|[order, bowl, cho...|\n",
            "|Went through the ...|1 star rating|          63|    negative|   675|[went, through, t...|[went, drive-thro...|\n",
            "|When I think of p...|2 star rating|          63|    negative|   269|[when, i, think, ...|[think, panda, go...|\n",
            "|Horrible is a und...|1 star rating|          63|    negative|   480|[horrible, is, a,...|[horrible, unders...|\n",
            "|Yes the drive thr...|2 star rating|          63|    negative|   311|[yes, the, drive,...|[yes, drive, fast...|\n",
            "|Okay..so Panda is...|4 star rating|          63|    positive|  1525|[okay..so, panda,...|[okay..so, panda,...|\n",
            "|Going through Dri...|2 star rating|          63|    negative|   653|[going, through, ...|[going, drive-thr...|\n",
            "|My entrees were a...|2 star rating|          63|    negative|   171|[my, entrees, wer...|[entrees, poor, s...|\n",
            "|I'm done being ri...|1 star rating|          63|    negative|  1065|[i'm, done, being...|[done, ripped, lo...|\n",
            "|Worst Panda in Fr...|1 star rating|          63|    negative|   417|[worst, panda, in...|[worst, panda, fr...|\n",
            "|I've been in here...|5 star rating|          63|    positive|   410|[i've, been, in, ...|[many, times, say...|\n",
            "+--------------------+-------------+------------+------------+------+--------------------+--------------------+\n",
            "only showing top 20 rows\n",
            "\n"
          ],
          "name": "stdout"
        }
      ]
    },
    {
      "cell_type": "code",
      "metadata": {
        "id": "xyh8KYgKwp-n",
        "colab_type": "code",
        "colab": {
          "base_uri": "https://localhost:8080/",
          "height": 459
        },
        "outputId": "0a399266-801d-4652-9029-29cc0a9a9c1d"
      },
      "source": [
        "selected_df = selected_df.withColumn(\"stopwords_count\", size(selected_df[\"filtered_token\"]))\n",
        "selected_df = selected_df.withColumn(\"stopwords_percent\", selected_df[\"stopwords_count\"]/selected_df[\"length\"])\n",
        "selected_df.show()"
      ],
      "execution_count": 123,
      "outputs": [
        {
          "output_type": "stream",
          "text": [
            "+--------------------+-------------+------------+------------+------+--------------------+--------------------+---------------+-------------------+\n",
            "|             reviews|       rating|review_count|output_label|length|               token|      filtered_token|stopwords_count|  stopwords_percent|\n",
            "+--------------------+-------------+------------+------------+------+--------------------+--------------------+---------------+-------------------+\n",
            "|Panda Express was...|5 star rating|          63|    positive|   334|[panda, express, ...|[panda, express, ...|             37|0.11077844311377245|\n",
            "|The dude and I ca...|5 star rating|          63|    positive|   770|[the, dude, and, ...|[dude, came, pand...|             80| 0.1038961038961039|\n",
            "|I ordered 5 total...|1 star rating|          63|    negative|   151|[i, ordered, 5, t...|[ordered, 5, tota...|             22| 0.1456953642384106|\n",
            "|I always order Pa...|3 star rating|          63|     neutral|   628|[i, always, order...|[always, order, p...|             60|0.09554140127388536|\n",
            "|Decided to try Pa...|5 star rating|          63|    positive|   261|[decided, to, try...|[decided, try, pa...|             32|0.12260536398467432|\n",
            "|I've never had a ...|4 star rating|          63|    positive|   640|[i've, never, had...|[never, bad, expe...|             60|            0.09375|\n",
            "|The family meal d...|1 star rating|          63|    negative|   129|[the, family, mea...|[family, meal, de...|             13|0.10077519379844961|\n",
            "|Quality has sever...|2 star rating|          63|    negative|   350|[quality, has, se...|[quality, severel...|             48|0.13714285714285715|\n",
            "|Paid for a bowl a...|1 star rating|          63|    negative|   158|[paid, for, a, bo...|[paid, bowl, entr...|             18|0.11392405063291139|\n",
            "|Order a bowl with...|1 star rating|          63|    negative|   151|[order, a, bowl, ...|[order, bowl, cho...|             19|0.12582781456953643|\n",
            "|Went through the ...|1 star rating|          63|    negative|   675|[went, through, t...|[went, drive-thro...|             62|0.09185185185185185|\n",
            "|When I think of p...|2 star rating|          63|    negative|   269|[when, i, think, ...|[think, panda, go...|             28|0.10408921933085502|\n",
            "|Horrible is a und...|1 star rating|          63|    negative|   480|[horrible, is, a,...|[horrible, unders...|             45|            0.09375|\n",
            "|Yes the drive thr...|2 star rating|          63|    negative|   311|[yes, the, drive,...|[yes, drive, fast...|             32|0.10289389067524116|\n",
            "|Okay..so Panda is...|4 star rating|          63|    positive|  1525|[okay..so, panda,...|[okay..so, panda,...|            149|0.09770491803278689|\n",
            "|Going through Dri...|2 star rating|          63|    negative|   653|[going, through, ...|[going, drive-thr...|             64|0.09800918836140889|\n",
            "|My entrees were a...|2 star rating|          63|    negative|   171|[my, entrees, wer...|[entrees, poor, s...|             21|0.12280701754385964|\n",
            "|I'm done being ri...|1 star rating|          63|    negative|  1065|[i'm, done, being...|[done, ripped, lo...|            106|0.09953051643192488|\n",
            "|Worst Panda in Fr...|1 star rating|          63|    negative|   417|[worst, panda, in...|[worst, panda, fr...|             47|0.11270983213429256|\n",
            "|I've been in here...|5 star rating|          63|    positive|   410|[i've, been, in, ...|[many, times, say...|             37|0.09024390243902439|\n",
            "+--------------------+-------------+------------+------------+------+--------------------+--------------------+---------------+-------------------+\n",
            "only showing top 20 rows\n",
            "\n"
          ],
          "name": "stdout"
        }
      ]
    },
    {
      "cell_type": "code",
      "metadata": {
        "id": "Qz57Y3xxEHRJ",
        "colab_type": "code",
        "colab": {}
      },
      "source": [
        "# create all features to the dataset\n",
        "label_encoder = StringIndexer(inputCol=\"output_label\", outputCol=\"label\")\n",
        "hasher = HashingTF(inputCol=\"filtered_token\", outputCol=\"hashed_token\")\n",
        "idf = IDF(inputCol=\"hashed_token\", outputCol=\"idf_token\")\n"
      ],
      "execution_count": 124,
      "outputs": []
    },
    {
      "cell_type": "code",
      "metadata": {
        "id": "NmeYECzrEHTd",
        "colab_type": "code",
        "colab": {}
      },
      "source": [
        "from pyspark.ml.feature import VectorAssembler\n",
        "from pyspark.ml.linalg import Vector\n",
        "\n",
        "# Create feature vectors\n",
        "vectorizer = VectorAssembler(inputCols = [\"idf_token\", \"length\",\"stopwords_percent\"], outputCol = \"features\")\n"
      ],
      "execution_count": 125,
      "outputs": []
    },
    {
      "cell_type": "markdown",
      "metadata": {
        "id": "E4U-I2I6FTV9",
        "colab_type": "text"
      },
      "source": [
        "### pyspark - Create a Pipeline to Automate The Data Transformations"
      ]
    },
    {
      "cell_type": "code",
      "metadata": {
        "id": "v6EGuPcMFVop",
        "colab_type": "code",
        "colab": {}
      },
      "source": [
        "# Create a and run a data processing Pipeline\n",
        "from pyspark.ml import Pipeline\n",
        "pipeline = Pipeline(stages=[label_encoder, hasher, idf, vectorizer])\n"
      ],
      "execution_count": 126,
      "outputs": []
    },
    {
      "cell_type": "code",
      "metadata": {
        "id": "KONh1TWZFVrh",
        "colab_type": "code",
        "colab": {
          "base_uri": "https://localhost:8080/",
          "height": 479
        },
        "outputId": "efc8e566-2431-4d08-e480-29a5c7ef37dc"
      },
      "source": [
        "# fit and transform data with pipeline\n",
        "pipeline_model = pipeline.fit(selected_df)\n",
        "cleaned_df = pipeline_model.transform(selected_df)\n",
        "cleaned_df.show()"
      ],
      "execution_count": 127,
      "outputs": [
        {
          "output_type": "stream",
          "text": [
            "+--------------------+-------------+------------+------------+------+--------------------+--------------------+---------------+-------------------+-----+--------------------+--------------------+--------------------+\n",
            "|             reviews|       rating|review_count|output_label|length|               token|      filtered_token|stopwords_count|  stopwords_percent|label|        hashed_token|           idf_token|            features|\n",
            "+--------------------+-------------+------------+------------+------+--------------------+--------------------+---------------+-------------------+-----+--------------------+--------------------+--------------------+\n",
            "|Panda Express was...|5 star rating|          63|    positive|   334|[panda, express, ...|[panda, express, ...|             37|0.11077844311377245|  1.0|(262144,[2711,610...|(262144,[2711,610...|(262146,[2711,610...|\n",
            "|The dude and I ca...|5 star rating|          63|    positive|   770|[the, dude, and, ...|[dude, came, pand...|             80| 0.1038961038961039|  1.0|(262144,[9090,131...|(262144,[9090,131...|(262146,[9090,131...|\n",
            "|I ordered 5 total...|1 star rating|          63|    negative|   151|[i, ordered, 5, t...|[ordered, 5, tota...|             22| 0.1456953642384106|  0.0|(262144,[4402,978...|(262144,[4402,978...|(262146,[4402,978...|\n",
            "|I always order Pa...|3 star rating|          63|     neutral|   628|[i, always, order...|[always, order, p...|             60|0.09554140127388536|  2.0|(262144,[329,2325...|(262144,[329,2325...|(262146,[329,2325...|\n",
            "|Decided to try Pa...|5 star rating|          63|    positive|   261|[decided, to, try...|[decided, try, pa...|             32|0.12260536398467432|  1.0|(262144,[8086,335...|(262144,[8086,335...|(262146,[8086,335...|\n",
            "|I've never had a ...|4 star rating|          63|    positive|   640|[i've, never, had...|[never, bad, expe...|             60|            0.09375|  1.0|(262144,[78,8287,...|(262144,[78,8287,...|(262146,[78,8287,...|\n",
            "|The family meal d...|1 star rating|          63|    negative|   129|[the, family, mea...|[family, meal, de...|             13|0.10077519379844961|  0.0|(262144,[19153,49...|(262144,[19153,49...|(262146,[19153,49...|\n",
            "|Quality has sever...|2 star rating|          63|    negative|   350|[quality, has, se...|[quality, severel...|             48|0.13714285714285715|  0.0|(262144,[16595,28...|(262144,[16595,28...|(262146,[16595,28...|\n",
            "|Paid for a bowl a...|1 star rating|          63|    negative|   158|[paid, for, a, bo...|[paid, bowl, entr...|             18|0.11392405063291139|  0.0|(262144,[15664,20...|(262144,[15664,20...|(262146,[15664,20...|\n",
            "|Order a bowl with...|1 star rating|          63|    negative|   151|[order, a, bowl, ...|[order, bowl, cho...|             19|0.12582781456953643|  0.0|(262144,[5381,172...|(262144,[5381,172...|(262146,[5381,172...|\n",
            "|Went through the ...|1 star rating|          63|    negative|   675|[went, through, t...|[went, drive-thro...|             62|0.09185185185185185|  0.0|(262144,[329,2325...|(262144,[329,2325...|(262146,[329,2325...|\n",
            "|When I think of p...|2 star rating|          63|    negative|   269|[when, i, think, ...|[think, panda, go...|             28|0.10408921933085502|  0.0|(262144,[78,2437,...|(262144,[78,2437,...|(262146,[78,2437,...|\n",
            "|Horrible is a und...|1 star rating|          63|    negative|   480|[horrible, is, a,...|[horrible, unders...|             45|            0.09375|  0.0|(262144,[4402,137...|(262144,[4402,137...|(262146,[4402,137...|\n",
            "|Yes the drive thr...|2 star rating|          63|    negative|   311|[yes, the, drive,...|[yes, drive, fast...|             32|0.10289389067524116|  0.0|(262144,[6796,172...|(262144,[6796,172...|(262146,[6796,172...|\n",
            "|Okay..so Panda is...|4 star rating|          63|    positive|  1525|[okay..so, panda,...|[okay..so, panda,...|            149|0.09770491803278689|  1.0|(262144,[2437,755...|(262144,[2437,755...|(262146,[2437,755...|\n",
            "|Going through Dri...|2 star rating|          63|    negative|   653|[going, through, ...|[going, drive-thr...|             64|0.09800918836140889|  0.0|(262144,[2410,124...|(262144,[2410,124...|(262146,[2410,124...|\n",
            "|My entrees were a...|2 star rating|          63|    negative|   171|[my, entrees, wer...|[entrees, poor, s...|             21|0.12280701754385964|  0.0|(262144,[16091,31...|(262144,[16091,31...|(262146,[16091,31...|\n",
            "|I'm done being ri...|1 star rating|          63|    negative|  1065|[i'm, done, being...|[done, ripped, lo...|            106|0.09953051643192488|  0.0|(262144,[8985,134...|(262144,[8985,134...|(262146,[8985,134...|\n",
            "|Worst Panda in Fr...|1 star rating|          63|    negative|   417|[worst, panda, in...|[worst, panda, fr...|             47|0.11270983213429256|  0.0|(262144,[1536,232...|(262144,[1536,232...|(262146,[1536,232...|\n",
            "|I've been in here...|5 star rating|          63|    positive|   410|[i've, been, in, ...|[many, times, say...|             37|0.09024390243902439|  1.0|(262144,[553,1489...|(262144,[553,1489...|(262146,[553,1489...|\n",
            "+--------------------+-------------+------------+------------+------+--------------------+--------------------+---------------+-------------------+-----+--------------------+--------------------+--------------------+\n",
            "only showing top 20 rows\n",
            "\n"
          ],
          "name": "stdout"
        }
      ]
    },
    {
      "cell_type": "markdown",
      "metadata": {
        "id": "72XEtR0OG0S4",
        "colab_type": "text"
      },
      "source": [
        "### pyspark - Create training and testing dataset"
      ]
    },
    {
      "cell_type": "code",
      "metadata": {
        "id": "kYGmr5jgFV3q",
        "colab_type": "code",
        "colab": {}
      },
      "source": [
        "from pyspark.ml.classification import NaiveBayes\n",
        "\n",
        "# Break data down into a training set and a testing set\n",
        "training, testing = cleaned_df.randomSplit([0.7, 0.3], seed = 43)"
      ],
      "execution_count": 128,
      "outputs": []
    },
    {
      "cell_type": "markdown",
      "metadata": {
        "id": "py6Vy9ymHL4x",
        "colab_type": "text"
      },
      "source": [
        "### pyspark - Fit and predict NaiveBaye model"
      ]
    },
    {
      "cell_type": "code",
      "metadata": {
        "id": "vALxGjKCFVy5",
        "colab_type": "code",
        "colab": {}
      },
      "source": [
        "# Create a Naive Bayes model and fit training data\n",
        "model = NaiveBayes()\n",
        "predictor = model.fit(training)\n"
      ],
      "execution_count": 129,
      "outputs": []
    },
    {
      "cell_type": "code",
      "metadata": {
        "id": "cFzzWBfUFVuU",
        "colab_type": "code",
        "colab": {
          "base_uri": "https://localhost:8080/",
          "height": 224
        },
        "outputId": "664c88e7-a44f-417d-afd4-8df949a64612"
      },
      "source": [
        "# Tranform the model with the testing data\n",
        "test_results = predictor.transform(testing)\n",
        "test_results.show(5)"
      ],
      "execution_count": 130,
      "outputs": [
        {
          "output_type": "stream",
          "text": [
            "+--------------------+-------------+------------+------------+------+--------------------+--------------------+---------------+-------------------+-----+--------------------+--------------------+--------------------+--------------------+--------------------+----------+\n",
            "|             reviews|       rating|review_count|output_label|length|               token|      filtered_token|stopwords_count|  stopwords_percent|label|        hashed_token|           idf_token|            features|       rawPrediction|         probability|prediction|\n",
            "+--------------------+-------------+------------+------------+------+--------------------+--------------------+---------------+-------------------+-----+--------------------+--------------------+--------------------+--------------------+--------------------+----------+\n",
            "|\"\"\"I never want t...|2 star rating|          29|    negative|  1410|[\"\"\"i, never, wan...|[\"\"\"i, never, wan...|            141|                0.1|  0.0|(262144,[14,4200,...|(262144,[14,4200,...|(262146,[14,4200,...|[-6006.7996183041...|[1.0,8.1249011234...|       0.0|\n",
            "|\"\"\"No soup for yo...|1 star rating|         150|    negative|   272|[\"\"\"no, soup, for...|[\"\"\"no, soup, you...|             32|0.11764705882352941|  0.0|(262144,[1739,537...|(262144,[1739,537...|(262146,[1739,537...|[-2042.4784035807...|[0.99995379710875...|       0.0|\n",
            "|\"\"\"Panda\"\" says m...|4 star rating|          46|    positive|   342|[\"\"\"panda\"\", says...|[\"\"\"panda\"\", says...|             36|0.10526315789473684|  1.0|(262144,[13781,21...|(262144,[13781,21...|(262146,[13781,21...|[-1469.4235355759...|[0.99999973989639...|       0.0|\n",
            "|\"\"\"There is much ...|1 star rating|          37|    negative|  1685|[\"\"\"there, is, mu...|[\"\"\"there, much, ...|            158|0.09376854599406528|  0.0|(262144,[512,929,...|(262144,[512,929,...|(262146,[512,929,...|[-7819.8384505725...|[1.0,7.1725388876...|       0.0|\n",
            "|\"(5/2/2018)  Stop...|3 star rating|          41|     neutral|  1372|[\"(5/2/2018),  st...|[\"(5/2/2018),  st...|            140|0.10204081632653061|  2.0|(262144,[1854,232...|(262144,[1854,232...|(262146,[1854,232...|[-9443.9048985052...|[2.57345002986579...|       1.0|\n",
            "+--------------------+-------------+------------+------------+------+--------------------+--------------------+---------------+-------------------+-----+--------------------+--------------------+--------------------+--------------------+--------------------+----------+\n",
            "only showing top 5 rows\n",
            "\n"
          ],
          "name": "stdout"
        }
      ]
    },
    {
      "cell_type": "markdown",
      "metadata": {
        "id": "4zrNy_da6ic6",
        "colab_type": "text"
      },
      "source": [
        "### pyspark - Results"
      ]
    },
    {
      "cell_type": "code",
      "metadata": {
        "id": "ld09ZCgsHvqa",
        "colab_type": "code",
        "colab": {
          "base_uri": "https://localhost:8080/",
          "height": 34
        },
        "outputId": "388bff1f-a50a-4c55-8dc6-5d3022fd1345"
      },
      "source": [
        "# Use the Class Evaluator for a cleaner description\n",
        "from pyspark.ml.evaluation import MulticlassClassificationEvaluator\n",
        "\n",
        "acc_eval = MulticlassClassificationEvaluator()\n",
        "acc = acc_eval.evaluate(test_results)\n",
        "print(\"Accuracy of model at predicting reviews was: %f\" % acc)"
      ],
      "execution_count": 131,
      "outputs": [
        {
          "output_type": "stream",
          "text": [
            "Accuracy of model at predicting reviews was: 0.751259\n"
          ],
          "name": "stdout"
        }
      ]
    },
    {
      "cell_type": "code",
      "metadata": {
        "id": "yPIi3htI1a2R",
        "colab_type": "code",
        "colab": {}
      },
      "source": [
        "from pyspark.mllib.evaluation import MulticlassMetrics\n",
        "# Create (prediction, label) pairs\n",
        "predictionAndLabel = test_results.select(\"prediction\", \"label\").rdd\n",
        "\n"
      ],
      "execution_count": 132,
      "outputs": []
    },
    {
      "cell_type": "code",
      "metadata": {
        "id": "XhkQRCO8rZ-9",
        "colab_type": "code",
        "colab": {
          "base_uri": "https://localhost:8080/",
          "height": 68
        },
        "outputId": "bc4c0370-a1fa-420c-833d-a726505af90c"
      },
      "source": [
        "# Generate confusion matrix\n",
        "#select only prediction and label columns\n",
        "\n",
        "metrics = MulticlassMetrics(predictionAndLabel.map(tuple))\n",
        "print(metrics.confusionMatrix().toArray())"
      ],
      "execution_count": 60,
      "outputs": [
        {
          "output_type": "stream",
          "text": [
            "[[3027.  110.   26.]\n",
            " [ 404. 1177.   12.]\n",
            " [ 380.  179.   20.]]\n"
          ],
          "name": "stdout"
        }
      ]
    },
    {
      "cell_type": "markdown",
      "metadata": {
        "id": "cdba3oPDixtv",
        "colab_type": "text"
      },
      "source": [
        "### sklearn - Neutral Networking"
      ]
    },
    {
      "cell_type": "code",
      "metadata": {
        "id": "kigSTDNBi2bJ",
        "colab_type": "code",
        "colab": {}
      },
      "source": [
        "import pandas as pd\n",
        "import numpy as np"
      ],
      "execution_count": 230,
      "outputs": []
    },
    {
      "cell_type": "code",
      "metadata": {
        "id": "9XJqE8tGi73e",
        "colab_type": "code",
        "colab": {
          "base_uri": "https://localhost:8080/",
          "height": 204
        },
        "outputId": "d60a4239-a24e-455b-d699-1d8a8414b1b0"
      },
      "source": [
        "reviews = pd.read_csv(url)\n",
        "reviews = reviews.iloc[:,0:2]\n",
        "reviews.head()"
      ],
      "execution_count": 231,
      "outputs": [
        {
          "output_type": "execute_result",
          "data": {
            "text/html": [
              "<div>\n",
              "<style scoped>\n",
              "    .dataframe tbody tr th:only-of-type {\n",
              "        vertical-align: middle;\n",
              "    }\n",
              "\n",
              "    .dataframe tbody tr th {\n",
              "        vertical-align: top;\n",
              "    }\n",
              "\n",
              "    .dataframe thead th {\n",
              "        text-align: right;\n",
              "    }\n",
              "</style>\n",
              "<table border=\"1\" class=\"dataframe\">\n",
              "  <thead>\n",
              "    <tr style=\"text-align: right;\">\n",
              "      <th></th>\n",
              "      <th>reviews</th>\n",
              "      <th>rating</th>\n",
              "    </tr>\n",
              "  </thead>\n",
              "  <tbody>\n",
              "    <tr>\n",
              "      <th>0</th>\n",
              "      <td>Panda Express was on point tonight! I ordered ...</td>\n",
              "      <td>5 star rating</td>\n",
              "    </tr>\n",
              "    <tr>\n",
              "      <th>1</th>\n",
              "      <td>The dude and I came to this Panda Express arou...</td>\n",
              "      <td>5 star rating</td>\n",
              "    </tr>\n",
              "    <tr>\n",
              "      <th>2</th>\n",
              "      <td>I ordered 5 total plates , fried rice , chow m...</td>\n",
              "      <td>1 star rating</td>\n",
              "    </tr>\n",
              "    <tr>\n",
              "      <th>3</th>\n",
              "      <td>I always order Panda Express from here and the...</td>\n",
              "      <td>3 star rating</td>\n",
              "    </tr>\n",
              "    <tr>\n",
              "      <th>4</th>\n",
              "      <td>I've never had a bad experience here, I don't ...</td>\n",
              "      <td>4 star rating</td>\n",
              "    </tr>\n",
              "  </tbody>\n",
              "</table>\n",
              "</div>"
            ],
            "text/plain": [
              "                                             reviews         rating\n",
              "0  Panda Express was on point tonight! I ordered ...  5 star rating\n",
              "1  The dude and I came to this Panda Express arou...  5 star rating\n",
              "2  I ordered 5 total plates , fried rice , chow m...  1 star rating\n",
              "3  I always order Panda Express from here and the...  3 star rating\n",
              "4  I've never had a bad experience here, I don't ...  4 star rating"
            ]
          },
          "metadata": {
            "tags": []
          },
          "execution_count": 231
        }
      ]
    },
    {
      "cell_type": "markdown",
      "metadata": {
        "id": "0u-NysGTlwKi",
        "colab_type": "text"
      },
      "source": [
        "### sklearn - Clean up data, Changing rating column"
      ]
    },
    {
      "cell_type": "code",
      "metadata": {
        "id": "XPv4q_pujE_F",
        "colab_type": "code",
        "colab": {
          "base_uri": "https://localhost:8080/",
          "height": 204
        },
        "outputId": "2c0d746e-c61b-415f-916c-813e1229edab"
      },
      "source": [
        "# use defined function above to re-create rating column\n",
        "reviews[\"rating_reduced\"] = reviews[\"rating\"].apply(rating_category)\n",
        "reviews.head()"
      ],
      "execution_count": 232,
      "outputs": [
        {
          "output_type": "execute_result",
          "data": {
            "text/html": [
              "<div>\n",
              "<style scoped>\n",
              "    .dataframe tbody tr th:only-of-type {\n",
              "        vertical-align: middle;\n",
              "    }\n",
              "\n",
              "    .dataframe tbody tr th {\n",
              "        vertical-align: top;\n",
              "    }\n",
              "\n",
              "    .dataframe thead th {\n",
              "        text-align: right;\n",
              "    }\n",
              "</style>\n",
              "<table border=\"1\" class=\"dataframe\">\n",
              "  <thead>\n",
              "    <tr style=\"text-align: right;\">\n",
              "      <th></th>\n",
              "      <th>reviews</th>\n",
              "      <th>rating</th>\n",
              "      <th>rating_reduced</th>\n",
              "    </tr>\n",
              "  </thead>\n",
              "  <tbody>\n",
              "    <tr>\n",
              "      <th>0</th>\n",
              "      <td>Panda Express was on point tonight! I ordered ...</td>\n",
              "      <td>5 star rating</td>\n",
              "      <td>positive</td>\n",
              "    </tr>\n",
              "    <tr>\n",
              "      <th>1</th>\n",
              "      <td>The dude and I came to this Panda Express arou...</td>\n",
              "      <td>5 star rating</td>\n",
              "      <td>positive</td>\n",
              "    </tr>\n",
              "    <tr>\n",
              "      <th>2</th>\n",
              "      <td>I ordered 5 total plates , fried rice , chow m...</td>\n",
              "      <td>1 star rating</td>\n",
              "      <td>negative</td>\n",
              "    </tr>\n",
              "    <tr>\n",
              "      <th>3</th>\n",
              "      <td>I always order Panda Express from here and the...</td>\n",
              "      <td>3 star rating</td>\n",
              "      <td>neutral</td>\n",
              "    </tr>\n",
              "    <tr>\n",
              "      <th>4</th>\n",
              "      <td>I've never had a bad experience here, I don't ...</td>\n",
              "      <td>4 star rating</td>\n",
              "      <td>positive</td>\n",
              "    </tr>\n",
              "  </tbody>\n",
              "</table>\n",
              "</div>"
            ],
            "text/plain": [
              "                                             reviews  ... rating_reduced\n",
              "0  Panda Express was on point tonight! I ordered ...  ...       positive\n",
              "1  The dude and I came to this Panda Express arou...  ...       positive\n",
              "2  I ordered 5 total plates , fried rice , chow m...  ...       negative\n",
              "3  I always order Panda Express from here and the...  ...        neutral\n",
              "4  I've never had a bad experience here, I don't ...  ...       positive\n",
              "\n",
              "[5 rows x 3 columns]"
            ]
          },
          "metadata": {
            "tags": []
          },
          "execution_count": 232
        }
      ]
    },
    {
      "cell_type": "markdown",
      "metadata": {
        "id": "jqiBaemMp3sd",
        "colab_type": "text"
      },
      "source": [
        "### sklearn - Feature Engineer"
      ]
    },
    {
      "cell_type": "code",
      "metadata": {
        "id": "BdhwGZf8r_Oy",
        "colab_type": "code",
        "colab": {
          "base_uri": "https://localhost:8080/",
          "height": 204
        },
        "outputId": "a2f5e22b-9ae0-4889-8995-a8a77428bb05"
      },
      "source": [
        "# create word count, and character count\n",
        "reviews[\"word_list\"] = reviews[\"reviews\"].apply(lambda x: x.split())\n",
        "reviews[\"word_count\"] = reviews[\"word_list\"].apply(lambda x: len(x))\n",
        "reviews[\"char_count\"] = reviews[\"reviews\"].apply(lambda x: len(x))\n",
        "reviews.head()"
      ],
      "execution_count": 233,
      "outputs": [
        {
          "output_type": "execute_result",
          "data": {
            "text/html": [
              "<div>\n",
              "<style scoped>\n",
              "    .dataframe tbody tr th:only-of-type {\n",
              "        vertical-align: middle;\n",
              "    }\n",
              "\n",
              "    .dataframe tbody tr th {\n",
              "        vertical-align: top;\n",
              "    }\n",
              "\n",
              "    .dataframe thead th {\n",
              "        text-align: right;\n",
              "    }\n",
              "</style>\n",
              "<table border=\"1\" class=\"dataframe\">\n",
              "  <thead>\n",
              "    <tr style=\"text-align: right;\">\n",
              "      <th></th>\n",
              "      <th>reviews</th>\n",
              "      <th>rating</th>\n",
              "      <th>rating_reduced</th>\n",
              "      <th>word_list</th>\n",
              "      <th>word_count</th>\n",
              "      <th>char_count</th>\n",
              "    </tr>\n",
              "  </thead>\n",
              "  <tbody>\n",
              "    <tr>\n",
              "      <th>0</th>\n",
              "      <td>Panda Express was on point tonight! I ordered ...</td>\n",
              "      <td>5 star rating</td>\n",
              "      <td>positive</td>\n",
              "      <td>[Panda, Express, was, on, point, tonight!, I, ...</td>\n",
              "      <td>63</td>\n",
              "      <td>334</td>\n",
              "    </tr>\n",
              "    <tr>\n",
              "      <th>1</th>\n",
              "      <td>The dude and I came to this Panda Express arou...</td>\n",
              "      <td>5 star rating</td>\n",
              "      <td>positive</td>\n",
              "      <td>[The, dude, and, I, came, to, this, Panda, Exp...</td>\n",
              "      <td>149</td>\n",
              "      <td>770</td>\n",
              "    </tr>\n",
              "    <tr>\n",
              "      <th>2</th>\n",
              "      <td>I ordered 5 total plates , fried rice , chow m...</td>\n",
              "      <td>1 star rating</td>\n",
              "      <td>negative</td>\n",
              "      <td>[I, ordered, 5, total, plates, ,, fried, rice,...</td>\n",
              "      <td>30</td>\n",
              "      <td>154</td>\n",
              "    </tr>\n",
              "    <tr>\n",
              "      <th>3</th>\n",
              "      <td>I always order Panda Express from here and the...</td>\n",
              "      <td>3 star rating</td>\n",
              "      <td>neutral</td>\n",
              "      <td>[I, always, order, Panda, Express, from, here,...</td>\n",
              "      <td>122</td>\n",
              "      <td>634</td>\n",
              "    </tr>\n",
              "    <tr>\n",
              "      <th>4</th>\n",
              "      <td>I've never had a bad experience here, I don't ...</td>\n",
              "      <td>4 star rating</td>\n",
              "      <td>positive</td>\n",
              "      <td>[I've, never, had, a, bad, experience, here,, ...</td>\n",
              "      <td>120</td>\n",
              "      <td>644</td>\n",
              "    </tr>\n",
              "  </tbody>\n",
              "</table>\n",
              "</div>"
            ],
            "text/plain": [
              "                                             reviews  ... char_count\n",
              "0  Panda Express was on point tonight! I ordered ...  ...        334\n",
              "1  The dude and I came to this Panda Express arou...  ...        770\n",
              "2  I ordered 5 total plates , fried rice , chow m...  ...        154\n",
              "3  I always order Panda Express from here and the...  ...        634\n",
              "4  I've never had a bad experience here, I don't ...  ...        644\n",
              "\n",
              "[5 rows x 6 columns]"
            ]
          },
          "metadata": {
            "tags": []
          },
          "execution_count": 233
        }
      ]
    },
    {
      "cell_type": "code",
      "metadata": {
        "id": "WGrTkGMDzwaj",
        "colab_type": "code",
        "colab": {
          "base_uri": "https://localhost:8080/",
          "height": 68
        },
        "outputId": "59bcafc3-a1ce-4654-a0ec-edcfd9104151"
      },
      "source": [
        "import nltk\n",
        "nltk.download('stopwords')"
      ],
      "execution_count": 235,
      "outputs": [
        {
          "output_type": "stream",
          "text": [
            "[nltk_data] Downloading package stopwords to /root/nltk_data...\n",
            "[nltk_data]   Package stopwords is already up-to-date!\n"
          ],
          "name": "stdout"
        },
        {
          "output_type": "execute_result",
          "data": {
            "text/plain": [
              "True"
            ]
          },
          "metadata": {
            "tags": []
          },
          "execution_count": 235
        }
      ]
    },
    {
      "cell_type": "code",
      "metadata": {
        "id": "fBqUZ3iKxxYv",
        "colab_type": "code",
        "colab": {
          "base_uri": "https://localhost:8080/",
          "height": 204
        },
        "outputId": "27852dfb-5541-49fc-f672-aea0afaafad0"
      },
      "source": [
        "# remove stop words, and get stopwords percentage\n",
        "from nltk.corpus import stopwords\n",
        "stop_words = stopwords.words(\"english\")\n",
        "\n",
        "reviews[\"stop_word_count\"] = reviews[\"word_list\"].apply(lambda x: len([word for word in x if word.lower() in stop_words]))\n",
        "reviews[\"stop_word_percent\"] = reviews[\"stop_word_count\"]/reviews[\"word_count\"]\n",
        "reviews.head()"
      ],
      "execution_count": 236,
      "outputs": [
        {
          "output_type": "execute_result",
          "data": {
            "text/html": [
              "<div>\n",
              "<style scoped>\n",
              "    .dataframe tbody tr th:only-of-type {\n",
              "        vertical-align: middle;\n",
              "    }\n",
              "\n",
              "    .dataframe tbody tr th {\n",
              "        vertical-align: top;\n",
              "    }\n",
              "\n",
              "    .dataframe thead th {\n",
              "        text-align: right;\n",
              "    }\n",
              "</style>\n",
              "<table border=\"1\" class=\"dataframe\">\n",
              "  <thead>\n",
              "    <tr style=\"text-align: right;\">\n",
              "      <th></th>\n",
              "      <th>reviews</th>\n",
              "      <th>rating</th>\n",
              "      <th>rating_reduced</th>\n",
              "      <th>word_list</th>\n",
              "      <th>word_count</th>\n",
              "      <th>char_count</th>\n",
              "      <th>stop_word_count</th>\n",
              "      <th>stop_word_percent</th>\n",
              "    </tr>\n",
              "  </thead>\n",
              "  <tbody>\n",
              "    <tr>\n",
              "      <th>0</th>\n",
              "      <td>Panda Express was on point tonight! I ordered ...</td>\n",
              "      <td>5 star rating</td>\n",
              "      <td>positive</td>\n",
              "      <td>[Panda, Express, was, on, point, tonight!, I, ...</td>\n",
              "      <td>63</td>\n",
              "      <td>334</td>\n",
              "      <td>28</td>\n",
              "      <td>0.444444</td>\n",
              "    </tr>\n",
              "    <tr>\n",
              "      <th>1</th>\n",
              "      <td>The dude and I came to this Panda Express arou...</td>\n",
              "      <td>5 star rating</td>\n",
              "      <td>positive</td>\n",
              "      <td>[The, dude, and, I, came, to, this, Panda, Exp...</td>\n",
              "      <td>149</td>\n",
              "      <td>770</td>\n",
              "      <td>69</td>\n",
              "      <td>0.463087</td>\n",
              "    </tr>\n",
              "    <tr>\n",
              "      <th>2</th>\n",
              "      <td>I ordered 5 total plates , fried rice , chow m...</td>\n",
              "      <td>1 star rating</td>\n",
              "      <td>negative</td>\n",
              "      <td>[I, ordered, 5, total, plates, ,, fried, rice,...</td>\n",
              "      <td>30</td>\n",
              "      <td>154</td>\n",
              "      <td>8</td>\n",
              "      <td>0.266667</td>\n",
              "    </tr>\n",
              "    <tr>\n",
              "      <th>3</th>\n",
              "      <td>I always order Panda Express from here and the...</td>\n",
              "      <td>3 star rating</td>\n",
              "      <td>neutral</td>\n",
              "      <td>[I, always, order, Panda, Express, from, here,...</td>\n",
              "      <td>122</td>\n",
              "      <td>634</td>\n",
              "      <td>57</td>\n",
              "      <td>0.467213</td>\n",
              "    </tr>\n",
              "    <tr>\n",
              "      <th>4</th>\n",
              "      <td>I've never had a bad experience here, I don't ...</td>\n",
              "      <td>4 star rating</td>\n",
              "      <td>positive</td>\n",
              "      <td>[I've, never, had, a, bad, experience, here,, ...</td>\n",
              "      <td>120</td>\n",
              "      <td>644</td>\n",
              "      <td>58</td>\n",
              "      <td>0.483333</td>\n",
              "    </tr>\n",
              "  </tbody>\n",
              "</table>\n",
              "</div>"
            ],
            "text/plain": [
              "                                             reviews  ... stop_word_percent\n",
              "0  Panda Express was on point tonight! I ordered ...  ...          0.444444\n",
              "1  The dude and I came to this Panda Express arou...  ...          0.463087\n",
              "2  I ordered 5 total plates , fried rice , chow m...  ...          0.266667\n",
              "3  I always order Panda Express from here and the...  ...          0.467213\n",
              "4  I've never had a bad experience here, I don't ...  ...          0.483333\n",
              "\n",
              "[5 rows x 8 columns]"
            ]
          },
          "metadata": {
            "tags": []
          },
          "execution_count": 236
        }
      ]
    },
    {
      "cell_type": "markdown",
      "metadata": {
        "id": "7XoOzFOn1jUu",
        "colab_type": "text"
      },
      "source": [
        "### sklearn - Data Cleaning"
      ]
    },
    {
      "cell_type": "code",
      "metadata": {
        "id": "ZvjUjw2b08Ha",
        "colab_type": "code",
        "colab": {
          "base_uri": "https://localhost:8080/",
          "height": 289
        },
        "outputId": "b8580c63-b677-4212-95fd-fd1cd9daacf1"
      },
      "source": [
        "# lower case all the reviews, and remove all the punctuations\n",
        "reviews[\"lowercase_reviews\"] = reviews[\"reviews\"].apply(lambda x: \" \".join(word.lower() for word in x.split()))\n",
        "reviews[\"lowercase_reviews\"] = reviews[\"lowercase_reviews\"].str.replace('[^\\w\\s]',\"\")\n",
        "reviews[\"lowercase_reviews_list\"] = reviews[\"lowercase_reviews\"].apply(lambda x: x.split())\n",
        "reviews.head()"
      ],
      "execution_count": 237,
      "outputs": [
        {
          "output_type": "execute_result",
          "data": {
            "text/html": [
              "<div>\n",
              "<style scoped>\n",
              "    .dataframe tbody tr th:only-of-type {\n",
              "        vertical-align: middle;\n",
              "    }\n",
              "\n",
              "    .dataframe tbody tr th {\n",
              "        vertical-align: top;\n",
              "    }\n",
              "\n",
              "    .dataframe thead th {\n",
              "        text-align: right;\n",
              "    }\n",
              "</style>\n",
              "<table border=\"1\" class=\"dataframe\">\n",
              "  <thead>\n",
              "    <tr style=\"text-align: right;\">\n",
              "      <th></th>\n",
              "      <th>reviews</th>\n",
              "      <th>rating</th>\n",
              "      <th>rating_reduced</th>\n",
              "      <th>word_list</th>\n",
              "      <th>word_count</th>\n",
              "      <th>char_count</th>\n",
              "      <th>stop_word_count</th>\n",
              "      <th>stop_word_percent</th>\n",
              "      <th>lowercase_reviews</th>\n",
              "      <th>lowercase_reviews_list</th>\n",
              "    </tr>\n",
              "  </thead>\n",
              "  <tbody>\n",
              "    <tr>\n",
              "      <th>0</th>\n",
              "      <td>Panda Express was on point tonight! I ordered ...</td>\n",
              "      <td>5 star rating</td>\n",
              "      <td>positive</td>\n",
              "      <td>[Panda, Express, was, on, point, tonight!, I, ...</td>\n",
              "      <td>63</td>\n",
              "      <td>334</td>\n",
              "      <td>28</td>\n",
              "      <td>0.444444</td>\n",
              "      <td>panda express was on point tonight i ordered t...</td>\n",
              "      <td>[panda, express, was, on, point, tonight, i, o...</td>\n",
              "    </tr>\n",
              "    <tr>\n",
              "      <th>1</th>\n",
              "      <td>The dude and I came to this Panda Express arou...</td>\n",
              "      <td>5 star rating</td>\n",
              "      <td>positive</td>\n",
              "      <td>[The, dude, and, I, came, to, this, Panda, Exp...</td>\n",
              "      <td>149</td>\n",
              "      <td>770</td>\n",
              "      <td>69</td>\n",
              "      <td>0.463087</td>\n",
              "      <td>the dude and i came to this panda express arou...</td>\n",
              "      <td>[the, dude, and, i, came, to, this, panda, exp...</td>\n",
              "    </tr>\n",
              "    <tr>\n",
              "      <th>2</th>\n",
              "      <td>I ordered 5 total plates , fried rice , chow m...</td>\n",
              "      <td>1 star rating</td>\n",
              "      <td>negative</td>\n",
              "      <td>[I, ordered, 5, total, plates, ,, fried, rice,...</td>\n",
              "      <td>30</td>\n",
              "      <td>154</td>\n",
              "      <td>8</td>\n",
              "      <td>0.266667</td>\n",
              "      <td>i ordered 5 total plates  fried rice  chow mai...</td>\n",
              "      <td>[i, ordered, 5, total, plates, fried, rice, ch...</td>\n",
              "    </tr>\n",
              "    <tr>\n",
              "      <th>3</th>\n",
              "      <td>I always order Panda Express from here and the...</td>\n",
              "      <td>3 star rating</td>\n",
              "      <td>neutral</td>\n",
              "      <td>[I, always, order, Panda, Express, from, here,...</td>\n",
              "      <td>122</td>\n",
              "      <td>634</td>\n",
              "      <td>57</td>\n",
              "      <td>0.467213</td>\n",
              "      <td>i always order panda express from here and the...</td>\n",
              "      <td>[i, always, order, panda, express, from, here,...</td>\n",
              "    </tr>\n",
              "    <tr>\n",
              "      <th>4</th>\n",
              "      <td>I've never had a bad experience here, I don't ...</td>\n",
              "      <td>4 star rating</td>\n",
              "      <td>positive</td>\n",
              "      <td>[I've, never, had, a, bad, experience, here,, ...</td>\n",
              "      <td>120</td>\n",
              "      <td>644</td>\n",
              "      <td>58</td>\n",
              "      <td>0.483333</td>\n",
              "      <td>ive never had a bad experience here i dont und...</td>\n",
              "      <td>[ive, never, had, a, bad, experience, here, i,...</td>\n",
              "    </tr>\n",
              "  </tbody>\n",
              "</table>\n",
              "</div>"
            ],
            "text/plain": [
              "                                             reviews  ...                             lowercase_reviews_list\n",
              "0  Panda Express was on point tonight! I ordered ...  ...  [panda, express, was, on, point, tonight, i, o...\n",
              "1  The dude and I came to this Panda Express arou...  ...  [the, dude, and, i, came, to, this, panda, exp...\n",
              "2  I ordered 5 total plates , fried rice , chow m...  ...  [i, ordered, 5, total, plates, fried, rice, ch...\n",
              "3  I always order Panda Express from here and the...  ...  [i, always, order, panda, express, from, here,...\n",
              "4  I've never had a bad experience here, I don't ...  ...  [ive, never, had, a, bad, experience, here, i,...\n",
              "\n",
              "[5 rows x 10 columns]"
            ]
          },
          "metadata": {
            "tags": []
          },
          "execution_count": 237
        }
      ]
    },
    {
      "cell_type": "code",
      "metadata": {
        "id": "mchHZzv9UQ4M",
        "colab_type": "code",
        "colab": {}
      },
      "source": [
        "# remove any words has length more than 10\n",
        "def remove_length10_word(word_list):\n",
        "  \"\"\"remove any words have length more than 10\n",
        "  \"\"\"\n",
        "  final_list =[]\n",
        "  for word in word_list:\n",
        "    if len(word)<10:\n",
        "      final_list.append(word)\n",
        "  \n",
        "  return final_list\n",
        "\n",
        "assert remove_length10_word([\"qwertfdfrwed\",\"dfd\",\"ddd\",\"dddddddddfdfdfddf\"])==[\"dfd\",\"ddd\"]\n"
      ],
      "execution_count": 238,
      "outputs": []
    },
    {
      "cell_type": "code",
      "metadata": {
        "id": "lpguNsOhXd5Q",
        "colab_type": "code",
        "colab": {
          "base_uri": "https://localhost:8080/",
          "height": 221
        },
        "outputId": "cfd79dfa-5efd-4150-ebcc-2070e42851ba"
      },
      "source": [
        "# store new review as lowercase_reviews after remove length greater than 10 words and join together\n",
        "reviews[\"lowercase_reviews\"] = reviews[\"lowercase_reviews_list\"].apply(lambda x: \" \".join(remove_length10_word(x)))"
      ],
      "execution_count": 246,
      "outputs": [
        {
          "output_type": "execute_result",
          "data": {
            "text/plain": [
              "0        panda express was on point tonight i ordered t...\n",
              "1        the dude and i came to this panda express arou...\n",
              "2        i ordered 5 total plates fried rice chow main ...\n",
              "3        i always order panda express from here and the...\n",
              "4        ive never had a bad here i dont why its only 2...\n",
              "                               ...                        \n",
              "19516    food was alright upset they dont have changing...\n",
              "19517    i just had a party for 30 people and i was so ...\n",
              "19518    these people said they were open at midnight a...\n",
              "19519    its pandex chow mien kung pau and orange chick...\n",
              "19520    this one star review is because they give you ...\n",
              "Name: lowercase_reviews_list, Length: 19521, dtype: object"
            ]
          },
          "metadata": {
            "tags": []
          },
          "execution_count": 246
        }
      ]
    },
    {
      "cell_type": "code",
      "metadata": {
        "id": "c00WJypaaCF0",
        "colab_type": "code",
        "colab": {}
      },
      "source": [
        "# look at average length of each word in each review\n",
        "def average_word_length(word_list)->int:\n",
        "    \"\"\"calculate the average word length in each review\n",
        "    \"\"\"\n",
        "    word_length = []\n",
        "    for word in word_list.split(): \n",
        "        word_length.append(len(word))\n",
        "    return np.mean(word_length)\n",
        "\n",
        "assert average_word_length(\"tests are hard\")==4\n"
      ],
      "execution_count": 248,
      "outputs": []
    },
    {
      "cell_type": "code",
      "metadata": {
        "id": "UcydFxsiYjDB",
        "colab_type": "code",
        "colab": {
          "base_uri": "https://localhost:8080/",
          "height": 442
        },
        "outputId": "8658e9f6-d7d8-40b4-b81b-18cce6f4f69e"
      },
      "source": [
        "# calculate average word length\n",
        "reviews[\"average_word_length\"] = reviews[\"lowercase_reviews\"].apply(average_word_length)\n",
        "reviews.head()"
      ],
      "execution_count": 249,
      "outputs": [
        {
          "output_type": "execute_result",
          "data": {
            "text/html": [
              "<div>\n",
              "<style scoped>\n",
              "    .dataframe tbody tr th:only-of-type {\n",
              "        vertical-align: middle;\n",
              "    }\n",
              "\n",
              "    .dataframe tbody tr th {\n",
              "        vertical-align: top;\n",
              "    }\n",
              "\n",
              "    .dataframe thead th {\n",
              "        text-align: right;\n",
              "    }\n",
              "</style>\n",
              "<table border=\"1\" class=\"dataframe\">\n",
              "  <thead>\n",
              "    <tr style=\"text-align: right;\">\n",
              "      <th></th>\n",
              "      <th>reviews</th>\n",
              "      <th>rating</th>\n",
              "      <th>rating_reduced</th>\n",
              "      <th>word_list</th>\n",
              "      <th>word_count</th>\n",
              "      <th>char_count</th>\n",
              "      <th>stop_word_count</th>\n",
              "      <th>stop_word_percent</th>\n",
              "      <th>lowercase_reviews</th>\n",
              "      <th>lowercase_reviews_list</th>\n",
              "      <th>average_word_length</th>\n",
              "      <th>clean_reviews</th>\n",
              "    </tr>\n",
              "  </thead>\n",
              "  <tbody>\n",
              "    <tr>\n",
              "      <th>0</th>\n",
              "      <td>Panda Express was on point tonight! I ordered ...</td>\n",
              "      <td>5 star rating</td>\n",
              "      <td>positive</td>\n",
              "      <td>[Panda, Express, was, on, point, tonight!, I, ...</td>\n",
              "      <td>63</td>\n",
              "      <td>334</td>\n",
              "      <td>28</td>\n",
              "      <td>0.444444</td>\n",
              "      <td>panda express was on point tonight i ordered t...</td>\n",
              "      <td>[panda, express, was, on, point, tonight, i, o...</td>\n",
              "      <td>4.032258</td>\n",
              "      <td>panda express point tonight ordered mobile app...</td>\n",
              "    </tr>\n",
              "    <tr>\n",
              "      <th>1</th>\n",
              "      <td>The dude and I came to this Panda Express arou...</td>\n",
              "      <td>5 star rating</td>\n",
              "      <td>positive</td>\n",
              "      <td>[The, dude, and, I, came, to, this, Panda, Exp...</td>\n",
              "      <td>149</td>\n",
              "      <td>770</td>\n",
              "      <td>69</td>\n",
              "      <td>0.463087</td>\n",
              "      <td>the dude and i came to this panda express arou...</td>\n",
              "      <td>[the, dude, and, i, came, to, this, panda, exp...</td>\n",
              "      <td>3.952055</td>\n",
              "      <td>dude came panda express around end july 2020 h...</td>\n",
              "    </tr>\n",
              "    <tr>\n",
              "      <th>2</th>\n",
              "      <td>I ordered 5 total plates , fried rice , chow m...</td>\n",
              "      <td>1 star rating</td>\n",
              "      <td>negative</td>\n",
              "      <td>[I, ordered, 5, total, plates, ,, fried, rice,...</td>\n",
              "      <td>30</td>\n",
              "      <td>154</td>\n",
              "      <td>8</td>\n",
              "      <td>0.266667</td>\n",
              "      <td>i ordered 5 total plates fried rice chow main ...</td>\n",
              "      <td>[i, ordered, 5, total, plates, fried, rice, ch...</td>\n",
              "      <td>4.407407</td>\n",
              "      <td>ordered 5 total plates fried rice chow main do...</td>\n",
              "    </tr>\n",
              "    <tr>\n",
              "      <th>3</th>\n",
              "      <td>I always order Panda Express from here and the...</td>\n",
              "      <td>3 star rating</td>\n",
              "      <td>neutral</td>\n",
              "      <td>[I, always, order, Panda, Express, from, here,...</td>\n",
              "      <td>122</td>\n",
              "      <td>634</td>\n",
              "      <td>57</td>\n",
              "      <td>0.467213</td>\n",
              "      <td>i always order panda express from here and the...</td>\n",
              "      <td>[i, always, order, panda, express, from, here,...</td>\n",
              "      <td>4.008333</td>\n",
              "      <td>always order panda express problem ever place ...</td>\n",
              "    </tr>\n",
              "    <tr>\n",
              "      <th>4</th>\n",
              "      <td>I've never had a bad experience here, I don't ...</td>\n",
              "      <td>4 star rating</td>\n",
              "      <td>positive</td>\n",
              "      <td>[I've, never, had, a, bad, experience, here,, ...</td>\n",
              "      <td>120</td>\n",
              "      <td>644</td>\n",
              "      <td>58</td>\n",
              "      <td>0.483333</td>\n",
              "      <td>ive never had a bad here i dont why its only 2...</td>\n",
              "      <td>[ive, never, had, a, bad, experience, here, i,...</td>\n",
              "      <td>3.930435</td>\n",
              "      <td>ive never bad dont 212 stars reading reviews s...</td>\n",
              "    </tr>\n",
              "  </tbody>\n",
              "</table>\n",
              "</div>"
            ],
            "text/plain": [
              "                                             reviews  ...                                      clean_reviews\n",
              "0  Panda Express was on point tonight! I ordered ...  ...  panda express point tonight ordered mobile app...\n",
              "1  The dude and I came to this Panda Express arou...  ...  dude came panda express around end july 2020 h...\n",
              "2  I ordered 5 total plates , fried rice , chow m...  ...  ordered 5 total plates fried rice chow main do...\n",
              "3  I always order Panda Express from here and the...  ...  always order panda express problem ever place ...\n",
              "4  I've never had a bad experience here, I don't ...  ...  ive never bad dont 212 stars reading reviews s...\n",
              "\n",
              "[5 rows x 12 columns]"
            ]
          },
          "metadata": {
            "tags": []
          },
          "execution_count": 249
        }
      ]
    },
    {
      "cell_type": "code",
      "metadata": {
        "id": "hRG0k48k3tBV",
        "colab_type": "code",
        "colab": {
          "base_uri": "https://localhost:8080/",
          "height": 442
        },
        "outputId": "981fe08f-d1bf-4e61-9183-f96992929b7a"
      },
      "source": [
        "# remove stop words\n",
        "reviews[\"clean_reviews\"] = reviews[\"lowercase_reviews\"].apply(lambda x: \" \".join(word for word in x.split() if word not in stop_words))\n",
        "reviews.head()"
      ],
      "execution_count": 241,
      "outputs": [
        {
          "output_type": "execute_result",
          "data": {
            "text/html": [
              "<div>\n",
              "<style scoped>\n",
              "    .dataframe tbody tr th:only-of-type {\n",
              "        vertical-align: middle;\n",
              "    }\n",
              "\n",
              "    .dataframe tbody tr th {\n",
              "        vertical-align: top;\n",
              "    }\n",
              "\n",
              "    .dataframe thead th {\n",
              "        text-align: right;\n",
              "    }\n",
              "</style>\n",
              "<table border=\"1\" class=\"dataframe\">\n",
              "  <thead>\n",
              "    <tr style=\"text-align: right;\">\n",
              "      <th></th>\n",
              "      <th>reviews</th>\n",
              "      <th>rating</th>\n",
              "      <th>rating_reduced</th>\n",
              "      <th>word_list</th>\n",
              "      <th>word_count</th>\n",
              "      <th>char_count</th>\n",
              "      <th>stop_word_count</th>\n",
              "      <th>stop_word_percent</th>\n",
              "      <th>lowercase_reviews</th>\n",
              "      <th>lowercase_reviews_list</th>\n",
              "      <th>average_word_length</th>\n",
              "      <th>clean_reviews</th>\n",
              "    </tr>\n",
              "  </thead>\n",
              "  <tbody>\n",
              "    <tr>\n",
              "      <th>0</th>\n",
              "      <td>Panda Express was on point tonight! I ordered ...</td>\n",
              "      <td>5 star rating</td>\n",
              "      <td>positive</td>\n",
              "      <td>[Panda, Express, was, on, point, tonight!, I, ...</td>\n",
              "      <td>63</td>\n",
              "      <td>334</td>\n",
              "      <td>28</td>\n",
              "      <td>0.444444</td>\n",
              "      <td>panda express was on point tonight i ordered t...</td>\n",
              "      <td>[panda, express, was, on, point, tonight, i, o...</td>\n",
              "      <td>4.126984</td>\n",
              "      <td>panda express point tonight ordered mobile app...</td>\n",
              "    </tr>\n",
              "    <tr>\n",
              "      <th>1</th>\n",
              "      <td>The dude and I came to this Panda Express arou...</td>\n",
              "      <td>5 star rating</td>\n",
              "      <td>positive</td>\n",
              "      <td>[The, dude, and, I, came, to, this, Panda, Exp...</td>\n",
              "      <td>149</td>\n",
              "      <td>770</td>\n",
              "      <td>69</td>\n",
              "      <td>0.463087</td>\n",
              "      <td>the dude and i came to this panda express arou...</td>\n",
              "      <td>[the, dude, and, i, came, to, this, panda, exp...</td>\n",
              "      <td>4.080537</td>\n",
              "      <td>dude came panda express around end july 2020 h...</td>\n",
              "    </tr>\n",
              "    <tr>\n",
              "      <th>2</th>\n",
              "      <td>I ordered 5 total plates , fried rice , chow m...</td>\n",
              "      <td>1 star rating</td>\n",
              "      <td>negative</td>\n",
              "      <td>[I, ordered, 5, total, plates, ,, fried, rice,...</td>\n",
              "      <td>30</td>\n",
              "      <td>154</td>\n",
              "      <td>8</td>\n",
              "      <td>0.266667</td>\n",
              "      <td>i ordered 5 total plates fried rice chow main ...</td>\n",
              "      <td>[i, ordered, 5, total, plates, fried, rice, ch...</td>\n",
              "      <td>4.407407</td>\n",
              "      <td>ordered 5 total plates fried rice chow main do...</td>\n",
              "    </tr>\n",
              "    <tr>\n",
              "      <th>3</th>\n",
              "      <td>I always order Panda Express from here and the...</td>\n",
              "      <td>3 star rating</td>\n",
              "      <td>neutral</td>\n",
              "      <td>[I, always, order, Panda, Express, from, here,...</td>\n",
              "      <td>122</td>\n",
              "      <td>634</td>\n",
              "      <td>57</td>\n",
              "      <td>0.467213</td>\n",
              "      <td>i always order panda express from here and the...</td>\n",
              "      <td>[i, always, order, panda, express, from, here,...</td>\n",
              "      <td>4.106557</td>\n",
              "      <td>always order panda express problem ever place ...</td>\n",
              "    </tr>\n",
              "    <tr>\n",
              "      <th>4</th>\n",
              "      <td>I've never had a bad experience here, I don't ...</td>\n",
              "      <td>4 star rating</td>\n",
              "      <td>positive</td>\n",
              "      <td>[I've, never, had, a, bad, experience, here,, ...</td>\n",
              "      <td>120</td>\n",
              "      <td>644</td>\n",
              "      <td>58</td>\n",
              "      <td>0.483333</td>\n",
              "      <td>ive never had a bad here i dont why its only 2...</td>\n",
              "      <td>[ive, never, had, a, bad, experience, here, i,...</td>\n",
              "      <td>4.208333</td>\n",
              "      <td>ive never bad dont 212 stars reading reviews s...</td>\n",
              "    </tr>\n",
              "  </tbody>\n",
              "</table>\n",
              "</div>"
            ],
            "text/plain": [
              "                                             reviews  ...                                      clean_reviews\n",
              "0  Panda Express was on point tonight! I ordered ...  ...  panda express point tonight ordered mobile app...\n",
              "1  The dude and I came to this Panda Express arou...  ...  dude came panda express around end july 2020 h...\n",
              "2  I ordered 5 total plates , fried rice , chow m...  ...  ordered 5 total plates fried rice chow main do...\n",
              "3  I always order Panda Express from here and the...  ...  always order panda express problem ever place ...\n",
              "4  I've never had a bad experience here, I don't ...  ...  ive never bad dont 212 stars reading reviews s...\n",
              "\n",
              "[5 rows x 12 columns]"
            ]
          },
          "metadata": {
            "tags": []
          },
          "execution_count": 241
        }
      ]
    },
    {
      "cell_type": "code",
      "metadata": {
        "id": "HC7Pihf25PP5",
        "colab_type": "code",
        "colab": {
          "base_uri": "https://localhost:8080/",
          "height": 204
        },
        "outputId": "359ea8e9-776b-4478-c95e-be53a8a10128"
      },
      "source": [
        "# get final dataset\n",
        "final_dataset = reviews.iloc[:,[0,1,2,4,5,6,7,10,11]]\n",
        "final_dataset.head()"
      ],
      "execution_count": 252,
      "outputs": [
        {
          "output_type": "execute_result",
          "data": {
            "text/html": [
              "<div>\n",
              "<style scoped>\n",
              "    .dataframe tbody tr th:only-of-type {\n",
              "        vertical-align: middle;\n",
              "    }\n",
              "\n",
              "    .dataframe tbody tr th {\n",
              "        vertical-align: top;\n",
              "    }\n",
              "\n",
              "    .dataframe thead th {\n",
              "        text-align: right;\n",
              "    }\n",
              "</style>\n",
              "<table border=\"1\" class=\"dataframe\">\n",
              "  <thead>\n",
              "    <tr style=\"text-align: right;\">\n",
              "      <th></th>\n",
              "      <th>reviews</th>\n",
              "      <th>rating</th>\n",
              "      <th>rating_reduced</th>\n",
              "      <th>word_count</th>\n",
              "      <th>char_count</th>\n",
              "      <th>stop_word_count</th>\n",
              "      <th>stop_word_percent</th>\n",
              "      <th>average_word_length</th>\n",
              "      <th>clean_reviews</th>\n",
              "    </tr>\n",
              "  </thead>\n",
              "  <tbody>\n",
              "    <tr>\n",
              "      <th>0</th>\n",
              "      <td>Panda Express was on point tonight! I ordered ...</td>\n",
              "      <td>5 star rating</td>\n",
              "      <td>positive</td>\n",
              "      <td>63</td>\n",
              "      <td>334</td>\n",
              "      <td>28</td>\n",
              "      <td>0.444444</td>\n",
              "      <td>4.032258</td>\n",
              "      <td>panda express point tonight ordered mobile app...</td>\n",
              "    </tr>\n",
              "    <tr>\n",
              "      <th>1</th>\n",
              "      <td>The dude and I came to this Panda Express arou...</td>\n",
              "      <td>5 star rating</td>\n",
              "      <td>positive</td>\n",
              "      <td>149</td>\n",
              "      <td>770</td>\n",
              "      <td>69</td>\n",
              "      <td>0.463087</td>\n",
              "      <td>3.952055</td>\n",
              "      <td>dude came panda express around end july 2020 h...</td>\n",
              "    </tr>\n",
              "    <tr>\n",
              "      <th>2</th>\n",
              "      <td>I ordered 5 total plates , fried rice , chow m...</td>\n",
              "      <td>1 star rating</td>\n",
              "      <td>negative</td>\n",
              "      <td>30</td>\n",
              "      <td>154</td>\n",
              "      <td>8</td>\n",
              "      <td>0.266667</td>\n",
              "      <td>4.407407</td>\n",
              "      <td>ordered 5 total plates fried rice chow main do...</td>\n",
              "    </tr>\n",
              "    <tr>\n",
              "      <th>3</th>\n",
              "      <td>I always order Panda Express from here and the...</td>\n",
              "      <td>3 star rating</td>\n",
              "      <td>neutral</td>\n",
              "      <td>122</td>\n",
              "      <td>634</td>\n",
              "      <td>57</td>\n",
              "      <td>0.467213</td>\n",
              "      <td>4.008333</td>\n",
              "      <td>always order panda express problem ever place ...</td>\n",
              "    </tr>\n",
              "    <tr>\n",
              "      <th>4</th>\n",
              "      <td>I've never had a bad experience here, I don't ...</td>\n",
              "      <td>4 star rating</td>\n",
              "      <td>positive</td>\n",
              "      <td>120</td>\n",
              "      <td>644</td>\n",
              "      <td>58</td>\n",
              "      <td>0.483333</td>\n",
              "      <td>3.930435</td>\n",
              "      <td>ive never bad dont 212 stars reading reviews s...</td>\n",
              "    </tr>\n",
              "  </tbody>\n",
              "</table>\n",
              "</div>"
            ],
            "text/plain": [
              "                                             reviews  ...                                      clean_reviews\n",
              "0  Panda Express was on point tonight! I ordered ...  ...  panda express point tonight ordered mobile app...\n",
              "1  The dude and I came to this Panda Express arou...  ...  dude came panda express around end july 2020 h...\n",
              "2  I ordered 5 total plates , fried rice , chow m...  ...  ordered 5 total plates fried rice chow main do...\n",
              "3  I always order Panda Express from here and the...  ...  always order panda express problem ever place ...\n",
              "4  I've never had a bad experience here, I don't ...  ...  ive never bad dont 212 stars reading reviews s...\n",
              "\n",
              "[5 rows x 9 columns]"
            ]
          },
          "metadata": {
            "tags": []
          },
          "execution_count": 252
        }
      ]
    },
    {
      "cell_type": "markdown",
      "metadata": {
        "id": "o5jfqmSZO9aD",
        "colab_type": "text"
      },
      "source": [
        "### EDA on final_dataset"
      ]
    },
    {
      "cell_type": "code",
      "metadata": {
        "id": "fH5o54MEPEK4",
        "colab_type": "code",
        "colab": {
          "base_uri": "https://localhost:8080/",
          "height": 639
        },
        "outputId": "f416d187-b12e-4b1d-9f70-bb92b610d5f1"
      },
      "source": [
        "import seaborn as sns\n",
        "import matplotlib.pyplot as plt\n",
        "\n",
        "fig, ([ax1, ax2], [ax3, ax4]) = plt.subplots(2, 2,figsize = (20,10))\n",
        "sns.countplot(data = final_dataset, x=\"rating\", ax=ax1).set(title = \"count of reviews under each star category\")\n",
        "sns.distplot(final_dataset[\"word_count\"], ax = ax2).set(title = \"count of words in each reviews (before remvoing stop words\")\n",
        "sns.distplot(final_dataset[\"average_word_length\"], ax = ax3).set(title = \"average length of each words in each reviews (before remvoing stop words\")\n",
        "sns.distplot(final_dataset[\"stop_word_percent\"], ax = ax4).set(title = \"distribution of stopwords percentage in each review\")\n"
      ],
      "execution_count": 251,
      "outputs": [
        {
          "output_type": "execute_result",
          "data": {
            "text/plain": [
              "[Text(0.5, 1.0, 'distribution of stopwords percentage in each review')]"
            ]
          },
          "metadata": {
            "tags": []
          },
          "execution_count": 251
        },
        {
          "output_type": "display_data",
          "data": {
            "image/png": "[encoded data removed]",
            "text/plain": [
              "<Figure size 1440x720 with 4 Axes>"
            ]
          },
          "metadata": {
            "tags": [],
            "needs_background": "light"
          }
        }
      ]
    },
    {
      "cell_type": "markdown",
      "metadata": {
        "id": "AEpr0IecPnF3",
        "colab_type": "text"
      },
      "source": [
        "\n",
        "\n",
        "1.   We want to remove any word length greater than 10.\n",
        "2.   Data has too many 1 star review, which might impact the classification. \n",
        "3.   We will look at the relationship between sentiment and those variables after we do sentiment analysis. \n",
        "\n",
        "---\n",
        "\n",
        "\n",
        "\n"
      ]
    },
    {
      "cell_type": "markdown",
      "metadata": {
        "id": "Ao_i9sEs7iRx",
        "colab_type": "text"
      },
      "source": [
        "### Create TF dataset"
      ]
    },
    {
      "cell_type": "code",
      "metadata": {
        "id": "dwgvOBVoO2Jn",
        "colab_type": "code",
        "colab": {}
      },
      "source": [
        ""
      ],
      "execution_count": null,
      "outputs": []
    },
    {
      "cell_type": "code",
      "metadata": {
        "id": "AH_GvHKHQ_ln",
        "colab_type": "code",
        "colab": {
          "base_uri": "https://localhost:8080/",
          "height": 204
        },
        "outputId": "7d2edb1d-d8f3-4f97-f440-fd427983b0eb"
      },
      "source": [
        "temp_dataset = final_dataset[[\"clean_reviews\",\"rating_reduced\"]]\n",
        "temp_dataset.head()"
      ],
      "execution_count": 145,
      "outputs": [
        {
          "output_type": "execute_result",
          "data": {
            "text/html": [
              "<div>\n",
              "<style scoped>\n",
              "    .dataframe tbody tr th:only-of-type {\n",
              "        vertical-align: middle;\n",
              "    }\n",
              "\n",
              "    .dataframe tbody tr th {\n",
              "        vertical-align: top;\n",
              "    }\n",
              "\n",
              "    .dataframe thead th {\n",
              "        text-align: right;\n",
              "    }\n",
              "</style>\n",
              "<table border=\"1\" class=\"dataframe\">\n",
              "  <thead>\n",
              "    <tr style=\"text-align: right;\">\n",
              "      <th></th>\n",
              "      <th>clean_reviews</th>\n",
              "      <th>rating_reduced</th>\n",
              "    </tr>\n",
              "  </thead>\n",
              "  <tbody>\n",
              "    <tr>\n",
              "      <th>0</th>\n",
              "      <td>panda express point tonight ordered mobile app...</td>\n",
              "      <td>positive</td>\n",
              "    </tr>\n",
              "    <tr>\n",
              "      <th>1</th>\n",
              "      <td>dude came panda express around end july 2020 h...</td>\n",
              "      <td>positive</td>\n",
              "    </tr>\n",
              "    <tr>\n",
              "      <th>2</th>\n",
              "      <td>ordered 5 total plates fried rice chow main do...</td>\n",
              "      <td>negative</td>\n",
              "    </tr>\n",
              "    <tr>\n",
              "      <th>3</th>\n",
              "      <td>always order panda express problem ever place ...</td>\n",
              "      <td>neutral</td>\n",
              "    </tr>\n",
              "    <tr>\n",
              "      <th>4</th>\n",
              "      <td>ive never bad experience dont understand 212 s...</td>\n",
              "      <td>positive</td>\n",
              "    </tr>\n",
              "  </tbody>\n",
              "</table>\n",
              "</div>"
            ],
            "text/plain": [
              "                                       clean_reviews rating_reduced\n",
              "0  panda express point tonight ordered mobile app...       positive\n",
              "1  dude came panda express around end july 2020 h...       positive\n",
              "2  ordered 5 total plates fried rice chow main do...       negative\n",
              "3  always order panda express problem ever place ...        neutral\n",
              "4  ive never bad experience dont understand 212 s...       positive"
            ]
          },
          "metadata": {
            "tags": []
          },
          "execution_count": 145
        }
      ]
    },
    {
      "cell_type": "code",
      "metadata": {
        "id": "M-j8AQFaY2oi",
        "colab_type": "code",
        "colab": {
          "base_uri": "https://localhost:8080/",
          "height": 34
        },
        "outputId": "0368335f-3bd2-4139-a094-ad611376fc04"
      },
      "source": [
        "# find out dataset size\n",
        "data_size = len(temp_dataset[\"clean_reviews\"])\n",
        "data_size"
      ],
      "execution_count": 146,
      "outputs": [
        {
          "output_type": "execute_result",
          "data": {
            "text/plain": [
              "19521"
            ]
          },
          "metadata": {
            "tags": []
          },
          "execution_count": 146
        }
      ]
    },
    {
      "cell_type": "code",
      "metadata": {
        "id": "311XFmC7X9ba",
        "colab_type": "code",
        "colab": {
          "base_uri": "https://localhost:8080/",
          "height": 136
        },
        "outputId": "b923abde-1ae0-4d92-d188-deda0b997294"
      },
      "source": [
        "# one hot-encoding\n",
        "from tensorflow.keras.utils import to_categorical\n",
        "from sklearn.preprocessing import LabelEncoder\n",
        "\n",
        "\n",
        "label_encoder = LabelEncoder()\n",
        "label_encoder.fit(temp_dataset[\"rating_reduced\"])\n",
        "encoded_y = label_encoder.transform(temp_dataset[\"rating_reduced\"])\n",
        "y_categorical = to_categorical(encoded_y)\n",
        "\n",
        "y_categorical"
      ],
      "execution_count": 147,
      "outputs": [
        {
          "output_type": "execute_result",
          "data": {
            "text/plain": [
              "array([[0., 0., 1.],\n",
              "       [0., 0., 1.],\n",
              "       [1., 0., 0.],\n",
              "       ...,\n",
              "       [1., 0., 0.],\n",
              "       [0., 0., 1.],\n",
              "       [1., 0., 0.]], dtype=float32)"
            ]
          },
          "metadata": {
            "tags": []
          },
          "execution_count": 147
        }
      ]
    },
    {
      "cell_type": "code",
      "metadata": {
        "id": "5FF6bP8aXLpV",
        "colab_type": "code",
        "colab": {}
      },
      "source": [
        "# change dataset to tf dataset\n",
        "import tensorflow as tf\n",
        "tf_dataset = tf.data.Dataset.from_tensor_slices(\n",
        "    (\n",
        "        tf.cast(temp_dataset[\"clean_reviews\"].values,tf.string), \n",
        "        tf.cast(y_categorical, tf.float64), \n",
        "    )\n",
        ")\n",
        "\n"
      ],
      "execution_count": 148,
      "outputs": []
    },
    {
      "cell_type": "code",
      "metadata": {
        "id": "ZI1gB1cNSUUQ",
        "colab_type": "code",
        "colab": {
          "base_uri": "https://localhost:8080/",
          "height": 119
        },
        "outputId": "033db23f-d759-4be5-9068-80024c1b080e"
      },
      "source": [
        "# example of tf dataset\n",
        "for X_batch, y_batch in tf_dataset.batch(2).take(1):\n",
        "    for review, label in zip(X_batch.numpy(), y_batch.numpy()):\n",
        "        print(\"Review:\", review.decode(\"utf-8\")[:200], \"...\")\n",
        "        print(\"Label:\", label)\n",
        "        print()"
      ],
      "execution_count": 150,
      "outputs": [
        {
          "output_type": "stream",
          "text": [
            "Review: panda express point tonight ordered mobile app picked order pick time ready time double checked order correct gave us extra utensils sauce food hot fresh superb customer service well best experience i ...\n",
            "Label: [0. 0. 1.]\n",
            "\n",
            "Review: dude came panda express around end july 2020 havent panda express use going inside lot panda drive thrus surprised stumbled upon one one usually go closed nightwe went drive thru quick process got pla ...\n",
            "Label: [0. 0. 1.]\n",
            "\n"
          ],
          "name": "stdout"
        }
      ]
    },
    {
      "cell_type": "code",
      "metadata": {
        "id": "Za_ZuAlT92ca",
        "colab_type": "code",
        "colab": {
          "base_uri": "https://localhost:8080/",
          "height": 297
        },
        "outputId": "392bf665-0554-458c-ca34-0515444ad5f8"
      },
      "source": [
        "# character of each reviews\n",
        "list_char = []\n",
        "list_reviews = temp_dataset[\"clean_reviews\"].apply(lambda x: x.split())\n",
        "for review in list_reviews:\n",
        "  char = []\n",
        "  for word in review:\n",
        "    char.append(len(word))\n",
        "  list_char.append(sum(char))\n",
        "\n",
        "pd.DataFrame(list_char).describe()"
      ],
      "execution_count": 151,
      "outputs": [
        {
          "output_type": "execute_result",
          "data": {
            "text/html": [
              "<div>\n",
              "<style scoped>\n",
              "    .dataframe tbody tr th:only-of-type {\n",
              "        vertical-align: middle;\n",
              "    }\n",
              "\n",
              "    .dataframe tbody tr th {\n",
              "        vertical-align: top;\n",
              "    }\n",
              "\n",
              "    .dataframe thead th {\n",
              "        text-align: right;\n",
              "    }\n",
              "</style>\n",
              "<table border=\"1\" class=\"dataframe\">\n",
              "  <thead>\n",
              "    <tr style=\"text-align: right;\">\n",
              "      <th></th>\n",
              "      <th>0</th>\n",
              "    </tr>\n",
              "  </thead>\n",
              "  <tbody>\n",
              "    <tr>\n",
              "      <th>count</th>\n",
              "      <td>19521.000000</td>\n",
              "    </tr>\n",
              "    <tr>\n",
              "      <th>mean</th>\n",
              "      <td>248.754828</td>\n",
              "    </tr>\n",
              "    <tr>\n",
              "      <th>std</th>\n",
              "      <td>206.006482</td>\n",
              "    </tr>\n",
              "    <tr>\n",
              "      <th>min</th>\n",
              "      <td>20.000000</td>\n",
              "    </tr>\n",
              "    <tr>\n",
              "      <th>25%</th>\n",
              "      <td>116.000000</td>\n",
              "    </tr>\n",
              "    <tr>\n",
              "      <th>50%</th>\n",
              "      <td>190.000000</td>\n",
              "    </tr>\n",
              "    <tr>\n",
              "      <th>75%</th>\n",
              "      <td>313.000000</td>\n",
              "    </tr>\n",
              "    <tr>\n",
              "      <th>max</th>\n",
              "      <td>2645.000000</td>\n",
              "    </tr>\n",
              "  </tbody>\n",
              "</table>\n",
              "</div>"
            ],
            "text/plain": [
              "                  0\n",
              "count  19521.000000\n",
              "mean     248.754828\n",
              "std      206.006482\n",
              "min       20.000000\n",
              "25%      116.000000\n",
              "50%      190.000000\n",
              "75%      313.000000\n",
              "max     2645.000000"
            ]
          },
          "metadata": {
            "tags": []
          },
          "execution_count": 151
        }
      ]
    },
    {
      "cell_type": "code",
      "metadata": {
        "id": "AoN2In7dSUPe",
        "colab_type": "code",
        "colab": {}
      },
      "source": [
        "# we will choose mean + one std as number of characters we want to look\n",
        "def preprocess(X_batch, y_batch):\n",
        "    X_batch = tf.strings.substr(X_batch, 0, 500)\n",
        "    X_batch = tf.strings.regex_replace(X_batch, rb\"<br\\s*/?>\", b\" \")\n",
        "    X_batch = tf.strings.regex_replace(X_batch, b\"[^a-zA-Z']\", b\" \")\n",
        "    X_batch = tf.strings.split(X_batch)\n",
        "    return X_batch.to_tensor(default_value=b\"<pad>\"), y_batch"
      ],
      "execution_count": 152,
      "outputs": []
    },
    {
      "cell_type": "code",
      "metadata": {
        "id": "2l3fVxRhS5xq",
        "colab_type": "code",
        "colab": {
          "base_uri": "https://localhost:8080/",
          "height": 561
        },
        "outputId": "36203817-e506-470d-daaa-69b116c7184f"
      },
      "source": [
        "preprocess(X_batch, y_batch)"
      ],
      "execution_count": 153,
      "outputs": [
        {
          "output_type": "execute_result",
          "data": {
            "text/plain": [
              "(<tf.Tensor: shape=(2, 79), dtype=string, numpy=\n",
              " array([[b'panda', b'express', b'point', b'tonight', b'ordered',\n",
              "         b'mobile', b'app', b'picked', b'order', b'pick', b'time',\n",
              "         b'ready', b'time', b'double', b'checked', b'order', b'correct',\n",
              "         b'gave', b'us', b'extra', b'utensils', b'sauce', b'food', b'hot',\n",
              "         b'fresh', b'superb', b'customer', b'service', b'well', b'best',\n",
              "         b'experience', b'ive', b'panda', b'express', b'<pad>', b'<pad>',\n",
              "         b'<pad>', b'<pad>', b'<pad>', b'<pad>', b'<pad>', b'<pad>',\n",
              "         b'<pad>', b'<pad>', b'<pad>', b'<pad>', b'<pad>', b'<pad>',\n",
              "         b'<pad>', b'<pad>', b'<pad>', b'<pad>', b'<pad>', b'<pad>',\n",
              "         b'<pad>', b'<pad>', b'<pad>', b'<pad>', b'<pad>', b'<pad>',\n",
              "         b'<pad>', b'<pad>', b'<pad>', b'<pad>', b'<pad>', b'<pad>',\n",
              "         b'<pad>', b'<pad>', b'<pad>', b'<pad>', b'<pad>', b'<pad>',\n",
              "         b'<pad>', b'<pad>', b'<pad>', b'<pad>', b'<pad>', b'<pad>',\n",
              "         b'<pad>'],\n",
              "        [b'dude', b'came', b'panda', b'express', b'around', b'end',\n",
              "         b'july', b'havent', b'panda', b'express', b'use', b'going',\n",
              "         b'inside', b'lot', b'panda', b'drive', b'thrus', b'surprised',\n",
              "         b'stumbled', b'upon', b'one', b'one', b'usually', b'go',\n",
              "         b'closed', b'nightwe', b'went', b'drive', b'thru', b'quick',\n",
              "         b'process', b'got', b'plate', b'super', b'greens', b'along',\n",
              "         b'honey', b'walnut', b'shrimp', b'kung', b'pao', b'chicken',\n",
              "         b'everything', b'delicious', b'dude', b'got', b'half', b'fried',\n",
              "         b'rice', b'half', b'chow', b'mein', b'orange', b'chicken',\n",
              "         b'fire', b'steak', b'new', b'said', b'steak', b'dish',\n",
              "         b'deliciouswe', b'wait', b'minutes', b'super', b'greens',\n",
              "         b'wasnt', b'long', b'wait', b'staff', b'friendly', b'remembered',\n",
              "         b'car', b'staff', b'wearing', b'face', b'masks', b'overall',\n",
              "         b'nice', b'location']], dtype=object)>,\n",
              " <tf.Tensor: shape=(2, 3), dtype=float64, numpy=\n",
              " array([[0., 0., 1.],\n",
              "        [0., 0., 1.]])>)"
            ]
          },
          "metadata": {
            "tags": []
          },
          "execution_count": 153
        }
      ]
    },
    {
      "cell_type": "code",
      "metadata": {
        "id": "hp0X6xJsS5vp",
        "colab_type": "code",
        "colab": {}
      },
      "source": [
        "from collections import Counter\n",
        "\n",
        "vocabulary = Counter()\n",
        "for X_batch, y_batch in tf_dataset.batch(32).map(preprocess):\n",
        "    for review in X_batch:\n",
        "        vocabulary.update(list(review.numpy()))"
      ],
      "execution_count": 154,
      "outputs": []
    },
    {
      "cell_type": "code",
      "metadata": {
        "id": "6TBzroFxS5sE",
        "colab_type": "code",
        "colab": {
          "base_uri": "https://localhost:8080/",
          "height": 34
        },
        "outputId": "80bbd9ff-57de-43b3-fdb7-458b1b0ebee4"
      },
      "source": [
        "# number of vocab\n",
        "len(vocabulary)"
      ],
      "execution_count": 155,
      "outputs": [
        {
          "output_type": "execute_result",
          "data": {
            "text/plain": [
              "26879"
            ]
          },
          "metadata": {
            "tags": []
          },
          "execution_count": 155
        }
      ]
    },
    {
      "cell_type": "code",
      "metadata": {
        "id": "HqpRnAGsS5qC",
        "colab_type": "code",
        "colab": {}
      },
      "source": [
        "# vocab_size can be a parameter to be tunned\n",
        "vocab_size = 15000\n",
        "truncated_vocabulary = [\n",
        "    word for word, count in vocabulary.most_common()[:vocab_size]]\n"
      ],
      "execution_count": 156,
      "outputs": []
    },
    {
      "cell_type": "code",
      "metadata": {
        "id": "fdf_U90FS5md",
        "colab_type": "code",
        "colab": {
          "base_uri": "https://localhost:8080/",
          "height": 102
        },
        "outputId": "c4290bb7-de86-4cb1-e142-d126b488936b"
      },
      "source": [
        "# example of relevant or irrentlant word in numbers\n",
        "word_to_id = {word: index for index, word in enumerate(truncated_vocabulary)}\n",
        "for word in b\"I like orange chicken patchouli\".split():\n",
        "    print(word_to_id.get(word) or vocab_size)"
      ],
      "execution_count": 157,
      "outputs": [
        {
          "output_type": "stream",
          "text": [
            "15000\n",
            "9\n",
            "20\n",
            "3\n",
            "15000\n"
          ],
          "name": "stdout"
        }
      ]
    },
    {
      "cell_type": "code",
      "metadata": {
        "id": "pH-x05CaS5ka",
        "colab_type": "code",
        "colab": {}
      },
      "source": [
        "words = tf.constant(truncated_vocabulary)\n",
        "word_ids = tf.range(len(truncated_vocabulary), dtype=tf.int64)\n",
        "vocab_init = tf.lookup.KeyValueTensorInitializer(words, word_ids)\n",
        "num_oov_buckets = 1000\n",
        "table = tf.lookup.StaticVocabularyTable(vocab_init, num_oov_buckets)\n"
      ],
      "execution_count": 158,
      "outputs": []
    },
    {
      "cell_type": "markdown",
      "metadata": {
        "id": "8XQKkDFk83AT",
        "colab_type": "text"
      },
      "source": [
        "### Create training and testing tf_dataset"
      ]
    },
    {
      "cell_type": "code",
      "metadata": {
        "id": "qkB9tcLjbDw6",
        "colab_type": "code",
        "colab": {}
      },
      "source": [
        "# create train and test size\n",
        "train_size = int(.7*data_size)\n",
        "test_size = int(.3*data_size)"
      ],
      "execution_count": 160,
      "outputs": []
    },
    {
      "cell_type": "code",
      "metadata": {
        "id": "A1mJzhu1VeYg",
        "colab_type": "code",
        "colab": {}
      },
      "source": [
        "# create train and test, and we take 32 reviews per batch\n",
        "def encode_words(X_batch, y_batch):\n",
        "    return table.lookup(X_batch), y_batch\n",
        "\n",
        "train_set = tf_dataset.take(train_size).repeat().batch(32).map(preprocess)\n",
        "train_set = train_set.map(encode_words).prefetch(1)\n",
        "\n",
        "test_set = tf_dataset.skip(train_size).repeat().batch(32).map(preprocess)\n",
        "test_set = test_set.map(encode_words).prefetch(1)\n"
      ],
      "execution_count": 163,
      "outputs": []
    },
    {
      "cell_type": "code",
      "metadata": {
        "id": "Odl5sd-UVeUk",
        "colab_type": "code",
        "colab": {
          "base_uri": "https://localhost:8080/",
          "height": 714
        },
        "outputId": "8cd417a1-4c8c-4e7b-96b6-43595160c83d"
      },
      "source": [
        "for X_batch, y_batch in train_set.take(1):\n",
        "    print(X_batch)\n",
        "    print(y_batch)\n",
        "    "
      ],
      "execution_count": 164,
      "outputs": [
        {
          "output_type": "stream",
          "text": [
            "tf.Tensor(\n",
            "[[   2    6  341 ...    0    0    0]\n",
            " [1701   68    2 ...  371   82   12]\n",
            " [  21  570  302 ...    0    0    0]\n",
            " ...\n",
            " [  14   41    1 ...    0    0    0]\n",
            " [  67    1  298 ...    0    0    0]\n",
            " [ 606    9 4495 ...    0    0    0]], shape=(32, 79), dtype=int64)\n",
            "tf.Tensor(\n",
            "[[0. 0. 1.]\n",
            " [0. 0. 1.]\n",
            " [1. 0. 0.]\n",
            " [0. 1. 0.]\n",
            " [0. 0. 1.]\n",
            " [0. 0. 1.]\n",
            " [1. 0. 0.]\n",
            " [1. 0. 0.]\n",
            " [1. 0. 0.]\n",
            " [1. 0. 0.]\n",
            " [1. 0. 0.]\n",
            " [1. 0. 0.]\n",
            " [1. 0. 0.]\n",
            " [1. 0. 0.]\n",
            " [0. 0. 1.]\n",
            " [1. 0. 0.]\n",
            " [1. 0. 0.]\n",
            " [0. 0. 1.]\n",
            " [1. 0. 0.]\n",
            " [1. 0. 0.]\n",
            " [0. 0. 1.]\n",
            " [1. 0. 0.]\n",
            " [0. 1. 0.]\n",
            " [0. 0. 1.]\n",
            " [0. 0. 1.]\n",
            " [0. 0. 1.]\n",
            " [0. 0. 1.]\n",
            " [1. 0. 0.]\n",
            " [0. 0. 1.]\n",
            " [0. 0. 1.]\n",
            " [0. 0. 1.]\n",
            " [1. 0. 0.]], shape=(32, 3), dtype=float64)\n"
          ],
          "name": "stdout"
        }
      ]
    },
    {
      "cell_type": "code",
      "metadata": {
        "id": "N4e8EGvtWkaf",
        "colab_type": "code",
        "colab": {}
      },
      "source": [
        "train_size = int(.7*data_size)\n",
        "test_size = int(.3*data_size)\n",
        "\n",
        "train_dataset = tf_dataset.take(train_size)\n",
        "test_dataset = tf_dataset.skip(train_size)\n"
      ],
      "execution_count": 165,
      "outputs": []
    },
    {
      "cell_type": "markdown",
      "metadata": {
        "id": "ydARcQTd9PN3",
        "colab_type": "text"
      },
      "source": [
        "### Fit the deep learning model"
      ]
    },
    {
      "cell_type": "code",
      "metadata": {
        "id": "tggpTgd9Vnb7",
        "colab_type": "code",
        "colab": {}
      },
      "source": [
        "embed_size = 128\n",
        "model = tf.keras.models.Sequential([\n",
        "    tf.keras.layers.Embedding(vocab_size + num_oov_buckets, embed_size,\n",
        "                           mask_zero=True, \n",
        "                           input_shape=[None]),\n",
        "    tf.keras.layers.LSTM(128, return_sequences=True),\n",
        "    tf.keras.layers.LSTM(128),\n",
        "    tf.keras.layers.Dense(3, activation=\"softmax\")\n",
        "])\n",
        "\n"
      ],
      "execution_count": 176,
      "outputs": []
    },
    {
      "cell_type": "code",
      "metadata": {
        "id": "QLN_fsDQeEvC",
        "colab_type": "code",
        "colab": {}
      },
      "source": [
        "from tensorflow import keras\n",
        "from tensorflow.keras import layers\n",
        "adam = keras.optimizers.Adam(lr = 0.001)\n"
      ],
      "execution_count": 177,
      "outputs": []
    },
    {
      "cell_type": "code",
      "metadata": {
        "id": "587jwAGfd-6k",
        "colab_type": "code",
        "colab": {}
      },
      "source": [
        "model.compile(loss=\"categorical_crossentropy\", optimizer=adam, metrics=[\"accuracy\"])\n"
      ],
      "execution_count": 178,
      "outputs": []
    },
    {
      "cell_type": "code",
      "metadata": {
        "id": "FNgvIO2Hb1MV",
        "colab_type": "code",
        "colab": {
          "base_uri": "https://localhost:8080/",
          "height": 153
        },
        "outputId": "f9605070-3995-43e3-83bd-7805063c8067"
      },
      "source": [
        "history = model.fit(train_set, steps_per_epoch=train_size // 32, epochs=4, validation_data= test_set, validation_steps=test_size//32)\n"
      ],
      "execution_count": 180,
      "outputs": [
        {
          "output_type": "stream",
          "text": [
            "Epoch 1/4\n",
            "427/427 [==============================] - 164s 384ms/step - loss: 0.1480 - accuracy: 0.9497 - val_loss: 0.7817 - val_accuracy: 0.7584\n",
            "Epoch 2/4\n",
            "427/427 [==============================] - 164s 384ms/step - loss: 0.1029 - accuracy: 0.9653 - val_loss: 1.0456 - val_accuracy: 0.7382\n",
            "Epoch 3/4\n",
            "427/427 [==============================] - 166s 389ms/step - loss: 0.0859 - accuracy: 0.9714 - val_loss: 1.0302 - val_accuracy: 0.7423\n",
            "Epoch 4/4\n",
            "427/427 [==============================] - 164s 384ms/step - loss: 0.0641 - accuracy: 0.9798 - val_loss: 1.1471 - val_accuracy: 0.7382\n"
          ],
          "name": "stdout"
        }
      ]
    },
    {
      "cell_type": "markdown",
      "metadata": {
        "id": "tN4glGDcHmuN",
        "colab_type": "text"
      },
      "source": [
        "### Sentiment Analysis"
      ]
    },
    {
      "cell_type": "code",
      "metadata": {
        "id": "lF9qDe34HpWe",
        "colab_type": "code",
        "colab": {
          "base_uri": "https://localhost:8080/",
          "height": 204
        },
        "outputId": "d4482d5e-4bca-4192-f408-a0fffe2c9c43"
      },
      "source": [
        "final_dataset.head()"
      ],
      "execution_count": 253,
      "outputs": [
        {
          "output_type": "execute_result",
          "data": {
            "text/html": [
              "<div>\n",
              "<style scoped>\n",
              "    .dataframe tbody tr th:only-of-type {\n",
              "        vertical-align: middle;\n",
              "    }\n",
              "\n",
              "    .dataframe tbody tr th {\n",
              "        vertical-align: top;\n",
              "    }\n",
              "\n",
              "    .dataframe thead th {\n",
              "        text-align: right;\n",
              "    }\n",
              "</style>\n",
              "<table border=\"1\" class=\"dataframe\">\n",
              "  <thead>\n",
              "    <tr style=\"text-align: right;\">\n",
              "      <th></th>\n",
              "      <th>reviews</th>\n",
              "      <th>rating</th>\n",
              "      <th>rating_reduced</th>\n",
              "      <th>word_count</th>\n",
              "      <th>char_count</th>\n",
              "      <th>stop_word_count</th>\n",
              "      <th>stop_word_percent</th>\n",
              "      <th>average_word_length</th>\n",
              "      <th>clean_reviews</th>\n",
              "    </tr>\n",
              "  </thead>\n",
              "  <tbody>\n",
              "    <tr>\n",
              "      <th>0</th>\n",
              "      <td>Panda Express was on point tonight! I ordered ...</td>\n",
              "      <td>5 star rating</td>\n",
              "      <td>positive</td>\n",
              "      <td>63</td>\n",
              "      <td>334</td>\n",
              "      <td>28</td>\n",
              "      <td>0.444444</td>\n",
              "      <td>4.032258</td>\n",
              "      <td>panda express point tonight ordered mobile app...</td>\n",
              "    </tr>\n",
              "    <tr>\n",
              "      <th>1</th>\n",
              "      <td>The dude and I came to this Panda Express arou...</td>\n",
              "      <td>5 star rating</td>\n",
              "      <td>positive</td>\n",
              "      <td>149</td>\n",
              "      <td>770</td>\n",
              "      <td>69</td>\n",
              "      <td>0.463087</td>\n",
              "      <td>3.952055</td>\n",
              "      <td>dude came panda express around end july 2020 h...</td>\n",
              "    </tr>\n",
              "    <tr>\n",
              "      <th>2</th>\n",
              "      <td>I ordered 5 total plates , fried rice , chow m...</td>\n",
              "      <td>1 star rating</td>\n",
              "      <td>negative</td>\n",
              "      <td>30</td>\n",
              "      <td>154</td>\n",
              "      <td>8</td>\n",
              "      <td>0.266667</td>\n",
              "      <td>4.407407</td>\n",
              "      <td>ordered 5 total plates fried rice chow main do...</td>\n",
              "    </tr>\n",
              "    <tr>\n",
              "      <th>3</th>\n",
              "      <td>I always order Panda Express from here and the...</td>\n",
              "      <td>3 star rating</td>\n",
              "      <td>neutral</td>\n",
              "      <td>122</td>\n",
              "      <td>634</td>\n",
              "      <td>57</td>\n",
              "      <td>0.467213</td>\n",
              "      <td>4.008333</td>\n",
              "      <td>always order panda express problem ever place ...</td>\n",
              "    </tr>\n",
              "    <tr>\n",
              "      <th>4</th>\n",
              "      <td>I've never had a bad experience here, I don't ...</td>\n",
              "      <td>4 star rating</td>\n",
              "      <td>positive</td>\n",
              "      <td>120</td>\n",
              "      <td>644</td>\n",
              "      <td>58</td>\n",
              "      <td>0.483333</td>\n",
              "      <td>3.930435</td>\n",
              "      <td>ive never bad dont 212 stars reading reviews s...</td>\n",
              "    </tr>\n",
              "  </tbody>\n",
              "</table>\n",
              "</div>"
            ],
            "text/plain": [
              "                                             reviews  ...                                      clean_reviews\n",
              "0  Panda Express was on point tonight! I ordered ...  ...  panda express point tonight ordered mobile app...\n",
              "1  The dude and I came to this Panda Express arou...  ...  dude came panda express around end july 2020 h...\n",
              "2  I ordered 5 total plates , fried rice , chow m...  ...  ordered 5 total plates fried rice chow main do...\n",
              "3  I always order Panda Express from here and the...  ...  always order panda express problem ever place ...\n",
              "4  I've never had a bad experience here, I don't ...  ...  ive never bad dont 212 stars reading reviews s...\n",
              "\n",
              "[5 rows x 9 columns]"
            ]
          },
          "metadata": {
            "tags": []
          },
          "execution_count": 253
        }
      ]
    },
    {
      "cell_type": "markdown",
      "metadata": {
        "id": "oAjwpDqumKMR",
        "colab_type": "text"
      },
      "source": [
        "### Lemmatization"
      ]
    },
    {
      "cell_type": "code",
      "metadata": {
        "id": "NnwlwrsjHpdg",
        "colab_type": "code",
        "colab": {
          "base_uri": "https://localhost:8080/",
          "height": 68
        },
        "outputId": "24127ab9-3cbd-4d90-f358-0918c6b1465b"
      },
      "source": [
        "from textblob import Word, TextBlob\n",
        "nltk.download('wordnet')"
      ],
      "execution_count": 254,
      "outputs": [
        {
          "output_type": "stream",
          "text": [
            "[nltk_data] Downloading package wordnet to /root/nltk_data...\n",
            "[nltk_data]   Package wordnet is already up-to-date!\n"
          ],
          "name": "stdout"
        },
        {
          "output_type": "execute_result",
          "data": {
            "text/plain": [
              "True"
            ]
          },
          "metadata": {
            "tags": []
          },
          "execution_count": 254
        }
      ]
    },
    {
      "cell_type": "code",
      "metadata": {
        "id": "-WO3lbbEHphb",
        "colab_type": "code",
        "colab": {
          "base_uri": "https://localhost:8080/",
          "height": 391
        },
        "outputId": "3279f45f-dd57-4287-9592-aaaef6c50fb4"
      },
      "source": [
        "final_dataset[\"lemmatized\"] = final_dataset[\"clean_reviews\"].apply(lambda x: \" \".join(Word(word).lemmatize() for word in x.split()))\n",
        "final_dataset.head()"
      ],
      "execution_count": 255,
      "outputs": [
        {
          "output_type": "stream",
          "text": [
            "/usr/local/lib/python3.6/dist-packages/ipykernel_launcher.py:1: SettingWithCopyWarning: \n",
            "A value is trying to be set on a copy of a slice from a DataFrame.\n",
            "Try using .loc[row_indexer,col_indexer] = value instead\n",
            "\n",
            "See the caveats in the documentation: https://pandas.pydata.org/pandas-docs/stable/user_guide/indexing.html#returning-a-view-versus-a-copy\n",
            "  \"\"\"Entry point for launching an IPython kernel.\n"
          ],
          "name": "stderr"
        },
        {
          "output_type": "execute_result",
          "data": {
            "text/html": [
              "<div>\n",
              "<style scoped>\n",
              "    .dataframe tbody tr th:only-of-type {\n",
              "        vertical-align: middle;\n",
              "    }\n",
              "\n",
              "    .dataframe tbody tr th {\n",
              "        vertical-align: top;\n",
              "    }\n",
              "\n",
              "    .dataframe thead th {\n",
              "        text-align: right;\n",
              "    }\n",
              "</style>\n",
              "<table border=\"1\" class=\"dataframe\">\n",
              "  <thead>\n",
              "    <tr style=\"text-align: right;\">\n",
              "      <th></th>\n",
              "      <th>reviews</th>\n",
              "      <th>rating</th>\n",
              "      <th>rating_reduced</th>\n",
              "      <th>word_count</th>\n",
              "      <th>char_count</th>\n",
              "      <th>stop_word_count</th>\n",
              "      <th>stop_word_percent</th>\n",
              "      <th>average_word_length</th>\n",
              "      <th>clean_reviews</th>\n",
              "      <th>lemmatized</th>\n",
              "    </tr>\n",
              "  </thead>\n",
              "  <tbody>\n",
              "    <tr>\n",
              "      <th>0</th>\n",
              "      <td>Panda Express was on point tonight! I ordered ...</td>\n",
              "      <td>5 star rating</td>\n",
              "      <td>positive</td>\n",
              "      <td>63</td>\n",
              "      <td>334</td>\n",
              "      <td>28</td>\n",
              "      <td>0.444444</td>\n",
              "      <td>4.032258</td>\n",
              "      <td>panda express point tonight ordered mobile app...</td>\n",
              "      <td>panda express point tonight ordered mobile app...</td>\n",
              "    </tr>\n",
              "    <tr>\n",
              "      <th>1</th>\n",
              "      <td>The dude and I came to this Panda Express arou...</td>\n",
              "      <td>5 star rating</td>\n",
              "      <td>positive</td>\n",
              "      <td>149</td>\n",
              "      <td>770</td>\n",
              "      <td>69</td>\n",
              "      <td>0.463087</td>\n",
              "      <td>3.952055</td>\n",
              "      <td>dude came panda express around end july 2020 h...</td>\n",
              "      <td>dude came panda express around end july 2020 h...</td>\n",
              "    </tr>\n",
              "    <tr>\n",
              "      <th>2</th>\n",
              "      <td>I ordered 5 total plates , fried rice , chow m...</td>\n",
              "      <td>1 star rating</td>\n",
              "      <td>negative</td>\n",
              "      <td>30</td>\n",
              "      <td>154</td>\n",
              "      <td>8</td>\n",
              "      <td>0.266667</td>\n",
              "      <td>4.407407</td>\n",
              "      <td>ordered 5 total plates fried rice chow main do...</td>\n",
              "      <td>ordered 5 total plate fried rice chow main dou...</td>\n",
              "    </tr>\n",
              "    <tr>\n",
              "      <th>3</th>\n",
              "      <td>I always order Panda Express from here and the...</td>\n",
              "      <td>3 star rating</td>\n",
              "      <td>neutral</td>\n",
              "      <td>122</td>\n",
              "      <td>634</td>\n",
              "      <td>57</td>\n",
              "      <td>0.467213</td>\n",
              "      <td>4.008333</td>\n",
              "      <td>always order panda express problem ever place ...</td>\n",
              "      <td>always order panda express problem ever place ...</td>\n",
              "    </tr>\n",
              "    <tr>\n",
              "      <th>4</th>\n",
              "      <td>I've never had a bad experience here, I don't ...</td>\n",
              "      <td>4 star rating</td>\n",
              "      <td>positive</td>\n",
              "      <td>120</td>\n",
              "      <td>644</td>\n",
              "      <td>58</td>\n",
              "      <td>0.483333</td>\n",
              "      <td>3.930435</td>\n",
              "      <td>ive never bad dont 212 stars reading reviews s...</td>\n",
              "      <td>ive never bad dont 212 star reading review see...</td>\n",
              "    </tr>\n",
              "  </tbody>\n",
              "</table>\n",
              "</div>"
            ],
            "text/plain": [
              "                                             reviews  ...                                         lemmatized\n",
              "0  Panda Express was on point tonight! I ordered ...  ...  panda express point tonight ordered mobile app...\n",
              "1  The dude and I came to this Panda Express arou...  ...  dude came panda express around end july 2020 h...\n",
              "2  I ordered 5 total plates , fried rice , chow m...  ...  ordered 5 total plate fried rice chow main dou...\n",
              "3  I always order Panda Express from here and the...  ...  always order panda express problem ever place ...\n",
              "4  I've never had a bad experience here, I don't ...  ...  ive never bad dont 212 star reading review see...\n",
              "\n",
              "[5 rows x 10 columns]"
            ]
          },
          "metadata": {
            "tags": []
          },
          "execution_count": 255
        }
      ]
    },
    {
      "cell_type": "code",
      "metadata": {
        "id": "tj7Kxu9lHpkl",
        "colab_type": "code",
        "colab": {
          "base_uri": "https://localhost:8080/",
          "height": 391
        },
        "outputId": "85fce3aa-5a80-4f54-9245-9da5ee5ead6a"
      },
      "source": [
        "# tuple, first number if polarity, second number of subjectivity\n",
        "final_dataset[\"polarity\"] = final_dataset[\"lemmatized\"].apply(lambda x: TextBlob(x).sentiment[0])\n",
        "final_dataset[\"subjecitivity\"] = final_dataset[\"lemmatized\"].apply(lambda x: TextBlob(x).sentiment[1])\n",
        "final_dataset.head()\n"
      ],
      "execution_count": 256,
      "outputs": [
        {
          "output_type": "stream",
          "text": [
            "/usr/local/lib/python3.6/dist-packages/ipykernel_launcher.py:2: SettingWithCopyWarning: \n",
            "A value is trying to be set on a copy of a slice from a DataFrame.\n",
            "Try using .loc[row_indexer,col_indexer] = value instead\n",
            "\n",
            "See the caveats in the documentation: https://pandas.pydata.org/pandas-docs/stable/user_guide/indexing.html#returning-a-view-versus-a-copy\n",
            "  \n"
          ],
          "name": "stderr"
        },
        {
          "output_type": "execute_result",
          "data": {
            "text/html": [
              "<div>\n",
              "<style scoped>\n",
              "    .dataframe tbody tr th:only-of-type {\n",
              "        vertical-align: middle;\n",
              "    }\n",
              "\n",
              "    .dataframe tbody tr th {\n",
              "        vertical-align: top;\n",
              "    }\n",
              "\n",
              "    .dataframe thead th {\n",
              "        text-align: right;\n",
              "    }\n",
              "</style>\n",
              "<table border=\"1\" class=\"dataframe\">\n",
              "  <thead>\n",
              "    <tr style=\"text-align: right;\">\n",
              "      <th></th>\n",
              "      <th>reviews</th>\n",
              "      <th>rating</th>\n",
              "      <th>rating_reduced</th>\n",
              "      <th>word_count</th>\n",
              "      <th>char_count</th>\n",
              "      <th>stop_word_count</th>\n",
              "      <th>stop_word_percent</th>\n",
              "      <th>average_word_length</th>\n",
              "      <th>clean_reviews</th>\n",
              "      <th>lemmatized</th>\n",
              "      <th>polarity</th>\n",
              "      <th>subjecitivity</th>\n",
              "    </tr>\n",
              "  </thead>\n",
              "  <tbody>\n",
              "    <tr>\n",
              "      <th>0</th>\n",
              "      <td>Panda Express was on point tonight! I ordered ...</td>\n",
              "      <td>5 star rating</td>\n",
              "      <td>positive</td>\n",
              "      <td>63</td>\n",
              "      <td>334</td>\n",
              "      <td>28</td>\n",
              "      <td>0.444444</td>\n",
              "      <td>4.032258</td>\n",
              "      <td>panda express point tonight ordered mobile app...</td>\n",
              "      <td>panda express point tonight ordered mobile app...</td>\n",
              "      <td>0.392857</td>\n",
              "      <td>0.464286</td>\n",
              "    </tr>\n",
              "    <tr>\n",
              "      <th>1</th>\n",
              "      <td>The dude and I came to this Panda Express arou...</td>\n",
              "      <td>5 star rating</td>\n",
              "      <td>positive</td>\n",
              "      <td>149</td>\n",
              "      <td>770</td>\n",
              "      <td>69</td>\n",
              "      <td>0.463087</td>\n",
              "      <td>3.952055</td>\n",
              "      <td>dude came panda express around end july 2020 h...</td>\n",
              "      <td>dude came panda express around end july 2020 h...</td>\n",
              "      <td>0.066355</td>\n",
              "      <td>0.530660</td>\n",
              "    </tr>\n",
              "    <tr>\n",
              "      <th>2</th>\n",
              "      <td>I ordered 5 total plates , fried rice , chow m...</td>\n",
              "      <td>1 star rating</td>\n",
              "      <td>negative</td>\n",
              "      <td>30</td>\n",
              "      <td>154</td>\n",
              "      <td>8</td>\n",
              "      <td>0.266667</td>\n",
              "      <td>4.407407</td>\n",
              "      <td>ordered 5 total plates fried rice chow main do...</td>\n",
              "      <td>ordered 5 total plate fried rice chow main dou...</td>\n",
              "      <td>-0.108333</td>\n",
              "      <td>0.508333</td>\n",
              "    </tr>\n",
              "    <tr>\n",
              "      <th>3</th>\n",
              "      <td>I always order Panda Express from here and the...</td>\n",
              "      <td>3 star rating</td>\n",
              "      <td>neutral</td>\n",
              "      <td>122</td>\n",
              "      <td>634</td>\n",
              "      <td>57</td>\n",
              "      <td>0.467213</td>\n",
              "      <td>4.008333</td>\n",
              "      <td>always order panda express problem ever place ...</td>\n",
              "      <td>always order panda express problem ever place ...</td>\n",
              "      <td>-0.264000</td>\n",
              "      <td>0.584000</td>\n",
              "    </tr>\n",
              "    <tr>\n",
              "      <th>4</th>\n",
              "      <td>I've never had a bad experience here, I don't ...</td>\n",
              "      <td>4 star rating</td>\n",
              "      <td>positive</td>\n",
              "      <td>120</td>\n",
              "      <td>644</td>\n",
              "      <td>58</td>\n",
              "      <td>0.483333</td>\n",
              "      <td>3.930435</td>\n",
              "      <td>ive never bad dont 212 stars reading reviews s...</td>\n",
              "      <td>ive never bad dont 212 star reading review see...</td>\n",
              "      <td>0.305833</td>\n",
              "      <td>0.458095</td>\n",
              "    </tr>\n",
              "  </tbody>\n",
              "</table>\n",
              "</div>"
            ],
            "text/plain": [
              "                                             reviews  ... subjecitivity\n",
              "0  Panda Express was on point tonight! I ordered ...  ...      0.464286\n",
              "1  The dude and I came to this Panda Express arou...  ...      0.530660\n",
              "2  I ordered 5 total plates , fried rice , chow m...  ...      0.508333\n",
              "3  I always order Panda Express from here and the...  ...      0.584000\n",
              "4  I've never had a bad experience here, I don't ...  ...      0.458095\n",
              "\n",
              "[5 rows x 12 columns]"
            ]
          },
          "metadata": {
            "tags": []
          },
          "execution_count": 256
        }
      ]
    },
    {
      "cell_type": "code",
      "metadata": {
        "id": "dAoKdqhHnqY-",
        "colab_type": "code",
        "colab": {
          "base_uri": "https://localhost:8080/",
          "height": 350
        },
        "outputId": "537e33c1-1b9f-4154-f2de-dc77e120d5ee"
      },
      "source": [
        "fig, (ax1, ax2) = plt.subplots(1, 2,figsize = (10,5))\n",
        "sns.distplot(final_dataset[\"polarity\"], ax = ax1).set(title = \"Distribution of polarity\")\n",
        "sns.distplot(final_dataset[\"subjecitivity\"], ax = ax2).set(title = \"Distribution of subjecitivity\")\n",
        "plt.show()"
      ],
      "execution_count": 262,
      "outputs": [
        {
          "output_type": "display_data",
          "data": {
            "image/png": "[encoded data removed]",
            "text/plain": [
              "<Figure size 720x360 with 2 Axes>"
            ]
          },
          "metadata": {
            "tags": [],
            "needs_background": "light"
          }
        }
      ]
    },
    {
      "cell_type": "code",
      "metadata": {
        "id": "92-25cecnqR6",
        "colab_type": "code",
        "colab": {
          "base_uri": "https://localhost:8080/",
          "height": 334
        },
        "outputId": "ea86f863-fa3e-4403-cc1c-e840a8fcdd43"
      },
      "source": [
        "fig, (ax1, ax2) = plt.subplots(1, 2,figsize = (15,5))\n",
        "\n",
        "label_order = [\"1 star rating\", \"2 star rating\",\"3 star rating\",\"4 star rating\",\"5 star rating\"]\n",
        "sns.barplot(data = final_dataset, x = \"rating\", y = \"polarity\", order = label_order, ax= ax1)\n",
        "sns.barplot(data = final_dataset, x = \"rating\", y = \"subjecitivity\", order = label_order, ax= ax2)\n",
        "plt.show()"
      ],
      "execution_count": 267,
      "outputs": [
        {
          "output_type": "display_data",
          "data": {
            "image/png": "[encoded data removed]",
            "text/plain": [
              "<Figure size 1080x360 with 2 Axes>"
            ]
          },
          "metadata": {
            "tags": [],
            "needs_background": "light"
          }
        }
      ]
    },
    {
      "cell_type": "code",
      "metadata": {
        "id": "41nIjt-_cKDS",
        "colab_type": "code",
        "colab": {
          "base_uri": "https://localhost:8080/",
          "height": 334
        },
        "outputId": "036cef81-2ac2-439f-ce4c-6d381d09b3f6"
      },
      "source": [
        "fig, (ax1, ax2) = plt.subplots(1, 2,figsize = (15,5))\n",
        "\n",
        "sns.boxplot(data = final_dataset, x = \"rating\", y = \"polarity\", order = label_order, ax = ax1)\n",
        "sns.boxplot(data = final_dataset, x = \"rating\", y = \"subjecitivity\", order = label_order, ax = ax2)\n",
        "plt.show()"
      ],
      "execution_count": 271,
      "outputs": [
        {
          "output_type": "display_data",
          "data": {
            "image/png": "[encoded data removed]",
            "text/plain": [
              "<Figure size 1080x360 with 2 Axes>"
            ]
          },
          "metadata": {
            "tags": [],
            "needs_background": "light"
          }
        }
      ]
    },
    {
      "cell_type": "code",
      "metadata": {
        "id": "7pkH7Xf3cKGs",
        "colab_type": "code",
        "colab": {
          "base_uri": "https://localhost:8080/",
          "height": 296
        },
        "outputId": "ad43a284-1d3d-4e31-b03d-d77b12eeb304"
      },
      "source": [
        "sns.scatterplot(data = final_dataset, x = \"polarity\", y = \"word_count\")"
      ],
      "execution_count": 272,
      "outputs": [
        {
          "output_type": "execute_result",
          "data": {
            "text/plain": [
              "<matplotlib.axes._subplots.AxesSubplot at 0x7fdae4cd7f60>"
            ]
          },
          "metadata": {
            "tags": []
          },
          "execution_count": 272
        },
        {
          "output_type": "display_data",
          "data": {
            "image/png": "[encoded data removed]",
            "text/plain": [
              "<Figure size 432x288 with 1 Axes>"
            ]
          },
          "metadata": {
            "tags": [],
            "needs_background": "light"
          }
        }
      ]
    },
    {
      "cell_type": "code",
      "metadata": {
        "id": "I11kN86IcKKh",
        "colab_type": "code",
        "colab": {
          "base_uri": "https://localhost:8080/",
          "height": 296
        },
        "outputId": "99517e46-5613-4813-d974-19692922ff0d"
      },
      "source": [
        "sns.scatterplot(data = final_dataset, x = \"polarity\", y = \"stop_word_percent\")"
      ],
      "execution_count": 274,
      "outputs": [
        {
          "output_type": "execute_result",
          "data": {
            "text/plain": [
              "<matplotlib.axes._subplots.AxesSubplot at 0x7fdae550ee10>"
            ]
          },
          "metadata": {
            "tags": []
          },
          "execution_count": 274
        },
        {
          "output_type": "display_data",
          "data": {
            "image/png": "[encoded data removed]",
            "text/plain": [
              "<Figure size 432x288 with 1 Axes>"
            ]
          },
          "metadata": {
            "tags": [],
            "needs_background": "light"
          }
        }
      ]
    },
    {
      "cell_type": "markdown",
      "metadata": {
        "id": "vLgBswRCXMTC",
        "colab_type": "text"
      },
      "source": [
        "### Tokenize clean_reviews"
      ]
    },
    {
      "cell_type": "code",
      "metadata": {
        "id": "TSyNS8eDXQ4Q",
        "colab_type": "code",
        "colab": {
          "base_uri": "https://localhost:8080/",
          "height": 306
        },
        "outputId": "4e512b3f-a1f9-44e7-96bd-c5e120da3797"
      },
      "source": [
        "# tokenize the data\n",
        "from keras.preprocessing.text import Tokenizer\n",
        "from sklearn.feature_extraction.text import HashingVectorizer, TfidfVectorizer\n",
        "\n",
        "# tokenize\n",
        "tokenizer = Tokenizer(num_words = 29656, lower= True)\n",
        "tokenizer.fit_on_texts(final_dataset[\"clean_reviews\"])\n",
        "final_dataset[\"clean_reviews\"] = tokenizer.texts_to_sequences(final_dataset[\"clean_reviews\"])\n",
        "\n",
        "vocab_size = len(tokenizer.word_index)+1\n",
        "final_dataset.head()"
      ],
      "execution_count": null,
      "outputs": [
        {
          "output_type": "stream",
          "text": [
            "/usr/local/lib/python3.6/dist-packages/ipykernel_launcher.py:8: SettingWithCopyWarning: \n",
            "A value is trying to be set on a copy of a slice from a DataFrame.\n",
            "Try using .loc[row_indexer,col_indexer] = value instead\n",
            "\n",
            "See the caveats in the documentation: https://pandas.pydata.org/pandas-docs/stable/user_guide/indexing.html#returning-a-view-versus-a-copy\n",
            "  \n"
          ],
          "name": "stderr"
        },
        {
          "output_type": "execute_result",
          "data": {
            "text/html": [
              "<div>\n",
              "<style scoped>\n",
              "    .dataframe tbody tr th:only-of-type {\n",
              "        vertical-align: middle;\n",
              "    }\n",
              "\n",
              "    .dataframe tbody tr th {\n",
              "        vertical-align: top;\n",
              "    }\n",
              "\n",
              "    .dataframe thead th {\n",
              "        text-align: right;\n",
              "    }\n",
              "</style>\n",
              "<table border=\"1\" class=\"dataframe\">\n",
              "  <thead>\n",
              "    <tr style=\"text-align: right;\">\n",
              "      <th></th>\n",
              "      <th>rating</th>\n",
              "      <th>word_count</th>\n",
              "      <th>char_count</th>\n",
              "      <th>average_word_length</th>\n",
              "      <th>stop_word_percent</th>\n",
              "      <th>clean_reviews</th>\n",
              "    </tr>\n",
              "  </thead>\n",
              "  <tbody>\n",
              "    <tr>\n",
              "      <th>0</th>\n",
              "      <td>good</td>\n",
              "      <td>63</td>\n",
              "      <td>334</td>\n",
              "      <td>4.253968</td>\n",
              "      <td>0.444444</td>\n",
              "      <td>[315, 330, 18, 1219, 468, 570, 2, 133, 3, 90, ...</td>\n",
              "    </tr>\n",
              "    <tr>\n",
              "      <th>1</th>\n",
              "      <td>good</td>\n",
              "      <td>149</td>\n",
              "      <td>770</td>\n",
              "      <td>4.167785</td>\n",
              "      <td>0.463087</td>\n",
              "      <td>[1731, 64, 97, 430, 2079, 2284, 510, 290, 45, ...</td>\n",
              "    </tr>\n",
              "    <tr>\n",
              "      <th>2</th>\n",
              "      <td>bad</td>\n",
              "      <td>28</td>\n",
              "      <td>151</td>\n",
              "      <td>4.357143</td>\n",
              "      <td>0.285714</td>\n",
              "      <td>[18, 116, 555, 314, 51, 10, 39, 427, 629, 17, ...</td>\n",
              "    </tr>\n",
              "    <tr>\n",
              "      <th>3</th>\n",
              "      <td>descent</td>\n",
              "      <td>122</td>\n",
              "      <td>628</td>\n",
              "      <td>4.155738</td>\n",
              "      <td>0.483607</td>\n",
              "      <td>[14, 2, 284, 72, 12, 2, 58, 127, 91, 101, 121,...</td>\n",
              "    </tr>\n",
              "    <tr>\n",
              "      <th>4</th>\n",
              "      <td>good</td>\n",
              "      <td>41</td>\n",
              "      <td>261</td>\n",
              "      <td>5.390244</td>\n",
              "      <td>0.195122</td>\n",
              "      <td>[219, 122, 6374, 7, 12393, 992, 2805, 94, 212,...</td>\n",
              "    </tr>\n",
              "  </tbody>\n",
              "</table>\n",
              "</div>"
            ],
            "text/plain": [
              "    rating  ...                                      clean_reviews\n",
              "0     good  ...  [315, 330, 18, 1219, 468, 570, 2, 133, 3, 90, ...\n",
              "1     good  ...  [1731, 64, 97, 430, 2079, 2284, 510, 290, 45, ...\n",
              "2      bad  ...  [18, 116, 555, 314, 51, 10, 39, 427, 629, 17, ...\n",
              "3  descent  ...  [14, 2, 284, 72, 12, 2, 58, 127, 91, 101, 121,...\n",
              "4     good  ...  [219, 122, 6374, 7, 12393, 992, 2805, 94, 212,...\n",
              "\n",
              "[5 rows x 6 columns]"
            ]
          },
          "metadata": {
            "tags": []
          },
          "execution_count": 241
        }
      ]
    },
    {
      "cell_type": "code",
      "metadata": {
        "id": "obDB1dsOIPWz",
        "colab_type": "code",
        "colab": {}
      },
      "source": [
        "final_dataset[\"clean_reviews\"]"
      ],
      "execution_count": null,
      "outputs": []
    },
    {
      "cell_type": "markdown",
      "metadata": {
        "id": "yIodh5Hi6arT",
        "colab_type": "text"
      },
      "source": [
        "### Creating Training and Testing dataset"
      ]
    },
    {
      "cell_type": "code",
      "metadata": {
        "id": "s3_aZuEKl-Jt",
        "colab_type": "code",
        "colab": {
          "base_uri": "https://localhost:8080/",
          "height": 85
        },
        "outputId": "ce205b4d-af7f-4a4c-dc58-50f442b24003"
      },
      "source": [
        "# separate train, test dataset\n",
        "from sklearn.model_selection import train_test_split\n",
        "X_train, X_test, X_aux_train, X_aux_test, y_train, y_test = train_test_split(final_dataset[\"clean_reviews\"], final_dataset[\"stop_word_percent\"], final_dataset[\"rating\"], test_size = 0.3, random_state = 42)\n",
        "print(f\"Shape of X_train: {X_train.shape}\")\n",
        "print(f\"Shape of X_test: {X_test.shape}\")\n",
        "print(f\"Shape of y_train: {y_train.shape}\")\n",
        "print(f\"Shape of y_test: {y_test.shape}\")\n"
      ],
      "execution_count": null,
      "outputs": [
        {
          "output_type": "stream",
          "text": [
            "Shape of X_train: (12334,)\n",
            "Shape of X_test: (5286,)\n",
            "Shape of y_train: (12334,)\n",
            "Shape of y_test: (5286,)\n"
          ],
          "name": "stdout"
        }
      ]
    },
    {
      "cell_type": "code",
      "metadata": {
        "id": "2LpTS8pEhM5G",
        "colab_type": "code",
        "colab": {
          "base_uri": "https://localhost:8080/",
          "height": 34
        },
        "outputId": "e1b8452b-ff06-481e-b566-8fbbba53332e"
      },
      "source": [
        "X_aux_test.shape"
      ],
      "execution_count": null,
      "outputs": [
        {
          "output_type": "execute_result",
          "data": {
            "text/plain": [
              "(5286,)"
            ]
          },
          "metadata": {
            "tags": []
          },
          "execution_count": 89
        }
      ]
    },
    {
      "cell_type": "markdown",
      "metadata": {
        "id": "rTO9w5nEYQQc",
        "colab_type": "text"
      },
      "source": [
        "### Scale the data and create one-hot-encoding for rating column"
      ]
    },
    {
      "cell_type": "code",
      "metadata": {
        "id": "eilB0YSRYPe3",
        "colab_type": "code",
        "colab": {}
      },
      "source": [
        "from sklearn.preprocessing import LabelEncoder, MinMaxScaler\n",
        "from tensorflow.keras.utils import to_categorical"
      ],
      "execution_count": null,
      "outputs": []
    },
    {
      "cell_type": "code",
      "metadata": {
        "id": "n2feDyvSYPid",
        "colab_type": "code",
        "colab": {}
      },
      "source": [
        "label_encoder = LabelEncoder()\n",
        "label_encoder.fit(y_train)\n",
        "encoded_y_train = label_encoder.transform(y_train)\n",
        "encoded_y_test = label_encoder.transform(y_test)\n",
        "\n",
        "y_train_categorical = to_categorical(encoded_y_train)\n",
        "y_test_categorical = to_categorical(encoded_y_test)"
      ],
      "execution_count": null,
      "outputs": []
    },
    {
      "cell_type": "code",
      "metadata": {
        "id": "tpbeu2YH7Y1s",
        "colab_type": "code",
        "colab": {}
      },
      "source": [
        "# create padding\n",
        "from keras_preprocessing.sequence import pad_sequences\n",
        "maxlen = max(final_dataset[\"clean_reviews\"].apply(lambda x: len(x)))\n",
        "\n",
        "X_train = pad_sequences(X_train, padding=\"post\", maxlen=maxlen)\n",
        "X_test = pad_sequences(X_test, padding=\"post\", maxlen=maxlen)\n"
      ],
      "execution_count": null,
      "outputs": []
    },
    {
      "cell_type": "code",
      "metadata": {
        "id": "sCI0_F9piDjv",
        "colab_type": "code",
        "colab": {}
      },
      "source": [
        "from keras.layers import Dense, Dropout, Activation, SimpleRNN, LSTM, Embedding, GRU"
      ],
      "execution_count": null,
      "outputs": []
    },
    {
      "cell_type": "code",
      "metadata": {
        "id": "lxOHdRFvKSub",
        "colab_type": "code",
        "colab": {
          "base_uri": "https://localhost:8080/",
          "height": 34
        },
        "outputId": "a51805d7-5d5d-4375-c2e8-a535b67d806f"
      },
      "source": [
        "maxlen"
      ],
      "execution_count": null,
      "outputs": [
        {
          "output_type": "execute_result",
          "data": {
            "text/plain": [
              "423"
            ]
          },
          "metadata": {
            "tags": []
          },
          "execution_count": 248
        }
      ]
    },
    {
      "cell_type": "code",
      "metadata": {
        "id": "P4Whyouv9R3c",
        "colab_type": "code",
        "colab": {
          "base_uri": "https://localhost:8080/",
          "height": 68
        },
        "outputId": "28118b99-4239-467b-957f-898ebac6aba5"
      },
      "source": [
        "# reshape the data\n",
        "# from keras.models import Sequential\n",
        "# from keras.layers import Dense, Dropout, Activation, SimpleRNN, LSTM\n",
        "# from keras import optimizers\n",
        "# from keras.preprocessing.sequence import pad_sequences\n",
        "\n",
        "# X_train = np.array(X_train).reshape((X_train.shape[0], X_train.shape[1],1))\n",
        "# X_test = np.array(X_test).reshape((X_test.shape[0], X_test.shape[1],1))\n",
        "# X_aux_train = np.array(X_aux_train).reshape((X_aux_train.shape[0],1))\n",
        "# X_aux_test = np.array(X_aux_test).reshape((X_aux_test.shape[0],1))\n",
        "\n",
        "\n",
        "# print(X_train.shape)\n",
        "# print(X_test.shape)\n",
        "# print(X_aux_train.shape)\n"
      ],
      "execution_count": null,
      "outputs": [
        {
          "output_type": "stream",
          "text": [
            "(12334, 303, 1)\n",
            "(5286, 303, 1)\n",
            "(12334, 1)\n"
          ],
          "name": "stdout"
        }
      ]
    },
    {
      "cell_type": "code",
      "metadata": {
        "id": "rTNmQCqUC0Ya",
        "colab_type": "code",
        "colab": {
          "base_uri": "https://localhost:8080/",
          "height": 68
        },
        "outputId": "e76417fe-94a6-47e0-aac2-855bd5a01160"
      },
      "source": [
        "# reshape the data\n",
        "from keras.models import Sequential\n",
        "from keras.layers import Dense, Dropout, Activation, SimpleRNN, LSTM\n",
        "from keras import optimizers\n",
        "from keras.preprocessing.sequence import pad_sequences\n",
        "\n",
        "X_train = np.array(X_train).reshape((X_train.shape[0], X_train.shape[1]))\n",
        "X_test = np.array(X_test).reshape((X_test.shape[0], X_test.shape[1]))\n",
        "X_aux_train = np.array(X_aux_train).reshape((X_aux_train.shape[0]))\n",
        "X_aux_test = np.array(X_aux_test).reshape((X_aux_test.shape[0]))\n",
        "\n",
        "\n",
        "print(X_train.shape)\n",
        "print(X_test.shape)\n",
        "print(X_aux_train.shape)"
      ],
      "execution_count": null,
      "outputs": [
        {
          "output_type": "stream",
          "text": [
            "(12334, 423)\n",
            "(5286, 423)\n",
            "(12334,)\n"
          ],
          "name": "stdout"
        }
      ]
    },
    {
      "cell_type": "markdown",
      "metadata": {
        "id": "FYPZ3qrG-aIS",
        "colab_type": "text"
      },
      "source": [
        "### Fit the RNN model"
      ]
    },
    {
      "cell_type": "code",
      "metadata": {
        "id": "uH4LY6vi-biC",
        "colab_type": "code",
        "colab": {}
      },
      "source": [
        "num_classes = 3\n",
        "\n",
        "def rnn_model():\n",
        "  model = Sequential(name = \"RNN_Model\")\n",
        "  model.add(Embedding(tokenizer.num_words, 128, input_shape = [None]))\n",
        "  model.add(LSTM(128, return_sequences=True))\n",
        "  model.add(LSTM(128, return_sequences=False))\n",
        "  model.add(Dense(num_classes, activation='softmax', name = \"output\"))\n",
        "  model.summary()\n",
        "\n",
        "  adam = optimizers.Adam(lr = 0.001)\n",
        "  model.compile(loss = \"categorical_crossentropy\", optimizer = adam, metrics = [\"accuracy\"])\n",
        "  return model"
      ],
      "execution_count": null,
      "outputs": []
    },
    {
      "cell_type": "code",
      "metadata": {
        "id": "Ph91mERKi6ba",
        "colab_type": "code",
        "colab": {}
      },
      "source": [
        "from keras.wrappers.scikit_learn import KerasClassifier\n",
        "model = KerasClassifier(build_fn = rnn_model, epochs = 20, batch_size = 16)\n"
      ],
      "execution_count": null,
      "outputs": []
    },
    {
      "cell_type": "code",
      "metadata": {
        "id": "M1LV_d3t_M7m",
        "colab_type": "code",
        "colab": {
          "base_uri": "https://localhost:8080/",
          "height": 613
        },
        "outputId": "fc431743-67a9-4a58-ef00-ed81b3241467"
      },
      "source": [
        "model.fit(X_train, y_train_categorical, validation_data = (X_test, y_test_categorical))"
      ],
      "execution_count": null,
      "outputs": [
        {
          "output_type": "stream",
          "text": [
            "Model: \"RNN_Model\"\n",
            "_________________________________________________________________\n",
            "Layer (type)                 Output Shape              Param #   \n",
            "=================================================================\n",
            "embedding_11 (Embedding)     (None, None, 128)         3795968   \n",
            "_________________________________________________________________\n",
            "lstm_23 (LSTM)               (None, None, 128)         131584    \n",
            "_________________________________________________________________\n",
            "lstm_24 (LSTM)               (None, 128)               131584    \n",
            "_________________________________________________________________\n",
            "output (Dense)               (None, 3)                 387       \n",
            "=================================================================\n",
            "Total params: 4,059,523\n",
            "Trainable params: 4,059,523\n",
            "Non-trainable params: 0\n",
            "_________________________________________________________________\n",
            "Epoch 1/20\n",
            "275/771 [=========>....................] - ETA: 7:13 - loss: 1.0725 - accuracy: 0.4489"
          ],
          "name": "stdout"
        },
        {
          "output_type": "error",
          "ename": "KeyboardInterrupt",
          "evalue": "ignored",
          "traceback": [
            "\u001b[0;31m---------------------------------------------------------------------------\u001b[0m",
            "\u001b[0;31mKeyboardInterrupt\u001b[0m                         Traceback (most recent call last)",
            "\u001b[0;32m<ipython-input-252-2335a970b5b9>\u001b[0m in \u001b[0;36m<module>\u001b[0;34m()\u001b[0m\n\u001b[0;32m----> 1\u001b[0;31m \u001b[0mmodel\u001b[0m\u001b[0;34m.\u001b[0m\u001b[0mfit\u001b[0m\u001b[0;34m(\u001b[0m\u001b[0mX_train\u001b[0m\u001b[0;34m,\u001b[0m \u001b[0my_train_categorical\u001b[0m\u001b[0;34m,\u001b[0m \u001b[0mvalidation_data\u001b[0m \u001b[0;34m=\u001b[0m \u001b[0;34m(\u001b[0m\u001b[0mX_test\u001b[0m\u001b[0;34m,\u001b[0m \u001b[0my_test_categorical\u001b[0m\u001b[0;34m)\u001b[0m\u001b[0;34m)\u001b[0m\u001b[0;34m\u001b[0m\u001b[0;34m\u001b[0m\u001b[0m\n\u001b[0m",
            "\u001b[0;32m/usr/local/lib/python3.6/dist-packages/tensorflow/python/keras/wrappers/scikit_learn.py\u001b[0m in \u001b[0;36mfit\u001b[0;34m(self, x, y, **kwargs)\u001b[0m\n\u001b[1;32m    221\u001b[0m       \u001b[0;32mraise\u001b[0m \u001b[0mValueError\u001b[0m\u001b[0;34m(\u001b[0m\u001b[0;34m'Invalid shape for y: '\u001b[0m \u001b[0;34m+\u001b[0m \u001b[0mstr\u001b[0m\u001b[0;34m(\u001b[0m\u001b[0my\u001b[0m\u001b[0;34m.\u001b[0m\u001b[0mshape\u001b[0m\u001b[0;34m)\u001b[0m\u001b[0;34m)\u001b[0m\u001b[0;34m\u001b[0m\u001b[0;34m\u001b[0m\u001b[0m\n\u001b[1;32m    222\u001b[0m     \u001b[0mself\u001b[0m\u001b[0;34m.\u001b[0m\u001b[0mn_classes_\u001b[0m \u001b[0;34m=\u001b[0m \u001b[0mlen\u001b[0m\u001b[0;34m(\u001b[0m\u001b[0mself\u001b[0m\u001b[0;34m.\u001b[0m\u001b[0mclasses_\u001b[0m\u001b[0;34m)\u001b[0m\u001b[0;34m\u001b[0m\u001b[0;34m\u001b[0m\u001b[0m\n\u001b[0;32m--> 223\u001b[0;31m     \u001b[0;32mreturn\u001b[0m \u001b[0msuper\u001b[0m\u001b[0;34m(\u001b[0m\u001b[0mKerasClassifier\u001b[0m\u001b[0;34m,\u001b[0m \u001b[0mself\u001b[0m\u001b[0;34m)\u001b[0m\u001b[0;34m.\u001b[0m\u001b[0mfit\u001b[0m\u001b[0;34m(\u001b[0m\u001b[0mx\u001b[0m\u001b[0;34m,\u001b[0m \u001b[0my\u001b[0m\u001b[0;34m,\u001b[0m \u001b[0;34m**\u001b[0m\u001b[0mkwargs\u001b[0m\u001b[0;34m)\u001b[0m\u001b[0;34m\u001b[0m\u001b[0;34m\u001b[0m\u001b[0m\n\u001b[0m\u001b[1;32m    224\u001b[0m \u001b[0;34m\u001b[0m\u001b[0m\n\u001b[1;32m    225\u001b[0m   \u001b[0;32mdef\u001b[0m \u001b[0mpredict\u001b[0m\u001b[0;34m(\u001b[0m\u001b[0mself\u001b[0m\u001b[0;34m,\u001b[0m \u001b[0mx\u001b[0m\u001b[0;34m,\u001b[0m \u001b[0;34m**\u001b[0m\u001b[0mkwargs\u001b[0m\u001b[0;34m)\u001b[0m\u001b[0;34m:\u001b[0m\u001b[0;34m\u001b[0m\u001b[0;34m\u001b[0m\u001b[0m\n",
            "\u001b[0;32m/usr/local/lib/python3.6/dist-packages/tensorflow/python/keras/wrappers/scikit_learn.py\u001b[0m in \u001b[0;36mfit\u001b[0;34m(self, x, y, **kwargs)\u001b[0m\n\u001b[1;32m    164\u001b[0m     \u001b[0mfit_args\u001b[0m\u001b[0;34m.\u001b[0m\u001b[0mupdate\u001b[0m\u001b[0;34m(\u001b[0m\u001b[0mkwargs\u001b[0m\u001b[0;34m)\u001b[0m\u001b[0;34m\u001b[0m\u001b[0;34m\u001b[0m\u001b[0m\n\u001b[1;32m    165\u001b[0m \u001b[0;34m\u001b[0m\u001b[0m\n\u001b[0;32m--> 166\u001b[0;31m     \u001b[0mhistory\u001b[0m \u001b[0;34m=\u001b[0m \u001b[0mself\u001b[0m\u001b[0;34m.\u001b[0m\u001b[0mmodel\u001b[0m\u001b[0;34m.\u001b[0m\u001b[0mfit\u001b[0m\u001b[0;34m(\u001b[0m\u001b[0mx\u001b[0m\u001b[0;34m,\u001b[0m \u001b[0my\u001b[0m\u001b[0;34m,\u001b[0m \u001b[0;34m**\u001b[0m\u001b[0mfit_args\u001b[0m\u001b[0;34m)\u001b[0m\u001b[0;34m\u001b[0m\u001b[0;34m\u001b[0m\u001b[0m\n\u001b[0m\u001b[1;32m    167\u001b[0m \u001b[0;34m\u001b[0m\u001b[0m\n\u001b[1;32m    168\u001b[0m     \u001b[0;32mreturn\u001b[0m \u001b[0mhistory\u001b[0m\u001b[0;34m\u001b[0m\u001b[0;34m\u001b[0m\u001b[0m\n",
            "\u001b[0;32m/usr/local/lib/python3.6/dist-packages/tensorflow/python/keras/engine/training.py\u001b[0m in \u001b[0;36m_method_wrapper\u001b[0;34m(self, *args, **kwargs)\u001b[0m\n\u001b[1;32m    106\u001b[0m   \u001b[0;32mdef\u001b[0m \u001b[0m_method_wrapper\u001b[0m\u001b[0;34m(\u001b[0m\u001b[0mself\u001b[0m\u001b[0;34m,\u001b[0m \u001b[0;34m*\u001b[0m\u001b[0margs\u001b[0m\u001b[0;34m,\u001b[0m \u001b[0;34m**\u001b[0m\u001b[0mkwargs\u001b[0m\u001b[0;34m)\u001b[0m\u001b[0;34m:\u001b[0m\u001b[0;34m\u001b[0m\u001b[0;34m\u001b[0m\u001b[0m\n\u001b[1;32m    107\u001b[0m     \u001b[0;32mif\u001b[0m \u001b[0;32mnot\u001b[0m \u001b[0mself\u001b[0m\u001b[0;34m.\u001b[0m\u001b[0m_in_multi_worker_mode\u001b[0m\u001b[0;34m(\u001b[0m\u001b[0;34m)\u001b[0m\u001b[0;34m:\u001b[0m  \u001b[0;31m# pylint: disable=protected-access\u001b[0m\u001b[0;34m\u001b[0m\u001b[0;34m\u001b[0m\u001b[0m\n\u001b[0;32m--> 108\u001b[0;31m       \u001b[0;32mreturn\u001b[0m \u001b[0mmethod\u001b[0m\u001b[0;34m(\u001b[0m\u001b[0mself\u001b[0m\u001b[0;34m,\u001b[0m \u001b[0;34m*\u001b[0m\u001b[0margs\u001b[0m\u001b[0;34m,\u001b[0m \u001b[0;34m**\u001b[0m\u001b[0mkwargs\u001b[0m\u001b[0;34m)\u001b[0m\u001b[0;34m\u001b[0m\u001b[0;34m\u001b[0m\u001b[0m\n\u001b[0m\u001b[1;32m    109\u001b[0m \u001b[0;34m\u001b[0m\u001b[0m\n\u001b[1;32m    110\u001b[0m     \u001b[0;31m# Running inside `run_distribute_coordinator` already.\u001b[0m\u001b[0;34m\u001b[0m\u001b[0;34m\u001b[0m\u001b[0;34m\u001b[0m\u001b[0m\n",
            "\u001b[0;32m/usr/local/lib/python3.6/dist-packages/tensorflow/python/keras/engine/training.py\u001b[0m in \u001b[0;36mfit\u001b[0;34m(self, x, y, batch_size, epochs, verbose, callbacks, validation_split, validation_data, shuffle, class_weight, sample_weight, initial_epoch, steps_per_epoch, validation_steps, validation_batch_size, validation_freq, max_queue_size, workers, use_multiprocessing)\u001b[0m\n\u001b[1;32m   1096\u001b[0m                 batch_size=batch_size):\n\u001b[1;32m   1097\u001b[0m               \u001b[0mcallbacks\u001b[0m\u001b[0;34m.\u001b[0m\u001b[0mon_train_batch_begin\u001b[0m\u001b[0;34m(\u001b[0m\u001b[0mstep\u001b[0m\u001b[0;34m)\u001b[0m\u001b[0;34m\u001b[0m\u001b[0;34m\u001b[0m\u001b[0m\n\u001b[0;32m-> 1098\u001b[0;31m               \u001b[0mtmp_logs\u001b[0m \u001b[0;34m=\u001b[0m \u001b[0mtrain_function\u001b[0m\u001b[0;34m(\u001b[0m\u001b[0miterator\u001b[0m\u001b[0;34m)\u001b[0m\u001b[0;34m\u001b[0m\u001b[0;34m\u001b[0m\u001b[0m\n\u001b[0m\u001b[1;32m   1099\u001b[0m               \u001b[0;32mif\u001b[0m \u001b[0mdata_handler\u001b[0m\u001b[0;34m.\u001b[0m\u001b[0mshould_sync\u001b[0m\u001b[0;34m:\u001b[0m\u001b[0;34m\u001b[0m\u001b[0;34m\u001b[0m\u001b[0m\n\u001b[1;32m   1100\u001b[0m                 \u001b[0mcontext\u001b[0m\u001b[0;34m.\u001b[0m\u001b[0masync_wait\u001b[0m\u001b[0;34m(\u001b[0m\u001b[0;34m)\u001b[0m\u001b[0;34m\u001b[0m\u001b[0;34m\u001b[0m\u001b[0m\n",
            "\u001b[0;32m/usr/local/lib/python3.6/dist-packages/tensorflow/python/eager/def_function.py\u001b[0m in \u001b[0;36m__call__\u001b[0;34m(self, *args, **kwds)\u001b[0m\n\u001b[1;32m    778\u001b[0m       \u001b[0;32melse\u001b[0m\u001b[0;34m:\u001b[0m\u001b[0;34m\u001b[0m\u001b[0;34m\u001b[0m\u001b[0m\n\u001b[1;32m    779\u001b[0m         \u001b[0mcompiler\u001b[0m \u001b[0;34m=\u001b[0m \u001b[0;34m\"nonXla\"\u001b[0m\u001b[0;34m\u001b[0m\u001b[0;34m\u001b[0m\u001b[0m\n\u001b[0;32m--> 780\u001b[0;31m         \u001b[0mresult\u001b[0m \u001b[0;34m=\u001b[0m \u001b[0mself\u001b[0m\u001b[0;34m.\u001b[0m\u001b[0m_call\u001b[0m\u001b[0;34m(\u001b[0m\u001b[0;34m*\u001b[0m\u001b[0margs\u001b[0m\u001b[0;34m,\u001b[0m \u001b[0;34m**\u001b[0m\u001b[0mkwds\u001b[0m\u001b[0;34m)\u001b[0m\u001b[0;34m\u001b[0m\u001b[0;34m\u001b[0m\u001b[0m\n\u001b[0m\u001b[1;32m    781\u001b[0m \u001b[0;34m\u001b[0m\u001b[0m\n\u001b[1;32m    782\u001b[0m       \u001b[0mnew_tracing_count\u001b[0m \u001b[0;34m=\u001b[0m \u001b[0mself\u001b[0m\u001b[0;34m.\u001b[0m\u001b[0m_get_tracing_count\u001b[0m\u001b[0;34m(\u001b[0m\u001b[0;34m)\u001b[0m\u001b[0;34m\u001b[0m\u001b[0;34m\u001b[0m\u001b[0m\n",
            "\u001b[0;32m/usr/local/lib/python3.6/dist-packages/tensorflow/python/eager/def_function.py\u001b[0m in \u001b[0;36m_call\u001b[0;34m(self, *args, **kwds)\u001b[0m\n\u001b[1;32m    805\u001b[0m       \u001b[0;31m# In this case we have created variables on the first call, so we run the\u001b[0m\u001b[0;34m\u001b[0m\u001b[0;34m\u001b[0m\u001b[0;34m\u001b[0m\u001b[0m\n\u001b[1;32m    806\u001b[0m       \u001b[0;31m# defunned version which is guaranteed to never create variables.\u001b[0m\u001b[0;34m\u001b[0m\u001b[0;34m\u001b[0m\u001b[0;34m\u001b[0m\u001b[0m\n\u001b[0;32m--> 807\u001b[0;31m       \u001b[0;32mreturn\u001b[0m \u001b[0mself\u001b[0m\u001b[0;34m.\u001b[0m\u001b[0m_stateless_fn\u001b[0m\u001b[0;34m(\u001b[0m\u001b[0;34m*\u001b[0m\u001b[0margs\u001b[0m\u001b[0;34m,\u001b[0m \u001b[0;34m**\u001b[0m\u001b[0mkwds\u001b[0m\u001b[0;34m)\u001b[0m  \u001b[0;31m# pylint: disable=not-callable\u001b[0m\u001b[0;34m\u001b[0m\u001b[0;34m\u001b[0m\u001b[0m\n\u001b[0m\u001b[1;32m    808\u001b[0m     \u001b[0;32melif\u001b[0m \u001b[0mself\u001b[0m\u001b[0;34m.\u001b[0m\u001b[0m_stateful_fn\u001b[0m \u001b[0;32mis\u001b[0m \u001b[0;32mnot\u001b[0m \u001b[0;32mNone\u001b[0m\u001b[0;34m:\u001b[0m\u001b[0;34m\u001b[0m\u001b[0;34m\u001b[0m\u001b[0m\n\u001b[1;32m    809\u001b[0m       \u001b[0;31m# Release the lock early so that multiple threads can perform the call\u001b[0m\u001b[0;34m\u001b[0m\u001b[0;34m\u001b[0m\u001b[0;34m\u001b[0m\u001b[0m\n",
            "\u001b[0;32m/usr/local/lib/python3.6/dist-packages/tensorflow/python/eager/function.py\u001b[0m in \u001b[0;36m__call__\u001b[0;34m(self, *args, **kwargs)\u001b[0m\n\u001b[1;32m   2827\u001b[0m     \u001b[0;32mwith\u001b[0m \u001b[0mself\u001b[0m\u001b[0;34m.\u001b[0m\u001b[0m_lock\u001b[0m\u001b[0;34m:\u001b[0m\u001b[0;34m\u001b[0m\u001b[0;34m\u001b[0m\u001b[0m\n\u001b[1;32m   2828\u001b[0m       \u001b[0mgraph_function\u001b[0m\u001b[0;34m,\u001b[0m \u001b[0margs\u001b[0m\u001b[0;34m,\u001b[0m \u001b[0mkwargs\u001b[0m \u001b[0;34m=\u001b[0m \u001b[0mself\u001b[0m\u001b[0;34m.\u001b[0m\u001b[0m_maybe_define_function\u001b[0m\u001b[0;34m(\u001b[0m\u001b[0margs\u001b[0m\u001b[0;34m,\u001b[0m \u001b[0mkwargs\u001b[0m\u001b[0;34m)\u001b[0m\u001b[0;34m\u001b[0m\u001b[0;34m\u001b[0m\u001b[0m\n\u001b[0;32m-> 2829\u001b[0;31m     \u001b[0;32mreturn\u001b[0m \u001b[0mgraph_function\u001b[0m\u001b[0;34m.\u001b[0m\u001b[0m_filtered_call\u001b[0m\u001b[0;34m(\u001b[0m\u001b[0margs\u001b[0m\u001b[0;34m,\u001b[0m \u001b[0mkwargs\u001b[0m\u001b[0;34m)\u001b[0m  \u001b[0;31m# pylint: disable=protected-access\u001b[0m\u001b[0;34m\u001b[0m\u001b[0;34m\u001b[0m\u001b[0m\n\u001b[0m\u001b[1;32m   2830\u001b[0m \u001b[0;34m\u001b[0m\u001b[0m\n\u001b[1;32m   2831\u001b[0m   \u001b[0;34m@\u001b[0m\u001b[0mproperty\u001b[0m\u001b[0;34m\u001b[0m\u001b[0;34m\u001b[0m\u001b[0m\n",
            "\u001b[0;32m/usr/local/lib/python3.6/dist-packages/tensorflow/python/eager/function.py\u001b[0m in \u001b[0;36m_filtered_call\u001b[0;34m(self, args, kwargs, cancellation_manager)\u001b[0m\n\u001b[1;32m   1846\u001b[0m                            resource_variable_ops.BaseResourceVariable))],\n\u001b[1;32m   1847\u001b[0m         \u001b[0mcaptured_inputs\u001b[0m\u001b[0;34m=\u001b[0m\u001b[0mself\u001b[0m\u001b[0;34m.\u001b[0m\u001b[0mcaptured_inputs\u001b[0m\u001b[0;34m,\u001b[0m\u001b[0;34m\u001b[0m\u001b[0;34m\u001b[0m\u001b[0m\n\u001b[0;32m-> 1848\u001b[0;31m         cancellation_manager=cancellation_manager)\n\u001b[0m\u001b[1;32m   1849\u001b[0m \u001b[0;34m\u001b[0m\u001b[0m\n\u001b[1;32m   1850\u001b[0m   \u001b[0;32mdef\u001b[0m \u001b[0m_call_flat\u001b[0m\u001b[0;34m(\u001b[0m\u001b[0mself\u001b[0m\u001b[0;34m,\u001b[0m \u001b[0margs\u001b[0m\u001b[0;34m,\u001b[0m \u001b[0mcaptured_inputs\u001b[0m\u001b[0;34m,\u001b[0m \u001b[0mcancellation_manager\u001b[0m\u001b[0;34m=\u001b[0m\u001b[0;32mNone\u001b[0m\u001b[0;34m)\u001b[0m\u001b[0;34m:\u001b[0m\u001b[0;34m\u001b[0m\u001b[0;34m\u001b[0m\u001b[0m\n",
            "\u001b[0;32m/usr/local/lib/python3.6/dist-packages/tensorflow/python/eager/function.py\u001b[0m in \u001b[0;36m_call_flat\u001b[0;34m(self, args, captured_inputs, cancellation_manager)\u001b[0m\n\u001b[1;32m   1922\u001b[0m       \u001b[0;31m# No tape is watching; skip to running the function.\u001b[0m\u001b[0;34m\u001b[0m\u001b[0;34m\u001b[0m\u001b[0;34m\u001b[0m\u001b[0m\n\u001b[1;32m   1923\u001b[0m       return self._build_call_outputs(self._inference_function.call(\n\u001b[0;32m-> 1924\u001b[0;31m           ctx, args, cancellation_manager=cancellation_manager))\n\u001b[0m\u001b[1;32m   1925\u001b[0m     forward_backward = self._select_forward_and_backward_functions(\n\u001b[1;32m   1926\u001b[0m         \u001b[0margs\u001b[0m\u001b[0;34m,\u001b[0m\u001b[0;34m\u001b[0m\u001b[0;34m\u001b[0m\u001b[0m\n",
            "\u001b[0;32m/usr/local/lib/python3.6/dist-packages/tensorflow/python/eager/function.py\u001b[0m in \u001b[0;36mcall\u001b[0;34m(self, ctx, args, cancellation_manager)\u001b[0m\n\u001b[1;32m    548\u001b[0m               \u001b[0minputs\u001b[0m\u001b[0;34m=\u001b[0m\u001b[0margs\u001b[0m\u001b[0;34m,\u001b[0m\u001b[0;34m\u001b[0m\u001b[0;34m\u001b[0m\u001b[0m\n\u001b[1;32m    549\u001b[0m               \u001b[0mattrs\u001b[0m\u001b[0;34m=\u001b[0m\u001b[0mattrs\u001b[0m\u001b[0;34m,\u001b[0m\u001b[0;34m\u001b[0m\u001b[0;34m\u001b[0m\u001b[0m\n\u001b[0;32m--> 550\u001b[0;31m               ctx=ctx)\n\u001b[0m\u001b[1;32m    551\u001b[0m         \u001b[0;32melse\u001b[0m\u001b[0;34m:\u001b[0m\u001b[0;34m\u001b[0m\u001b[0;34m\u001b[0m\u001b[0m\n\u001b[1;32m    552\u001b[0m           outputs = execute.execute_with_cancellation(\n",
            "\u001b[0;32m/usr/local/lib/python3.6/dist-packages/tensorflow/python/eager/execute.py\u001b[0m in \u001b[0;36mquick_execute\u001b[0;34m(op_name, num_outputs, inputs, attrs, ctx, name)\u001b[0m\n\u001b[1;32m     58\u001b[0m     \u001b[0mctx\u001b[0m\u001b[0;34m.\u001b[0m\u001b[0mensure_initialized\u001b[0m\u001b[0;34m(\u001b[0m\u001b[0;34m)\u001b[0m\u001b[0;34m\u001b[0m\u001b[0;34m\u001b[0m\u001b[0m\n\u001b[1;32m     59\u001b[0m     tensors = pywrap_tfe.TFE_Py_Execute(ctx._handle, device_name, op_name,\n\u001b[0;32m---> 60\u001b[0;31m                                         inputs, attrs, num_outputs)\n\u001b[0m\u001b[1;32m     61\u001b[0m   \u001b[0;32mexcept\u001b[0m \u001b[0mcore\u001b[0m\u001b[0;34m.\u001b[0m\u001b[0m_NotOkStatusException\u001b[0m \u001b[0;32mas\u001b[0m \u001b[0me\u001b[0m\u001b[0;34m:\u001b[0m\u001b[0;34m\u001b[0m\u001b[0;34m\u001b[0m\u001b[0m\n\u001b[1;32m     62\u001b[0m     \u001b[0;32mif\u001b[0m \u001b[0mname\u001b[0m \u001b[0;32mis\u001b[0m \u001b[0;32mnot\u001b[0m \u001b[0;32mNone\u001b[0m\u001b[0;34m:\u001b[0m\u001b[0;34m\u001b[0m\u001b[0;34m\u001b[0m\u001b[0m\n",
            "\u001b[0;31mKeyboardInterrupt\u001b[0m: "
          ]
        }
      ]
    },
    {
      "cell_type": "code",
      "metadata": {
        "id": "YLfzRrfe_mBi",
        "colab_type": "code",
        "colab": {}
      },
      "source": [
        ""
      ],
      "execution_count": null,
      "outputs": []
    }
  ]
}