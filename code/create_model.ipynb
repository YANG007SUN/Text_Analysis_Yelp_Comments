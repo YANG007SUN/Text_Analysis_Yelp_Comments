{
  "nbformat": 4,
  "nbformat_minor": 0,
  "metadata": {
    "kernelspec": {
      "display_name": "Python 3",
      "language": "python",
      "name": "python3"
    },
    "language_info": {
      "codemirror_mode": {
        "name": "ipython",
        "version": 3
      },
      "file_extension": ".py",
      "mimetype": "text/x-python",
      "name": "python",
      "nbconvert_exporter": "python",
      "pygments_lexer": "ipython3",
      "version": "3.7.6"
    },
    "colab": {
      "name": "create_model.ipynb",
      "provenance": []
    }
  },
  "cells": [
    {
      "cell_type": "code",
      "metadata": {
        "id": "XY9TOKfodvwH",
        "colab_type": "code",
        "colab": {
          "base_uri": "https://localhost:8080/",
          "height": 340
        },
        "outputId": "731cfaa9-daca-40d2-ba86-5fb80b91863f"
      },
      "source": [
        "import os\n",
        "# Find the latest version of spark 2.0  from http://www-us.apache.org/dist/spark/ and enter as the spark version\n",
        "# For example:\n",
        "spark_version = 'spark-2.4.7'\n",
        "# spark_version = 'spark-2.<enter version>'\n",
        "os.environ['SPARK_VERSION']=spark_version\n",
        "\n",
        "# Install Spark and Java\n",
        "!apt-get update\n",
        "!apt-get install openjdk-8-jdk-headless -qq > /dev/null\n",
        "!wget -q http://www-us.apache.org/dist/spark/$SPARK_VERSION/$SPARK_VERSION-bin-hadoop2.7.tgz\n",
        "!tar xf $SPARK_VERSION-bin-hadoop2.7.tgz\n",
        "!pip install -q findspark\n",
        "\n",
        "# Set Environment Variables\n",
        "os.environ[\"JAVA_HOME\"] = \"/usr/lib/jvm/java-8-openjdk-amd64\"\n",
        "os.environ[\"SPARK_HOME\"] = f\"/content/{spark_version}-bin-hadoop2.7\"\n",
        "\n",
        "# Start a SparkSession\n",
        "import findspark\n",
        "findspark.init()\n",
        "\n"
      ],
      "execution_count": 1,
      "outputs": [
        {
          "output_type": "stream",
          "text": [
            "Get:1 https://cloud.r-project.org/bin/linux/ubuntu bionic-cran35/ InRelease [3,626 B]\n",
            "Ign:2 https://developer.download.nvidia.com/compute/cuda/repos/ubuntu1804/x86_64  InRelease\n",
            "Ign:3 https://developer.download.nvidia.com/compute/machine-learning/repos/ubuntu1804/x86_64  InRelease\n",
            "Hit:4 https://developer.download.nvidia.com/compute/cuda/repos/ubuntu1804/x86_64  Release\n",
            "Hit:5 https://developer.download.nvidia.com/compute/machine-learning/repos/ubuntu1804/x86_64  Release\n",
            "Get:6 http://security.ubuntu.com/ubuntu bionic-security InRelease [88.7 kB]\n",
            "Hit:7 http://ppa.launchpad.net/graphics-drivers/ppa/ubuntu bionic InRelease\n",
            "Hit:9 http://archive.ubuntu.com/ubuntu bionic InRelease\n",
            "Get:11 http://archive.ubuntu.com/ubuntu bionic-updates InRelease [88.7 kB]\n",
            "Get:12 http://ppa.launchpad.net/marutter/c2d4u3.5/ubuntu bionic InRelease [15.4 kB]\n",
            "Get:13 http://archive.ubuntu.com/ubuntu bionic-backports InRelease [74.6 kB]\n",
            "Get:14 http://security.ubuntu.com/ubuntu bionic-security/main amd64 Packages [1,094 kB]\n",
            "Get:15 http://ppa.launchpad.net/marutter/c2d4u3.5/ubuntu bionic/main Sources [1,876 kB]\n",
            "Get:16 http://archive.ubuntu.com/ubuntu bionic-updates/universe amd64 Packages [1,430 kB]\n",
            "Get:17 http://security.ubuntu.com/ubuntu bionic-security/universe amd64 Packages [903 kB]\n",
            "Get:18 http://archive.ubuntu.com/ubuntu bionic-updates/main amd64 Packages [1,385 kB]\n",
            "Get:19 http://ppa.launchpad.net/marutter/c2d4u3.5/ubuntu bionic/main amd64 Packages [906 kB]\n",
            "Fetched 7,866 kB in 6s (1,374 kB/s)\n",
            "Reading package lists... Done\n"
          ],
          "name": "stdout"
        }
      ]
    },
    {
      "cell_type": "code",
      "metadata": {
        "id": "Q5PNfsCGdvwK",
        "colab_type": "code",
        "colab": {}
      },
      "source": [
        "# Start Spark session\n",
        "from pyspark.sql import SparkSession\n",
        "spark = SparkSession.builder.appName(\"YelpReview\").getOrCreate()"
      ],
      "execution_count": 2,
      "outputs": []
    },
    {
      "cell_type": "code",
      "metadata": {
        "id": "vRXeIzKxAbNl",
        "colab_type": "code",
        "colab": {}
      },
      "source": [
        "from pyspark.sql.functions import col, udf,length, size\n",
        "from pyspark.sql.types import StringType"
      ],
      "execution_count": 3,
      "outputs": []
    },
    {
      "cell_type": "markdown",
      "metadata": {
        "id": "_Eo6aW_mIU7v",
        "colab_type": "text"
      },
      "source": [
        "### Data cleaning"
      ]
    },
    {
      "cell_type": "code",
      "metadata": {
        "id": "NaEsSu5HdvwN",
        "colab_type": "code",
        "colab": {
          "base_uri": "https://localhost:8080/",
          "height": 459
        },
        "outputId": "9714fb96-43ab-4b1d-dbb4-e1ba6d92caa5"
      },
      "source": [
        "# Read in data from S3 Buckets\n",
        "from pyspark import SparkFiles\n",
        "url =\"https://usc-bootcamp-yelpreview-text-analysis.s3.us-east-2.amazonaws.com/reviews.csv\"\n",
        "spark.sparkContext.addFile(url)\n",
        "raw_df = spark.read.csv(SparkFiles.get(\"reviews.csv\"), sep=\",\", header=True)\n",
        "\n",
        "# Show DataFrame\n",
        "raw_df.show()"
      ],
      "execution_count": 4,
      "outputs": [
        {
          "output_type": "stream",
          "text": [
            "+--------------------+-------------+------------+\n",
            "|             reviews|       rating|review_count|\n",
            "+--------------------+-------------+------------+\n",
            "|Panda Express was...|5 star rating|          63|\n",
            "|The dude and I ca...|5 star rating|          63|\n",
            "|I ordered 5 total...|1 star rating|          63|\n",
            "|I always order Pa...|3 star rating|          63|\n",
            "|Decided to try Pa...|5 star rating|          63|\n",
            "|I've never had a ...|4 star rating|          63|\n",
            "|The family meal d...|1 star rating|          63|\n",
            "|Quality has sever...|2 star rating|          63|\n",
            "|Paid for a bowl a...|1 star rating|          63|\n",
            "|Order a bowl with...|1 star rating|          63|\n",
            "|Went through the ...|1 star rating|          63|\n",
            "|When I think of p...|2 star rating|          63|\n",
            "|Horrible is a und...|1 star rating|          63|\n",
            "|Yes the drive thr...|2 star rating|          63|\n",
            "|Okay..so Panda is...|4 star rating|          63|\n",
            "|Going through Dri...|2 star rating|          63|\n",
            "|My entrees were a...|2 star rating|          63|\n",
            "|I'm done being ri...|1 star rating|          63|\n",
            "|Worst Panda in Fr...|1 star rating|          63|\n",
            "|I've been in here...|5 star rating|          63|\n",
            "+--------------------+-------------+------------+\n",
            "only showing top 20 rows\n",
            "\n"
          ],
          "name": "stdout"
        }
      ]
    },
    {
      "cell_type": "code",
      "metadata": {
        "id": "6BZ0W3-m8moG",
        "colab_type": "code",
        "colab": {}
      },
      "source": [
        "# new column function - reduce dimension of rating column into 3 categories\n",
        "def rating_category(rating:str)->str:\n",
        "  \"\"\"create new column for label\n",
        "  \"\"\"\n",
        "  if rating in [\"1 star rating\"]:\n",
        "      return \"bad\"\n",
        "  elif rating in [\"2 star rating\", \"3 star rating\"]:\n",
        "      return \"descent\"\n",
        "  else: \n",
        "      return \"good\"\n",
        "\n",
        "assert rating_category(\"1 star rating\")==\"bad\"\n"
      ],
      "execution_count": 5,
      "outputs": []
    },
    {
      "cell_type": "code",
      "metadata": {
        "id": "fXkOnFY-BPTG",
        "colab_type": "code",
        "colab": {
          "base_uri": "https://localhost:8080/",
          "height": 34
        },
        "outputId": "e5586e37-72ef-4788-e2a5-3c5ec50a04ac"
      },
      "source": [
        "# Store a user defined function\n",
        "convert_rating = udf(rating_category, StringType())\n",
        "convert_rating"
      ],
      "execution_count": 6,
      "outputs": [
        {
          "output_type": "execute_result",
          "data": {
            "text/plain": [
              "<function __main__.rating_category>"
            ]
          },
          "metadata": {
            "tags": []
          },
          "execution_count": 6
        }
      ]
    },
    {
      "cell_type": "code",
      "metadata": {
        "id": "8-u1o_de3y1a",
        "colab_type": "code",
        "colab": {
          "base_uri": "https://localhost:8080/",
          "height": 459
        },
        "outputId": "e2f72a40-f704-4036-eec4-700f32e78055"
      },
      "source": [
        "# add new column\n",
        "selected_df = raw_df.withColumn(\"output_label\", convert_rating(col(\"rating\")))\n",
        "selected_df = selected_df.withColumn(\"length\", length(selected_df[\"reviews\"]))\n",
        "selected_df.show()"
      ],
      "execution_count": 14,
      "outputs": [
        {
          "output_type": "stream",
          "text": [
            "+--------------------+-------------+------------+------------+------+\n",
            "|             reviews|       rating|review_count|output_label|length|\n",
            "+--------------------+-------------+------------+------------+------+\n",
            "|Panda Express was...|5 star rating|          63|        good|   334|\n",
            "|The dude and I ca...|5 star rating|          63|        good|   770|\n",
            "|I ordered 5 total...|1 star rating|          63|         bad|   151|\n",
            "|I always order Pa...|3 star rating|          63|     descent|   628|\n",
            "|Decided to try Pa...|5 star rating|          63|        good|   261|\n",
            "|I've never had a ...|4 star rating|          63|        good|   640|\n",
            "|The family meal d...|1 star rating|          63|         bad|   129|\n",
            "|Quality has sever...|2 star rating|          63|     descent|   350|\n",
            "|Paid for a bowl a...|1 star rating|          63|         bad|   158|\n",
            "|Order a bowl with...|1 star rating|          63|         bad|   151|\n",
            "|Went through the ...|1 star rating|          63|         bad|   675|\n",
            "|When I think of p...|2 star rating|          63|     descent|   269|\n",
            "|Horrible is a und...|1 star rating|          63|         bad|   480|\n",
            "|Yes the drive thr...|2 star rating|          63|     descent|   311|\n",
            "|Okay..so Panda is...|4 star rating|          63|        good|  1525|\n",
            "|Going through Dri...|2 star rating|          63|     descent|   653|\n",
            "|My entrees were a...|2 star rating|          63|     descent|   171|\n",
            "|I'm done being ri...|1 star rating|          63|         bad|  1065|\n",
            "|Worst Panda in Fr...|1 star rating|          63|         bad|   417|\n",
            "|I've been in here...|5 star rating|          63|        good|   410|\n",
            "+--------------------+-------------+------------+------------+------+\n",
            "only showing top 20 rows\n",
            "\n"
          ],
          "name": "stdout"
        }
      ]
    },
    {
      "cell_type": "markdown",
      "metadata": {
        "id": "3Gw825XQD9ZR",
        "colab_type": "text"
      },
      "source": [
        "### Feature Transformation"
      ]
    },
    {
      "cell_type": "code",
      "metadata": {
        "id": "r-YLw4x6D3Xi",
        "colab_type": "code",
        "colab": {}
      },
      "source": [
        "from pyspark.ml.feature import Tokenizer, StopWordsRemover, HashingTF, IDF, StringIndexer\n"
      ],
      "execution_count": 15,
      "outputs": []
    },
    {
      "cell_type": "code",
      "metadata": {
        "id": "DZ3s8Aq7vg_p",
        "colab_type": "code",
        "colab": {
          "base_uri": "https://localhost:8080/",
          "height": 459
        },
        "outputId": "fffda801-38d3-4c1f-b87a-2e7342bd2fb2"
      },
      "source": [
        "# create token and remove stop words in order to find out stopwords percentage\n",
        "tokenizer = Tokenizer(inputCol=\"reviews\", outputCol=\"token\")\n",
        "selected_df = tokenizer.transform(selected_df)\n",
        "stop_word_remover = StopWordsRemover(inputCol=\"token\", outputCol=\"filtered_token\")\n",
        "selected_df = stop_word_remover.transform(selected_df)\n",
        "selected_df.show()"
      ],
      "execution_count": 16,
      "outputs": [
        {
          "output_type": "stream",
          "text": [
            "+--------------------+-------------+------------+------------+------+--------------------+--------------------+\n",
            "|             reviews|       rating|review_count|output_label|length|               token|      filtered_token|\n",
            "+--------------------+-------------+------------+------------+------+--------------------+--------------------+\n",
            "|Panda Express was...|5 star rating|          63|        good|   334|[panda, express, ...|[panda, express, ...|\n",
            "|The dude and I ca...|5 star rating|          63|        good|   770|[the, dude, and, ...|[dude, came, pand...|\n",
            "|I ordered 5 total...|1 star rating|          63|         bad|   151|[i, ordered, 5, t...|[ordered, 5, tota...|\n",
            "|I always order Pa...|3 star rating|          63|     descent|   628|[i, always, order...|[always, order, p...|\n",
            "|Decided to try Pa...|5 star rating|          63|        good|   261|[decided, to, try...|[decided, try, pa...|\n",
            "|I've never had a ...|4 star rating|          63|        good|   640|[i've, never, had...|[never, bad, expe...|\n",
            "|The family meal d...|1 star rating|          63|         bad|   129|[the, family, mea...|[family, meal, de...|\n",
            "|Quality has sever...|2 star rating|          63|     descent|   350|[quality, has, se...|[quality, severel...|\n",
            "|Paid for a bowl a...|1 star rating|          63|         bad|   158|[paid, for, a, bo...|[paid, bowl, entr...|\n",
            "|Order a bowl with...|1 star rating|          63|         bad|   151|[order, a, bowl, ...|[order, bowl, cho...|\n",
            "|Went through the ...|1 star rating|          63|         bad|   675|[went, through, t...|[went, drive-thro...|\n",
            "|When I think of p...|2 star rating|          63|     descent|   269|[when, i, think, ...|[think, panda, go...|\n",
            "|Horrible is a und...|1 star rating|          63|         bad|   480|[horrible, is, a,...|[horrible, unders...|\n",
            "|Yes the drive thr...|2 star rating|          63|     descent|   311|[yes, the, drive,...|[yes, drive, fast...|\n",
            "|Okay..so Panda is...|4 star rating|          63|        good|  1525|[okay..so, panda,...|[okay..so, panda,...|\n",
            "|Going through Dri...|2 star rating|          63|     descent|   653|[going, through, ...|[going, drive-thr...|\n",
            "|My entrees were a...|2 star rating|          63|     descent|   171|[my, entrees, wer...|[entrees, poor, s...|\n",
            "|I'm done being ri...|1 star rating|          63|         bad|  1065|[i'm, done, being...|[done, ripped, lo...|\n",
            "|Worst Panda in Fr...|1 star rating|          63|         bad|   417|[worst, panda, in...|[worst, panda, fr...|\n",
            "|I've been in here...|5 star rating|          63|        good|   410|[i've, been, in, ...|[many, times, say...|\n",
            "+--------------------+-------------+------------+------------+------+--------------------+--------------------+\n",
            "only showing top 20 rows\n",
            "\n"
          ],
          "name": "stdout"
        }
      ]
    },
    {
      "cell_type": "code",
      "metadata": {
        "id": "xyh8KYgKwp-n",
        "colab_type": "code",
        "colab": {
          "base_uri": "https://localhost:8080/",
          "height": 459
        },
        "outputId": "b5bf6e56-f47b-4c8d-9ab8-474c674f7bdc"
      },
      "source": [
        "selected_df = selected_df.withColumn(\"stopwords_count\", size(selected_df[\"filtered_token\"]))\n",
        "selected_df = selected_df.withColumn(\"stopwords_percent\", selected_df[\"stopwords_count\"]/selected_df[\"length\"])\n",
        "selected_df.show()"
      ],
      "execution_count": 18,
      "outputs": [
        {
          "output_type": "stream",
          "text": [
            "+--------------------+-------------+------------+------------+------+--------------------+--------------------+---------------+-------------------+\n",
            "|             reviews|       rating|review_count|output_label|length|               token|      filtered_token|stopwords_count|  stopwords_percent|\n",
            "+--------------------+-------------+------------+------------+------+--------------------+--------------------+---------------+-------------------+\n",
            "|Panda Express was...|5 star rating|          63|        good|   334|[panda, express, ...|[panda, express, ...|             37|0.11077844311377245|\n",
            "|The dude and I ca...|5 star rating|          63|        good|   770|[the, dude, and, ...|[dude, came, pand...|             80| 0.1038961038961039|\n",
            "|I ordered 5 total...|1 star rating|          63|         bad|   151|[i, ordered, 5, t...|[ordered, 5, tota...|             22| 0.1456953642384106|\n",
            "|I always order Pa...|3 star rating|          63|     descent|   628|[i, always, order...|[always, order, p...|             60|0.09554140127388536|\n",
            "|Decided to try Pa...|5 star rating|          63|        good|   261|[decided, to, try...|[decided, try, pa...|             32|0.12260536398467432|\n",
            "|I've never had a ...|4 star rating|          63|        good|   640|[i've, never, had...|[never, bad, expe...|             60|            0.09375|\n",
            "|The family meal d...|1 star rating|          63|         bad|   129|[the, family, mea...|[family, meal, de...|             13|0.10077519379844961|\n",
            "|Quality has sever...|2 star rating|          63|     descent|   350|[quality, has, se...|[quality, severel...|             48|0.13714285714285715|\n",
            "|Paid for a bowl a...|1 star rating|          63|         bad|   158|[paid, for, a, bo...|[paid, bowl, entr...|             18|0.11392405063291139|\n",
            "|Order a bowl with...|1 star rating|          63|         bad|   151|[order, a, bowl, ...|[order, bowl, cho...|             19|0.12582781456953643|\n",
            "|Went through the ...|1 star rating|          63|         bad|   675|[went, through, t...|[went, drive-thro...|             62|0.09185185185185185|\n",
            "|When I think of p...|2 star rating|          63|     descent|   269|[when, i, think, ...|[think, panda, go...|             28|0.10408921933085502|\n",
            "|Horrible is a und...|1 star rating|          63|         bad|   480|[horrible, is, a,...|[horrible, unders...|             45|            0.09375|\n",
            "|Yes the drive thr...|2 star rating|          63|     descent|   311|[yes, the, drive,...|[yes, drive, fast...|             32|0.10289389067524116|\n",
            "|Okay..so Panda is...|4 star rating|          63|        good|  1525|[okay..so, panda,...|[okay..so, panda,...|            149|0.09770491803278689|\n",
            "|Going through Dri...|2 star rating|          63|     descent|   653|[going, through, ...|[going, drive-thr...|             64|0.09800918836140889|\n",
            "|My entrees were a...|2 star rating|          63|     descent|   171|[my, entrees, wer...|[entrees, poor, s...|             21|0.12280701754385964|\n",
            "|I'm done being ri...|1 star rating|          63|         bad|  1065|[i'm, done, being...|[done, ripped, lo...|            106|0.09953051643192488|\n",
            "|Worst Panda in Fr...|1 star rating|          63|         bad|   417|[worst, panda, in...|[worst, panda, fr...|             47|0.11270983213429256|\n",
            "|I've been in here...|5 star rating|          63|        good|   410|[i've, been, in, ...|[many, times, say...|             37|0.09024390243902439|\n",
            "+--------------------+-------------+------------+------------+------+--------------------+--------------------+---------------+-------------------+\n",
            "only showing top 20 rows\n",
            "\n"
          ],
          "name": "stdout"
        }
      ]
    },
    {
      "cell_type": "code",
      "metadata": {
        "id": "Qz57Y3xxEHRJ",
        "colab_type": "code",
        "colab": {}
      },
      "source": [
        "# create all features to the dataset\n",
        "label_encoder = StringIndexer(inputCol=\"output_label\", outputCol=\"label\")\n",
        "hasher = HashingTF(inputCol=\"filtered_token\", outputCol=\"hashed_token\")\n",
        "idf = IDF(inputCol=\"hashed_token\", outputCol=\"idf_token\")\n"
      ],
      "execution_count": 19,
      "outputs": []
    },
    {
      "cell_type": "code",
      "metadata": {
        "id": "NmeYECzrEHTd",
        "colab_type": "code",
        "colab": {}
      },
      "source": [
        "from pyspark.ml.feature import VectorAssembler\n",
        "from pyspark.ml.linalg import Vector\n",
        "\n",
        "# Create feature vectors\n",
        "vectorizer = VectorAssembler(inputCols = [\"idf_token\", \"length\",\"stopwords_percent\"], outputCol = \"features\")\n"
      ],
      "execution_count": 20,
      "outputs": []
    },
    {
      "cell_type": "markdown",
      "metadata": {
        "id": "E4U-I2I6FTV9",
        "colab_type": "text"
      },
      "source": [
        "### Create a Pipeline to Automate The Data Transformations"
      ]
    },
    {
      "cell_type": "code",
      "metadata": {
        "id": "v6EGuPcMFVop",
        "colab_type": "code",
        "colab": {}
      },
      "source": [
        "# Create a and run a data processing Pipeline\n",
        "from pyspark.ml import Pipeline\n",
        "pipeline = Pipeline(stages=[label_encoder, hasher, idf, vectorizer])\n"
      ],
      "execution_count": 21,
      "outputs": []
    },
    {
      "cell_type": "code",
      "metadata": {
        "id": "KONh1TWZFVrh",
        "colab_type": "code",
        "colab": {
          "base_uri": "https://localhost:8080/",
          "height": 479
        },
        "outputId": "e56f1d13-72cb-4c21-d14f-9bf5dbed0200"
      },
      "source": [
        "# fit and transform data with pipeline\n",
        "pipeline_model = pipeline.fit(selected_df)\n",
        "cleaned_df = pipeline_model.transform(selected_df)\n",
        "cleaned_df.show()"
      ],
      "execution_count": 22,
      "outputs": [
        {
          "output_type": "stream",
          "text": [
            "+--------------------+-------------+------------+------------+------+--------------------+--------------------+---------------+-------------------+-----+--------------------+--------------------+--------------------+\n",
            "|             reviews|       rating|review_count|output_label|length|               token|      filtered_token|stopwords_count|  stopwords_percent|label|        hashed_token|           idf_token|            features|\n",
            "+--------------------+-------------+------------+------------+------+--------------------+--------------------+---------------+-------------------+-----+--------------------+--------------------+--------------------+\n",
            "|Panda Express was...|5 star rating|          63|        good|   334|[panda, express, ...|[panda, express, ...|             37|0.11077844311377245|  1.0|(262144,[2711,610...|(262144,[2711,610...|(262146,[2711,610...|\n",
            "|The dude and I ca...|5 star rating|          63|        good|   770|[the, dude, and, ...|[dude, came, pand...|             80| 0.1038961038961039|  1.0|(262144,[9090,131...|(262144,[9090,131...|(262146,[9090,131...|\n",
            "|I ordered 5 total...|1 star rating|          63|         bad|   151|[i, ordered, 5, t...|[ordered, 5, tota...|             22| 0.1456953642384106|  0.0|(262144,[4402,978...|(262144,[4402,978...|(262146,[4402,978...|\n",
            "|I always order Pa...|3 star rating|          63|     descent|   628|[i, always, order...|[always, order, p...|             60|0.09554140127388536|  2.0|(262144,[329,2325...|(262144,[329,2325...|(262146,[329,2325...|\n",
            "|Decided to try Pa...|5 star rating|          63|        good|   261|[decided, to, try...|[decided, try, pa...|             32|0.12260536398467432|  1.0|(262144,[8086,335...|(262144,[8086,335...|(262146,[8086,335...|\n",
            "|I've never had a ...|4 star rating|          63|        good|   640|[i've, never, had...|[never, bad, expe...|             60|            0.09375|  1.0|(262144,[78,8287,...|(262144,[78,8287,...|(262146,[78,8287,...|\n",
            "|The family meal d...|1 star rating|          63|         bad|   129|[the, family, mea...|[family, meal, de...|             13|0.10077519379844961|  0.0|(262144,[19153,49...|(262144,[19153,49...|(262146,[19153,49...|\n",
            "|Quality has sever...|2 star rating|          63|     descent|   350|[quality, has, se...|[quality, severel...|             48|0.13714285714285715|  2.0|(262144,[16595,28...|(262144,[16595,28...|(262146,[16595,28...|\n",
            "|Paid for a bowl a...|1 star rating|          63|         bad|   158|[paid, for, a, bo...|[paid, bowl, entr...|             18|0.11392405063291139|  0.0|(262144,[15664,20...|(262144,[15664,20...|(262146,[15664,20...|\n",
            "|Order a bowl with...|1 star rating|          63|         bad|   151|[order, a, bowl, ...|[order, bowl, cho...|             19|0.12582781456953643|  0.0|(262144,[5381,172...|(262144,[5381,172...|(262146,[5381,172...|\n",
            "|Went through the ...|1 star rating|          63|         bad|   675|[went, through, t...|[went, drive-thro...|             62|0.09185185185185185|  0.0|(262144,[329,2325...|(262144,[329,2325...|(262146,[329,2325...|\n",
            "|When I think of p...|2 star rating|          63|     descent|   269|[when, i, think, ...|[think, panda, go...|             28|0.10408921933085502|  2.0|(262144,[78,2437,...|(262144,[78,2437,...|(262146,[78,2437,...|\n",
            "|Horrible is a und...|1 star rating|          63|         bad|   480|[horrible, is, a,...|[horrible, unders...|             45|            0.09375|  0.0|(262144,[4402,137...|(262144,[4402,137...|(262146,[4402,137...|\n",
            "|Yes the drive thr...|2 star rating|          63|     descent|   311|[yes, the, drive,...|[yes, drive, fast...|             32|0.10289389067524116|  2.0|(262144,[6796,172...|(262144,[6796,172...|(262146,[6796,172...|\n",
            "|Okay..so Panda is...|4 star rating|          63|        good|  1525|[okay..so, panda,...|[okay..so, panda,...|            149|0.09770491803278689|  1.0|(262144,[2437,755...|(262144,[2437,755...|(262146,[2437,755...|\n",
            "|Going through Dri...|2 star rating|          63|     descent|   653|[going, through, ...|[going, drive-thr...|             64|0.09800918836140889|  2.0|(262144,[2410,124...|(262144,[2410,124...|(262146,[2410,124...|\n",
            "|My entrees were a...|2 star rating|          63|     descent|   171|[my, entrees, wer...|[entrees, poor, s...|             21|0.12280701754385964|  2.0|(262144,[16091,31...|(262144,[16091,31...|(262146,[16091,31...|\n",
            "|I'm done being ri...|1 star rating|          63|         bad|  1065|[i'm, done, being...|[done, ripped, lo...|            106|0.09953051643192488|  0.0|(262144,[8985,134...|(262144,[8985,134...|(262146,[8985,134...|\n",
            "|Worst Panda in Fr...|1 star rating|          63|         bad|   417|[worst, panda, in...|[worst, panda, fr...|             47|0.11270983213429256|  0.0|(262144,[1536,232...|(262144,[1536,232...|(262146,[1536,232...|\n",
            "|I've been in here...|5 star rating|          63|        good|   410|[i've, been, in, ...|[many, times, say...|             37|0.09024390243902439|  1.0|(262144,[553,1489...|(262144,[553,1489...|(262146,[553,1489...|\n",
            "+--------------------+-------------+------------+------------+------+--------------------+--------------------+---------------+-------------------+-----+--------------------+--------------------+--------------------+\n",
            "only showing top 20 rows\n",
            "\n"
          ],
          "name": "stdout"
        }
      ]
    },
    {
      "cell_type": "markdown",
      "metadata": {
        "id": "72XEtR0OG0S4",
        "colab_type": "text"
      },
      "source": [
        "### Create training and testing dataset"
      ]
    },
    {
      "cell_type": "code",
      "metadata": {
        "id": "kYGmr5jgFV3q",
        "colab_type": "code",
        "colab": {}
      },
      "source": [
        "from pyspark.ml.classification import NaiveBayes\n",
        "\n",
        "# Break data down into a training set and a testing set\n",
        "training, testing = cleaned_df.randomSplit([0.7, 0.3], seed = 43)"
      ],
      "execution_count": 23,
      "outputs": []
    },
    {
      "cell_type": "markdown",
      "metadata": {
        "id": "py6Vy9ymHL4x",
        "colab_type": "text"
      },
      "source": [
        "### Fit and predict NaiveBaye model"
      ]
    },
    {
      "cell_type": "code",
      "metadata": {
        "id": "vALxGjKCFVy5",
        "colab_type": "code",
        "colab": {}
      },
      "source": [
        "# Create a Naive Bayes model and fit training data\n",
        "model = NaiveBayes()\n",
        "predictor = model.fit(training)\n"
      ],
      "execution_count": 24,
      "outputs": []
    },
    {
      "cell_type": "code",
      "metadata": {
        "id": "cFzzWBfUFVuU",
        "colab_type": "code",
        "colab": {
          "base_uri": "https://localhost:8080/",
          "height": 224
        },
        "outputId": "a2ea3786-8960-419e-9c7e-b96c405d7fa9"
      },
      "source": [
        "# Tranform the model with the testing data\n",
        "test_results = predictor.transform(testing)\n",
        "test_results.show(5)"
      ],
      "execution_count": 25,
      "outputs": [
        {
          "output_type": "stream",
          "text": [
            "+--------------------+-------------+------------+------------+------+--------------------+--------------------+---------------+-------------------+-----+--------------------+--------------------+--------------------+--------------------+--------------------+----------+\n",
            "|             reviews|       rating|review_count|output_label|length|               token|      filtered_token|stopwords_count|  stopwords_percent|label|        hashed_token|           idf_token|            features|       rawPrediction|         probability|prediction|\n",
            "+--------------------+-------------+------------+------------+------+--------------------+--------------------+---------------+-------------------+-----+--------------------+--------------------+--------------------+--------------------+--------------------+----------+\n",
            "|\"\"\"I never want t...|2 star rating|          29|     descent|  1410|[\"\"\"i, never, wan...|[\"\"\"i, never, wan...|            141|                0.1|  2.0|(262144,[14,4200,...|(262144,[14,4200,...|(262146,[14,4200,...|[-6054.9391900640...|[4.10747369219546...|       2.0|\n",
            "|\"\"\"No soup for yo...|1 star rating|         150|         bad|   272|[\"\"\"no, soup, for...|[\"\"\"no, soup, you...|             32|0.11764705882352941|  0.0|(262144,[1739,537...|(262144,[1739,537...|(262146,[1739,537...|[-2052.7273710531...|[5.66068646322026...|       2.0|\n",
            "|\"\"\"Panda\"\" says m...|4 star rating|          46|        good|   342|[\"\"\"panda\"\", says...|[\"\"\"panda\"\", says...|             36|0.10526315789473684|  1.0|(262144,[13781,21...|(262144,[13781,21...|(262146,[13781,21...|[-1480.2518794328...|[0.01504984992804...|       2.0|\n",
            "|\"\"\"There is much ...|1 star rating|          37|         bad|  1685|[\"\"\"there, is, mu...|[\"\"\"there, much, ...|            158|0.09376854599406528|  0.0|(262144,[512,929,...|(262144,[512,929,...|(262146,[512,929,...|[-7877.0789455567...|[1.0,5.1868540122...|       0.0|\n",
            "|\"(5/2/2018)  Stop...|3 star rating|          41|     descent|  1372|[\"(5/2/2018),  st...|[\"(5/2/2018),  st...|            140|0.10204081632653061|  2.0|(262144,[1854,232...|(262144,[1854,232...|(262146,[1854,232...|[-9527.8320339369...|[2.63553734785716...|       2.0|\n",
            "+--------------------+-------------+------------+------------+------+--------------------+--------------------+---------------+-------------------+-----+--------------------+--------------------+--------------------+--------------------+--------------------+----------+\n",
            "only showing top 5 rows\n",
            "\n"
          ],
          "name": "stdout"
        }
      ]
    },
    {
      "cell_type": "code",
      "metadata": {
        "id": "ld09ZCgsHvqa",
        "colab_type": "code",
        "colab": {
          "base_uri": "https://localhost:8080/",
          "height": 34
        },
        "outputId": "8891728e-2036-4ade-da77-908a7a60b03b"
      },
      "source": [
        "# Use the Class Evaluator for a cleaner description\n",
        "from pyspark.ml.evaluation import MulticlassClassificationEvaluator\n",
        "\n",
        "acc_eval = MulticlassClassificationEvaluator()\n",
        "acc = acc_eval.evaluate(test_results)\n",
        "print(\"Accuracy of model at predicting reviews was: %f\" % acc)"
      ],
      "execution_count": 26,
      "outputs": [
        {
          "output_type": "stream",
          "text": [
            "Accuracy of model at predicting reviews was: 0.671084\n"
          ],
          "name": "stdout"
        }
      ]
    },
    {
      "cell_type": "code",
      "metadata": {
        "id": "xNYnmYCKdvwV",
        "colab_type": "code",
        "colab": {}
      },
      "source": [
        ""
      ],
      "execution_count": null,
      "outputs": []
    }
  ]
}